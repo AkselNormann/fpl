{
 "cells": [
  {
   "cell_type": "markdown",
   "metadata": {},
   "source": [
    "# First Look at FPL Data\n",
    "\n",
    "In this file, I will look through all the data avialble through the FPL webiste. Here is a list of all files to be investigated:\n",
    "\n",
    "- bootstrap-static\n",
    "- element-summary\n",
    "- element-types\n",
    "- elements\n",
    "- events\n",
    "- fixtures\n",
    "- region\n",
    "- teams\n",
    "\n",
    "## File Format\n",
    "Before diving into anything, it's worth noting that all the data available from the FPL website is stored using the JSON (JavaScript Object Notation) format. JSON is a text-based method of storing data and data structures, and uses and attribute-value pair system. Types of data which can be stored in JSON files are numbers, strings, booleans, arrays and objects. Objects can store entire new data structures, and objects can be stored within other objects and arrays. This means data structures can be easily nested.\n",
    "\n",
    "In order to convert JSON files into a readable format to work with, we need to import the JSON package."
   ]
  },
  {
   "cell_type": "code",
   "execution_count": 1,
   "metadata": {},
   "outputs": [],
   "source": [
    "import json"
   ]
  },
  {
   "cell_type": "markdown",
   "metadata": {},
   "source": [
    "Now we can begin investigating the files downloaded through the FPL \n",
    "\n",
    "## bootstrap-static"
   ]
  },
  {
   "cell_type": "code",
   "execution_count": 11,
   "metadata": {},
   "outputs": [],
   "source": [
    "with open('../../data/json/bootstrap-static/bootstrap-static.json', 'r') as f:\n",
    "    bootstrap_static_json = json.load(f)"
   ]
  },
  {
   "cell_type": "markdown",
   "metadata": {},
   "source": [
    "First we need to look at what format the data has been read in as."
   ]
  },
  {
   "cell_type": "code",
   "execution_count": 16,
   "metadata": {},
   "outputs": [
    {
     "data": {
      "text/plain": [
       "dict"
      ]
     },
     "execution_count": 16,
     "metadata": {},
     "output_type": "execute_result"
    }
   ],
   "source": [
    "type(bootstrap_static_json)"
   ]
  },
  {
   "cell_type": "markdown",
   "metadata": {},
   "source": [
    "As the data current a dictionary, it's worth looking at the names of the keys and "
   ]
  }
 ],
 "metadata": {
  "kernelspec": {
   "display_name": "Python 3",
   "language": "python",
   "name": "python3"
  },
  "language_info": {
   "codemirror_mode": {
    "name": "ipython",
    "version": 3
   },
   "file_extension": ".py",
   "mimetype": "text/x-python",
   "name": "python",
   "nbconvert_exporter": "python",
   "pygments_lexer": "ipython3",
   "version": "3.7.3"
  }
 },
 "nbformat": 4,
 "nbformat_minor": 2
}
