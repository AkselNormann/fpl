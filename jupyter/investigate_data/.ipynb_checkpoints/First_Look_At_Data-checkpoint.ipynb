{
 "cells": [
  {
   "cell_type": "markdown",
   "metadata": {},
   "source": [
    "# First Look at FPL Data\n",
    "\n",
    "In this file, I will look through all the data avialble through the FPL webiste. Here is a list of all files to be investigated:\n",
    "\n",
    "- bootstrap-static\n",
    "- element-summary\n",
    "- element-types\n",
    "- elements\n",
    "- events\n",
    "- fixtures\n",
    "- region\n",
    "- teams\n",
    "\n",
    "## File Format\n",
    "Before diving into anything, it's worth noting that all the data available from the FPL website is stored using the JSON (JavaScript Object Notation) format. JSON is a text-based method of storing data and data structures, and uses and attribute-value pair system. Types of data which can be stored in JSON files are numbers, strings, booleans, arrays and objects. Objects can store entire new data structures, and objects can be stored within other objects and arrays. This means data structures can be easily nested.\n",
    "\n",
    "In order to convert JSON files into a readable format to work with, we need to import the JSON package."
   ]
  },
  {
   "cell_type": "code",
   "execution_count": 1,
   "metadata": {},
   "outputs": [],
   "source": [
    "import json"
   ]
  },
  {
   "cell_type": "markdown",
   "metadata": {},
   "source": [
    "Now we can begin investigating the files downloaded through the FPL \n",
    "\n",
    "## bootstrap-static"
   ]
  },
  {
   "cell_type": "code",
   "execution_count": 2,
   "metadata": {},
   "outputs": [],
   "source": [
    "with open('../../data/json/bootstrap-static/bootstrap-static.json', 'r') as f:\n",
    "    bootstrap_static_json = json.load(f)"
   ]
  },
  {
   "cell_type": "markdown",
   "metadata": {},
   "source": [
    "First we need to look at what format the data has been read in as."
   ]
  },
  {
   "cell_type": "code",
   "execution_count": 3,
   "metadata": {},
   "outputs": [
    {
     "data": {
      "text/plain": [
       "dict"
      ]
     },
     "execution_count": 3,
     "metadata": {},
     "output_type": "execute_result"
    }
   ],
   "source": [
    "type(bootstrap_static_json)"
   ]
  },
  {
   "cell_type": "markdown",
   "metadata": {},
   "source": [
    "As the data current a dictionary, it's worth looking at the keys and listing them."
   ]
  },
  {
   "cell_type": "code",
   "execution_count": 4,
   "metadata": {},
   "outputs": [
    {
     "name": "stdout",
     "output_type": "stream",
     "text": [
      "['phases', 'elements', 'stats', 'game-settings', 'current-event', 'total-players', 'teams', 'element_types', 'last-entry-event', 'stats_options', 'next_event_fixtures', 'events', 'next-event']\n"
     ]
    }
   ],
   "source": [
    "bootstrap_keys = list(bootstrap_static_json.keys())\n",
    "print(bootstrap_keys)"
   ]
  },
  {
   "cell_type": "markdown",
   "metadata": {},
   "source": [
    "### phases\n",
    "\n",
    "To enhance readability for these data structures, it will be handy to convert them into Pandas DataFrames. This requires us to import the pandas package.\n",
    "\n",
    "We will convert __phases__ to a DataFrame and use the head command to look at a snapshot of the values."
   ]
  },
  {
   "cell_type": "code",
   "execution_count": 5,
   "metadata": {
    "scrolled": false
   },
   "outputs": [
    {
     "data": {
      "text/html": [
       "<div>\n",
       "<style scoped>\n",
       "    .dataframe tbody tr th:only-of-type {\n",
       "        vertical-align: middle;\n",
       "    }\n",
       "\n",
       "    .dataframe tbody tr th {\n",
       "        vertical-align: top;\n",
       "    }\n",
       "\n",
       "    .dataframe thead th {\n",
       "        text-align: right;\n",
       "    }\n",
       "</style>\n",
       "<table border=\"1\" class=\"dataframe\">\n",
       "  <thead>\n",
       "    <tr style=\"text-align: right;\">\n",
       "      <th></th>\n",
       "      <th>id</th>\n",
       "      <th>name</th>\n",
       "      <th>num_winners</th>\n",
       "      <th>start_event</th>\n",
       "      <th>stop_event</th>\n",
       "    </tr>\n",
       "  </thead>\n",
       "  <tbody>\n",
       "    <tr>\n",
       "      <th>0</th>\n",
       "      <td>1</td>\n",
       "      <td>Overall</td>\n",
       "      <td>3</td>\n",
       "      <td>1</td>\n",
       "      <td>38</td>\n",
       "    </tr>\n",
       "    <tr>\n",
       "      <th>1</th>\n",
       "      <td>2</td>\n",
       "      <td>August</td>\n",
       "      <td>10</td>\n",
       "      <td>1</td>\n",
       "      <td>3</td>\n",
       "    </tr>\n",
       "    <tr>\n",
       "      <th>2</th>\n",
       "      <td>3</td>\n",
       "      <td>September</td>\n",
       "      <td>10</td>\n",
       "      <td>4</td>\n",
       "      <td>7</td>\n",
       "    </tr>\n",
       "    <tr>\n",
       "      <th>3</th>\n",
       "      <td>4</td>\n",
       "      <td>October</td>\n",
       "      <td>10</td>\n",
       "      <td>8</td>\n",
       "      <td>10</td>\n",
       "    </tr>\n",
       "    <tr>\n",
       "      <th>4</th>\n",
       "      <td>5</td>\n",
       "      <td>November</td>\n",
       "      <td>10</td>\n",
       "      <td>11</td>\n",
       "      <td>14</td>\n",
       "    </tr>\n",
       "  </tbody>\n",
       "</table>\n",
       "</div>"
      ],
      "text/plain": [
       "   id       name  num_winners  start_event  stop_event\n",
       "0   1    Overall            3            1          38\n",
       "1   2     August           10            1           3\n",
       "2   3  September           10            4           7\n",
       "3   4    October           10            8          10\n",
       "4   5   November           10           11          14"
      ]
     },
     "execution_count": 5,
     "metadata": {},
     "output_type": "execute_result"
    }
   ],
   "source": [
    "import pandas as pd\n",
    "pd.DataFrame(bootstrap_static_json['phases']).head()"
   ]
  },
  {
   "cell_type": "markdown",
   "metadata": {},
   "source": [
    "The __phases__ data appears to split the season by calendar month. The __num_winners__ describes the number of people eligible for prizes from each phase. The __start_event__ and __stop_event__ describe the range of gameweeks which cover the month. This particular set of data won't be useful for our model.\n",
    "\n",
    "### elements"
   ]
  },
  {
   "cell_type": "code",
   "execution_count": 6,
   "metadata": {},
   "outputs": [
    {
     "data": {
      "text/plain": [
       "(624, 58)"
      ]
     },
     "execution_count": 6,
     "metadata": {},
     "output_type": "execute_result"
    }
   ],
   "source": [
    "elements = pd.DataFrame(bootstrap_static_json['elements'])\n",
    "elements.shape"
   ]
  },
  {
   "cell_type": "markdown",
   "metadata": {},
   "source": [
    "The __elements__ structure contains summary information on all the selections. Each row belongs to a different selection. We can see using the _shape_ function that there are 624 selections and 58 columns describing different aspects of the selection."
   ]
  },
  {
   "cell_type": "code",
   "execution_count": 7,
   "metadata": {},
   "outputs": [
    {
     "data": {
      "text/html": [
       "<div>\n",
       "<style scoped>\n",
       "    .dataframe tbody tr th:only-of-type {\n",
       "        vertical-align: middle;\n",
       "    }\n",
       "\n",
       "    .dataframe tbody tr th {\n",
       "        vertical-align: top;\n",
       "    }\n",
       "\n",
       "    .dataframe thead th {\n",
       "        text-align: right;\n",
       "    }\n",
       "</style>\n",
       "<table border=\"1\" class=\"dataframe\">\n",
       "  <thead>\n",
       "    <tr style=\"text-align: right;\">\n",
       "      <th></th>\n",
       "      <th>assists</th>\n",
       "      <th>bonus</th>\n",
       "      <th>bps</th>\n",
       "      <th>chance_of_playing_next_round</th>\n",
       "      <th>chance_of_playing_this_round</th>\n",
       "      <th>clean_sheets</th>\n",
       "      <th>code</th>\n",
       "      <th>cost_change_event</th>\n",
       "      <th>cost_change_event_fall</th>\n",
       "      <th>cost_change_start</th>\n",
       "      <th>...</th>\n",
       "      <th>threat</th>\n",
       "      <th>total_points</th>\n",
       "      <th>transfers_in</th>\n",
       "      <th>transfers_in_event</th>\n",
       "      <th>transfers_out</th>\n",
       "      <th>transfers_out_event</th>\n",
       "      <th>value_form</th>\n",
       "      <th>value_season</th>\n",
       "      <th>web_name</th>\n",
       "      <th>yellow_cards</th>\n",
       "    </tr>\n",
       "  </thead>\n",
       "  <tbody>\n",
       "    <tr>\n",
       "      <th>0</th>\n",
       "      <td>0</td>\n",
       "      <td>3</td>\n",
       "      <td>130</td>\n",
       "      <td>100.0</td>\n",
       "      <td>100.0</td>\n",
       "      <td>1</td>\n",
       "      <td>11334</td>\n",
       "      <td>0</td>\n",
       "      <td>0</td>\n",
       "      <td>-3</td>\n",
       "      <td>...</td>\n",
       "      <td>0.0</td>\n",
       "      <td>24</td>\n",
       "      <td>83497</td>\n",
       "      <td>0</td>\n",
       "      <td>136211</td>\n",
       "      <td>0</td>\n",
       "      <td>0.0</td>\n",
       "      <td>5.1</td>\n",
       "      <td>Cech</td>\n",
       "      <td>0</td>\n",
       "    </tr>\n",
       "    <tr>\n",
       "      <th>1</th>\n",
       "      <td>0</td>\n",
       "      <td>5</td>\n",
       "      <td>568</td>\n",
       "      <td>NaN</td>\n",
       "      <td>NaN</td>\n",
       "      <td>6</td>\n",
       "      <td>80201</td>\n",
       "      <td>0</td>\n",
       "      <td>0</td>\n",
       "      <td>-1</td>\n",
       "      <td>...</td>\n",
       "      <td>0.0</td>\n",
       "      <td>106</td>\n",
       "      <td>339095</td>\n",
       "      <td>0</td>\n",
       "      <td>250834</td>\n",
       "      <td>0</td>\n",
       "      <td>0.5</td>\n",
       "      <td>21.6</td>\n",
       "      <td>Leno</td>\n",
       "      <td>0</td>\n",
       "    </tr>\n",
       "    <tr>\n",
       "      <th>2</th>\n",
       "      <td>0</td>\n",
       "      <td>8</td>\n",
       "      <td>319</td>\n",
       "      <td>100.0</td>\n",
       "      <td>100.0</td>\n",
       "      <td>3</td>\n",
       "      <td>51507</td>\n",
       "      <td>0</td>\n",
       "      <td>0</td>\n",
       "      <td>-1</td>\n",
       "      <td>...</td>\n",
       "      <td>105.0</td>\n",
       "      <td>62</td>\n",
       "      <td>128478</td>\n",
       "      <td>0</td>\n",
       "      <td>92187</td>\n",
       "      <td>0</td>\n",
       "      <td>0.1</td>\n",
       "      <td>11.5</td>\n",
       "      <td>Koscielny</td>\n",
       "      <td>1</td>\n",
       "    </tr>\n",
       "    <tr>\n",
       "      <th>3</th>\n",
       "      <td>5</td>\n",
       "      <td>5</td>\n",
       "      <td>304</td>\n",
       "      <td>0.0</td>\n",
       "      <td>0.0</td>\n",
       "      <td>4</td>\n",
       "      <td>98745</td>\n",
       "      <td>0</td>\n",
       "      <td>0</td>\n",
       "      <td>-2</td>\n",
       "      <td>...</td>\n",
       "      <td>280.0</td>\n",
       "      <td>60</td>\n",
       "      <td>567084</td>\n",
       "      <td>0</td>\n",
       "      <td>1143684</td>\n",
       "      <td>0</td>\n",
       "      <td>0.0</td>\n",
       "      <td>11.3</td>\n",
       "      <td>Bellerín</td>\n",
       "      <td>3</td>\n",
       "    </tr>\n",
       "    <tr>\n",
       "      <th>4</th>\n",
       "      <td>4</td>\n",
       "      <td>7</td>\n",
       "      <td>392</td>\n",
       "      <td>100.0</td>\n",
       "      <td>100.0</td>\n",
       "      <td>5</td>\n",
       "      <td>38411</td>\n",
       "      <td>0</td>\n",
       "      <td>0</td>\n",
       "      <td>-1</td>\n",
       "      <td>...</td>\n",
       "      <td>224.0</td>\n",
       "      <td>77</td>\n",
       "      <td>298216</td>\n",
       "      <td>0</td>\n",
       "      <td>290921</td>\n",
       "      <td>0</td>\n",
       "      <td>0.3</td>\n",
       "      <td>14.3</td>\n",
       "      <td>Monreal</td>\n",
       "      <td>5</td>\n",
       "    </tr>\n",
       "  </tbody>\n",
       "</table>\n",
       "<p>5 rows × 58 columns</p>\n",
       "</div>"
      ],
      "text/plain": [
       "   assists  bonus  bps  chance_of_playing_next_round  \\\n",
       "0        0      3  130                         100.0   \n",
       "1        0      5  568                           NaN   \n",
       "2        0      8  319                         100.0   \n",
       "3        5      5  304                           0.0   \n",
       "4        4      7  392                         100.0   \n",
       "\n",
       "   chance_of_playing_this_round  clean_sheets   code  cost_change_event  \\\n",
       "0                         100.0             1  11334                  0   \n",
       "1                           NaN             6  80201                  0   \n",
       "2                         100.0             3  51507                  0   \n",
       "3                           0.0             4  98745                  0   \n",
       "4                         100.0             5  38411                  0   \n",
       "\n",
       "   cost_change_event_fall  cost_change_start  ...  threat total_points  \\\n",
       "0                       0                 -3  ...     0.0           24   \n",
       "1                       0                 -1  ...     0.0          106   \n",
       "2                       0                 -1  ...   105.0           62   \n",
       "3                       0                 -2  ...   280.0           60   \n",
       "4                       0                 -1  ...   224.0           77   \n",
       "\n",
       "   transfers_in  transfers_in_event  transfers_out transfers_out_event  \\\n",
       "0         83497                   0         136211                   0   \n",
       "1        339095                   0         250834                   0   \n",
       "2        128478                   0          92187                   0   \n",
       "3        567084                   0        1143684                   0   \n",
       "4        298216                   0         290921                   0   \n",
       "\n",
       "  value_form  value_season   web_name yellow_cards  \n",
       "0        0.0           5.1       Cech            0  \n",
       "1        0.5          21.6       Leno            0  \n",
       "2        0.1          11.5  Koscielny            1  \n",
       "3        0.0          11.3   Bellerín            3  \n",
       "4        0.3          14.3    Monreal            5  \n",
       "\n",
       "[5 rows x 58 columns]"
      ]
     },
     "execution_count": 7,
     "metadata": {},
     "output_type": "execute_result"
    }
   ],
   "source": [
    "elements.head()"
   ]
  },
  {
   "cell_type": "markdown",
   "metadata": {},
   "source": [
    "This dataset will have some constant values such as Name and ID, but most are updated on a week-by-week basis, such as total points, goals, clean sheets, influence, creativity, etc. Therefore, all values here will be representative of an enitre season. We are more interested in the breakdown of stats week by week, so I don't believe this will be useful.\n",
    "\n",
    "### stats"
   ]
  },
  {
   "cell_type": "code",
   "execution_count": 8,
   "metadata": {},
   "outputs": [
    {
     "data": {
      "text/html": [
       "<div>\n",
       "<style scoped>\n",
       "    .dataframe tbody tr th:only-of-type {\n",
       "        vertical-align: middle;\n",
       "    }\n",
       "\n",
       "    .dataframe tbody tr th {\n",
       "        vertical-align: top;\n",
       "    }\n",
       "\n",
       "    .dataframe thead th {\n",
       "        text-align: right;\n",
       "    }\n",
       "</style>\n",
       "<table border=\"1\" class=\"dataframe\">\n",
       "  <thead>\n",
       "    <tr style=\"text-align: right;\">\n",
       "      <th></th>\n",
       "      <th>headings</th>\n",
       "      <th>categories</th>\n",
       "    </tr>\n",
       "  </thead>\n",
       "  <tbody>\n",
       "    <tr>\n",
       "      <th>0</th>\n",
       "      <td>{'category': None, 'field': 'minutes', 'abbr':...</td>\n",
       "      <td>None</td>\n",
       "    </tr>\n",
       "    <tr>\n",
       "      <th>1</th>\n",
       "      <td>{'category': None, 'field': 'goals_scored', 'a...</td>\n",
       "      <td>None</td>\n",
       "    </tr>\n",
       "    <tr>\n",
       "      <th>2</th>\n",
       "      <td>{'category': None, 'field': 'assists', 'abbr':...</td>\n",
       "      <td>None</td>\n",
       "    </tr>\n",
       "    <tr>\n",
       "      <th>3</th>\n",
       "      <td>{'category': None, 'field': 'clean_sheets', 'a...</td>\n",
       "      <td>None</td>\n",
       "    </tr>\n",
       "    <tr>\n",
       "      <th>4</th>\n",
       "      <td>{'category': None, 'field': 'goals_conceded', ...</td>\n",
       "      <td>None</td>\n",
       "    </tr>\n",
       "  </tbody>\n",
       "</table>\n",
       "</div>"
      ],
      "text/plain": [
       "                                            headings categories\n",
       "0  {'category': None, 'field': 'minutes', 'abbr':...       None\n",
       "1  {'category': None, 'field': 'goals_scored', 'a...       None\n",
       "2  {'category': None, 'field': 'assists', 'abbr':...       None\n",
       "3  {'category': None, 'field': 'clean_sheets', 'a...       None\n",
       "4  {'category': None, 'field': 'goals_conceded', ...       None"
      ]
     },
     "execution_count": 8,
     "metadata": {},
     "output_type": "execute_result"
    }
   ],
   "source": [
    "stats = pd.DataFrame(bootstrap_static_json['stats'])\n",
    "stats.head()"
   ]
  },
  {
   "cell_type": "markdown",
   "metadata": {},
   "source": [
    "The __stats__ dataset contains another nested dataset called __headings__, and a column of None values named __categories__. The __categories__ are not of use, so we need to investigate the __headings__ dataset."
   ]
  },
  {
   "cell_type": "code",
   "execution_count": 9,
   "metadata": {},
   "outputs": [
    {
     "data": {
      "text/html": [
       "<div>\n",
       "<style scoped>\n",
       "    .dataframe tbody tr th:only-of-type {\n",
       "        vertical-align: middle;\n",
       "    }\n",
       "\n",
       "    .dataframe tbody tr th {\n",
       "        vertical-align: top;\n",
       "    }\n",
       "\n",
       "    .dataframe thead th {\n",
       "        text-align: right;\n",
       "    }\n",
       "</style>\n",
       "<table border=\"1\" class=\"dataframe\">\n",
       "  <thead>\n",
       "    <tr style=\"text-align: right;\">\n",
       "      <th></th>\n",
       "      <th>abbr</th>\n",
       "      <th>category</th>\n",
       "      <th>field</th>\n",
       "      <th>label</th>\n",
       "    </tr>\n",
       "  </thead>\n",
       "  <tbody>\n",
       "    <tr>\n",
       "      <th>0</th>\n",
       "      <td>None</td>\n",
       "      <td>None</td>\n",
       "      <td>minutes</td>\n",
       "      <td>Minutes played</td>\n",
       "    </tr>\n",
       "    <tr>\n",
       "      <th>1</th>\n",
       "      <td>None</td>\n",
       "      <td>None</td>\n",
       "      <td>goals_scored</td>\n",
       "      <td>Goals scored</td>\n",
       "    </tr>\n",
       "    <tr>\n",
       "      <th>2</th>\n",
       "      <td>None</td>\n",
       "      <td>None</td>\n",
       "      <td>assists</td>\n",
       "      <td>Assists</td>\n",
       "    </tr>\n",
       "    <tr>\n",
       "      <th>3</th>\n",
       "      <td>None</td>\n",
       "      <td>None</td>\n",
       "      <td>clean_sheets</td>\n",
       "      <td>Clean sheets</td>\n",
       "    </tr>\n",
       "    <tr>\n",
       "      <th>4</th>\n",
       "      <td>None</td>\n",
       "      <td>None</td>\n",
       "      <td>goals_conceded</td>\n",
       "      <td>Goals conceded</td>\n",
       "    </tr>\n",
       "  </tbody>\n",
       "</table>\n",
       "</div>"
      ],
      "text/plain": [
       "   abbr category           field           label\n",
       "0  None     None         minutes  Minutes played\n",
       "1  None     None    goals_scored    Goals scored\n",
       "2  None     None         assists         Assists\n",
       "3  None     None    clean_sheets    Clean sheets\n",
       "4  None     None  goals_conceded  Goals conceded"
      ]
     },
     "execution_count": 9,
     "metadata": {},
     "output_type": "execute_result"
    }
   ],
   "source": [
    "stats_headings = pd.DataFrame(bootstrap_static_json['stats']['headings'])\n",
    "stats_headings.head()"
   ]
  },
  {
   "cell_type": "markdown",
   "metadata": {},
   "source": [
    "These are the stats which can be used to sort players in the web API when performing transfers. These won't be useful.\n",
    "\n",
    "### game_settings\n",
    "\n",
    "The game settings field is a dictionary data type, and contains information regarding rules of the game."
   ]
  },
  {
   "cell_type": "code",
   "execution_count": 33,
   "metadata": {
    "scrolled": false
   },
   "outputs": [
    {
     "name": "stdout",
     "output_type": "stream",
     "text": [
      "['game', 'element_type']\n"
     ]
    }
   ],
   "source": [
    "gs = bootstrap_static_json['game-settings']\n",
    "print(list(gs.keys()))"
   ]
  },
  {
   "cell_type": "markdown",
   "metadata": {},
   "source": [
    "Looking at the keys, we can see one is for __game__, and the other if for __element_type__. The __game__ field containts all static game values independent of element_type (player position). The __element_type__ contains game rules which are position dependent (eg. points for a goal, clean sheet, etc.). Let us take a look at the data within __game__."
   ]
  },
  {
   "cell_type": "code",
   "execution_count": 38,
   "metadata": {
    "scrolled": true
   },
   "outputs": [
    {
     "name": "stdout",
     "output_type": "stream",
     "text": [
      "scoring_ea_index : 0\n",
      "league_prefix_public : League\n",
      "bps_tackles : 2\n",
      "league_h2h_tiebreak : +goals_scored||-goals_conceded\n",
      "scoring_long_play : 2\n",
      "bps_recoveries_limit : 3\n",
      "facebook_app_id : 337309029685327\n",
      "bps_tackled : -1\n",
      "bps_errors_leading_to_goal : -3\n",
      "bps_yellow_cards : -3\n",
      "ui_el_hide_currency_qi : True\n",
      "scoring_bonus : 1\n",
      "transfers_cost : 4\n",
      "default_formation : [[0, 1, 0, 2, 0], [3, 4, 5, 6, 7], [8, 9, 10, 11, 12], [0, 13, 14, 15, 0]]\n",
      "bps_long_play : 6\n",
      "bps_long_play_limit : 60\n",
      "scoring_assists : 3\n",
      "scoring_long_play_limit : 60\n",
      "ui_special_shirt_exclusions : []\n",
      "fifa_league_id : 454539\n",
      "league_size_classic_max : 20\n",
      "scoring_red_cards : -3\n",
      "scoring_creativity : 0\n",
      "game_timezone : Europe/London\n",
      "static_game_url : /static/compass/plfpl/desktop/\n",
      "currency_symbol : £\n",
      "bps_target_missed : -1\n",
      "bps_penalties_saved : 15\n",
      "ui_use_special_shirts : False\n",
      "support_email_address : plfpl@mailout.fantasy.premierleague.com\n",
      "cup_start_event_id : 17\n",
      "scoring_penalties_saved : 5\n",
      "scoring_threat : 0\n",
      "scoring_saves : 1\n",
      "league_join_private_max : 15\n",
      "scoring_short_play : 1\n",
      "sys_use_event_live_api : True\n",
      "scoring_concede_limit : 2\n",
      "bps_key_passes : 1\n",
      "bps_clearances_blocks_interceptions : 1\n",
      "bps_pass_percentage_90 : 6\n",
      "bps_big_chances_missed : -3\n",
      "league_max_ko_rounds_h2h : 3\n",
      "bps_open_play_crosses : 1\n",
      "league_points_h2h_win : 3\n",
      "bps_saves : 2\n",
      "bps_cbi_limit : 2\n",
      "league_size_h2h_max : 20\n",
      "sys_vice_captain_enabled : True\n",
      "squad_squadplay : 11\n",
      "bps_fouls : -1\n",
      "squad_squadsize : 15\n",
      "ui_selection_short_team_names : True\n",
      "transfers_sell_on_fee : 0.5\n",
      "transfers_type : cost\n",
      "scoring_ict_index : 0\n",
      "bps_pass_percentage_80 : 4\n",
      "bps_own_goals : -6\n",
      "scoring_yellow_cards : -1\n",
      "bps_pass_percentage_70 : 2\n",
      "ui_show_home_away : True\n",
      "ui_el_hide_currency_sy : True\n",
      "bps_assists : 9\n",
      "squad_team_limit : 3\n",
      "league_points_h2h_draw : 1\n",
      "transfers_limit : 1\n",
      "bps_dribbles : 1\n",
      "bps_offside : -1\n",
      "sys_cdn_cache_enabled : True\n",
      "currency_multiplier : 10\n",
      "bps_red_cards : -9\n",
      "bps_winning_goals : 3\n",
      "league_join_public_max : 3\n",
      "formations : {'1-5-2-3': [[0, 0, 1, 0, 0], [2, 3, 4, 5, 6], [0, 7, 0, 8, 0], [9, 0, 10, 0, 11], [12, 0, 13, 14, 15]], '1-5-3-2': [[0, 0, 1, 0, 0], [2, 3, 4, 5, 6], [7, 0, 8, 0, 9], [0, 10, 0, 11, 0], [12, 0, 13, 14, 15]], '1-3-5-2': [[0, 0, 1, 0, 0], [0, 2, 3, 4, 0], [5, 6, 7, 8, 9], [0, 10, 0, 11, 0], [12, 0, 13, 14, 15]], '1-2-5-3': [[0, 0, 1, 0, 0], [0, 2, 0, 3, 0], [4, 5, 6, 7, 8], [9, 0, 10, 0, 11], [12, 0, 13, 14, 15]], '1-4-5-1': [[0, 0, 1, 0, 0], [2, 3, 0, 4, 5], [6, 7, 8, 9, 10], [0, 0, 11, 0, 0], [12, 0, 13, 14, 15]], '1-5-4-1': [[0, 0, 1, 0, 0], [2, 3, 4, 5, 6], [7, 8, 0, 9, 10], [0, 0, 11, 0, 0], [12, 0, 13, 14, 15]], '1-4-3-3': [[0, 0, 1, 0, 0], [2, 3, 0, 4, 5], [0, 6, 7, 8, 0], [9, 0, 10, 0, 11], [12, 0, 13, 14, 15]], '1-3-4-3': [[0, 0, 1, 0, 0], [0, 2, 3, 4, 0], [5, 6, 0, 7, 8], [0, 9, 10, 11, 0], [12, 0, 13, 14, 15]], '1-4-4-2': [[0, 0, 1, 0, 0], [2, 3, 0, 4, 5], [6, 7, 0, 8, 9], [0, 10, 0, 11, 0], [12, 0, 13, 14, 15]]}\n",
      "league_points_h2h_lose : 0\n",
      "currency_decimal_places : 1\n",
      "bps_errors_leading_to_goal_attempt : -1\n",
      "ui_selection_price_gap : 5\n",
      "bps_big_chances_created : 3\n",
      "ui_selection_player_limit : 30\n",
      "bps_attempted_passes_limit : 30\n",
      "scoring_penalties_missed : -2\n",
      "photo_base_url : /static/plfpl/img/shirts/photos/\n",
      "scoring_bps : 0\n",
      "scoring_influence : 0\n",
      "bps_penalties_conceded : -3\n",
      "scoring_own_goals : -2\n",
      "squad_total_spend : 1000\n",
      "bps_short_play : 3\n",
      "ui_element_wrap : 0\n",
      "bps_recoveries : 1\n",
      "bps_penalties_missed : -6\n",
      "scoring_saves_limit : 3\n"
     ]
    }
   ],
   "source": [
    "for n in list(gs['game'].keys()):\n",
    "    print(n + \" : \" + str(gs['game'][n]))"
   ]
  },
  {
   "cell_type": "code",
   "execution_count": null,
   "metadata": {},
   "outputs": [],
   "source": []
  }
 ],
 "metadata": {
  "kernelspec": {
   "display_name": "Python 3",
   "language": "python",
   "name": "python3"
  },
  "language_info": {
   "codemirror_mode": {
    "name": "ipython",
    "version": 3
   },
   "file_extension": ".py",
   "mimetype": "text/x-python",
   "name": "python",
   "nbconvert_exporter": "python",
   "pygments_lexer": "ipython3",
   "version": "3.7.3"
  }
 },
 "nbformat": 4,
 "nbformat_minor": 2
}
