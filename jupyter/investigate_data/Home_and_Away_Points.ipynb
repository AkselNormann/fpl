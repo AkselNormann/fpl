{
 "cells": [
  {
   "cell_type": "markdown",
   "metadata": {},
   "source": [
    "# Influence of home/away fixtures on points\n",
    "\n",
    "In this script, I will look at the distribution of points between home and away fixtures.\n",
    "\n",
    "#### Import packages"
   ]
  },
  {
   "cell_type": "code",
   "execution_count": 1,
   "metadata": {},
   "outputs": [],
   "source": [
    "import pandas as pd\n",
    "import numpy as np\n",
    "import matplotlib.pyplot as plt\n",
    "from scipy import stats\n",
    "import seaborn as sns"
   ]
  },
  {
   "cell_type": "markdown",
   "metadata": {},
   "source": [
    "#### Histogram Outline fucntion to allow better viewing of histogram overlays"
   ]
  },
  {
   "cell_type": "code",
   "execution_count": 2,
   "metadata": {},
   "outputs": [],
   "source": [
    "import numpy as np\n",
    "\n",
    "def histOutline(dataIn, *args, **kwargs):\n",
    "    (histIn, binsIn) = np.histogram(dataIn, *args, **kwargs)\n",
    "\n",
    "    stepSize = binsIn[1] - binsIn[0]\n",
    "\n",
    "    bins = np.zeros(len(binsIn)*2 + 2, dtype=np.float)\n",
    "    data = np.zeros(len(binsIn)*2 + 2, dtype=np.float)\n",
    "    for bb in range(len(binsIn)):\n",
    "        bins[2*bb + 1] = binsIn[bb]\n",
    "        bins[2*bb + 2] = binsIn[bb] + stepSize\n",
    "        if bb < len(histIn):\n",
    "            data[2*bb + 1] = histIn[bb]\n",
    "            data[2*bb + 2] = histIn[bb]\n",
    "\n",
    "    bins[0] = bins[1]\n",
    "    bins[-1] = bins[-2]\n",
    "    data[0] = 0\n",
    "    data[-1] = 0\n",
    "\n",
    "    return (bins, data)"
   ]
  },
  {
   "cell_type": "markdown",
   "metadata": {},
   "source": [
    "#### Read files"
   ]
  },
  {
   "cell_type": "code",
   "execution_count": 3,
   "metadata": {},
   "outputs": [
    {
     "data": {
      "text/html": [
       "<div>\n",
       "<style scoped>\n",
       "    .dataframe tbody tr th:only-of-type {\n",
       "        vertical-align: middle;\n",
       "    }\n",
       "\n",
       "    .dataframe tbody tr th {\n",
       "        vertical-align: top;\n",
       "    }\n",
       "\n",
       "    .dataframe thead th {\n",
       "        text-align: right;\n",
       "    }\n",
       "</style>\n",
       "<table border=\"1\" class=\"dataframe\">\n",
       "  <thead>\n",
       "    <tr style=\"text-align: right;\">\n",
       "      <th></th>\n",
       "      <th>id</th>\n",
       "      <th>kickoff_time</th>\n",
       "      <th>kickoff_time_formatted</th>\n",
       "      <th>team_h_score</th>\n",
       "      <th>team_a_score</th>\n",
       "      <th>was_home</th>\n",
       "      <th>round</th>\n",
       "      <th>total_points</th>\n",
       "      <th>value</th>\n",
       "      <th>transfers_balance</th>\n",
       "      <th>...</th>\n",
       "      <th>offside</th>\n",
       "      <th>target_missed</th>\n",
       "      <th>fouls</th>\n",
       "      <th>dribbles</th>\n",
       "      <th>element</th>\n",
       "      <th>fixture</th>\n",
       "      <th>opponent_team</th>\n",
       "      <th>team</th>\n",
       "      <th>element_type</th>\n",
       "      <th>element_name</th>\n",
       "    </tr>\n",
       "  </thead>\n",
       "  <tbody>\n",
       "    <tr>\n",
       "      <th>0</th>\n",
       "      <td>1</td>\n",
       "      <td>2018-08-12T15:00:00Z</td>\n",
       "      <td>12 Aug 16:00</td>\n",
       "      <td>0</td>\n",
       "      <td>2</td>\n",
       "      <td>True</td>\n",
       "      <td>1</td>\n",
       "      <td>3</td>\n",
       "      <td>50</td>\n",
       "      <td>0</td>\n",
       "      <td>...</td>\n",
       "      <td>0</td>\n",
       "      <td>0</td>\n",
       "      <td>0</td>\n",
       "      <td>0</td>\n",
       "      <td>0</td>\n",
       "      <td>0</td>\n",
       "      <td>12</td>\n",
       "      <td>0</td>\n",
       "      <td>0</td>\n",
       "      <td>Cech</td>\n",
       "    </tr>\n",
       "    <tr>\n",
       "      <th>1</th>\n",
       "      <td>526</td>\n",
       "      <td>2018-08-18T16:30:00Z</td>\n",
       "      <td>18 Aug 17:30</td>\n",
       "      <td>3</td>\n",
       "      <td>2</td>\n",
       "      <td>False</td>\n",
       "      <td>2</td>\n",
       "      <td>3</td>\n",
       "      <td>50</td>\n",
       "      <td>188</td>\n",
       "      <td>...</td>\n",
       "      <td>0</td>\n",
       "      <td>0</td>\n",
       "      <td>0</td>\n",
       "      <td>0</td>\n",
       "      <td>0</td>\n",
       "      <td>13</td>\n",
       "      <td>5</td>\n",
       "      <td>0</td>\n",
       "      <td>0</td>\n",
       "      <td>Cech</td>\n",
       "    </tr>\n",
       "    <tr>\n",
       "      <th>2</th>\n",
       "      <td>1053</td>\n",
       "      <td>2018-08-25T14:00:00Z</td>\n",
       "      <td>25 Aug 15:00</td>\n",
       "      <td>3</td>\n",
       "      <td>1</td>\n",
       "      <td>True</td>\n",
       "      <td>3</td>\n",
       "      <td>3</td>\n",
       "      <td>50</td>\n",
       "      <td>8540</td>\n",
       "      <td>...</td>\n",
       "      <td>0</td>\n",
       "      <td>0</td>\n",
       "      <td>0</td>\n",
       "      <td>0</td>\n",
       "      <td>0</td>\n",
       "      <td>20</td>\n",
       "      <td>18</td>\n",
       "      <td>0</td>\n",
       "      <td>0</td>\n",
       "      <td>Cech</td>\n",
       "    </tr>\n",
       "    <tr>\n",
       "      <th>3</th>\n",
       "      <td>1584</td>\n",
       "      <td>2018-09-02T12:30:00Z</td>\n",
       "      <td>02 Sep 13:30</td>\n",
       "      <td>2</td>\n",
       "      <td>3</td>\n",
       "      <td>False</td>\n",
       "      <td>4</td>\n",
       "      <td>1</td>\n",
       "      <td>50</td>\n",
       "      <td>9582</td>\n",
       "      <td>...</td>\n",
       "      <td>0</td>\n",
       "      <td>0</td>\n",
       "      <td>0</td>\n",
       "      <td>0</td>\n",
       "      <td>0</td>\n",
       "      <td>32</td>\n",
       "      <td>4</td>\n",
       "      <td>0</td>\n",
       "      <td>0</td>\n",
       "      <td>Cech</td>\n",
       "    </tr>\n",
       "    <tr>\n",
       "      <th>4</th>\n",
       "      <td>2121</td>\n",
       "      <td>2018-09-15T14:00:00Z</td>\n",
       "      <td>15 Sep 15:00</td>\n",
       "      <td>1</td>\n",
       "      <td>2</td>\n",
       "      <td>False</td>\n",
       "      <td>5</td>\n",
       "      <td>2</td>\n",
       "      <td>50</td>\n",
       "      <td>-3297</td>\n",
       "      <td>...</td>\n",
       "      <td>0</td>\n",
       "      <td>0</td>\n",
       "      <td>0</td>\n",
       "      <td>0</td>\n",
       "      <td>0</td>\n",
       "      <td>45</td>\n",
       "      <td>14</td>\n",
       "      <td>0</td>\n",
       "      <td>0</td>\n",
       "      <td>Cech</td>\n",
       "    </tr>\n",
       "  </tbody>\n",
       "</table>\n",
       "<p>5 rows × 57 columns</p>\n",
       "</div>"
      ],
      "text/plain": [
       "     id          kickoff_time kickoff_time_formatted  team_h_score  \\\n",
       "0     1  2018-08-12T15:00:00Z           12 Aug 16:00             0   \n",
       "1   526  2018-08-18T16:30:00Z           18 Aug 17:30             3   \n",
       "2  1053  2018-08-25T14:00:00Z           25 Aug 15:00             3   \n",
       "3  1584  2018-09-02T12:30:00Z           02 Sep 13:30             2   \n",
       "4  2121  2018-09-15T14:00:00Z           15 Sep 15:00             1   \n",
       "\n",
       "   team_a_score  was_home  round  total_points  value  transfers_balance  ...  \\\n",
       "0             2      True      1             3     50                  0  ...   \n",
       "1             2     False      2             3     50                188  ...   \n",
       "2             1      True      3             3     50               8540  ...   \n",
       "3             3     False      4             1     50               9582  ...   \n",
       "4             2     False      5             2     50              -3297  ...   \n",
       "\n",
       "   offside  target_missed  fouls  dribbles  element  fixture  opponent_team  \\\n",
       "0        0              0      0         0        0        0             12   \n",
       "1        0              0      0         0        0       13              5   \n",
       "2        0              0      0         0        0       20             18   \n",
       "3        0              0      0         0        0       32              4   \n",
       "4        0              0      0         0        0       45             14   \n",
       "\n",
       "   team  element_type  element_name  \n",
       "0     0             0          Cech  \n",
       "1     0             0          Cech  \n",
       "2     0             0          Cech  \n",
       "3     0             0          Cech  \n",
       "4     0             0          Cech  \n",
       "\n",
       "[5 rows x 57 columns]"
      ]
     },
     "execution_count": 3,
     "metadata": {},
     "output_type": "execute_result"
    }
   ],
   "source": [
    "data = pd.read_csv('../../data/csv/data01_full.csv')\n",
    "data.head()"
   ]
  },
  {
   "cell_type": "code",
   "execution_count": 4,
   "metadata": {},
   "outputs": [
    {
     "name": "stdout",
     "output_type": "stream",
     "text": [
      "(21790, 57)\n"
     ]
    }
   ],
   "source": [
    "print(data.shape)"
   ]
  },
  {
   "cell_type": "code",
   "execution_count": 5,
   "metadata": {},
   "outputs": [
    {
     "name": "stdout",
     "output_type": "stream",
     "text": [
      "7626.499999999999\n",
      "9805.5\n"
     ]
    }
   ],
   "source": [
    "print(len(data)*0.35)\n",
    "print(len(data)*0.45)"
   ]
  },
  {
   "cell_type": "markdown",
   "metadata": {},
   "source": [
    "#### Filter players\n",
    "Look at only players who have played more than 59 minutes, and split by home/away matches. Players are awarded 0 points for not playing, 1 point for playing 1-59 minutes, and 2 points for playing 60+ minutes."
   ]
  },
  {
   "cell_type": "code",
   "execution_count": 6,
   "metadata": {},
   "outputs": [],
   "source": [
    "# Choose only players with >= 60 minutes, and separate by home and away.\n",
    "valid_players = data[data['minutes']>=60]\n",
    "home_players = valid_players[valid_players['was_home']]\n",
    "away_players = valid_players[~valid_players['was_home']]"
   ]
  },
  {
   "cell_type": "markdown",
   "metadata": {},
   "source": [
    "Plot results"
   ]
  },
  {
   "cell_type": "code",
   "execution_count": 8,
   "metadata": {},
   "outputs": [
    {
     "data": {
      "image/png": "[encoded data removed]",
      "text/plain": [
       "<Figure size 864x576 with 1 Axes>"
      ]
     },
     "metadata": {
      "needs_background": "light"
     },
     "output_type": "display_data"
    }
   ],
   "source": [
    "plt.figure(figsize=(12,8))\n",
    "val_min = np.min(valid_players['total_points'])\n",
    "val_max = np.max(valid_players['total_points'])\n",
    "val_range = val_max-val_min\n",
    "\n",
    "bins = np.linspace(val_min-0.5, val_max+0.5, val_range+2)\n",
    "bin_centre = np.linspace(val_min, val_max, val_range+1)\n",
    "\n",
    "(b_h, n_h) = histOutline(home_players['total_points'], bins=bins);\n",
    "n_h = n_h/len(home_players)\n",
    "plt.plot(b_h, n_h);\n",
    "\n",
    "(b_a, n_a) = histOutline(away_players['total_points'], bins=bins);\n",
    "n_a = n_a/len(away_players)\n",
    "plt.plot(b_a, n_a);\n",
    "\n",
    "plt.legend(['home', 'away']);\n",
    "plt.xlabel('Points');\n",
    "plt.ylabel('Relative Frequency of Points');"
   ]
  },
  {
   "cell_type": "code",
   "execution_count": 65,
   "metadata": {},
   "outputs": [
    {
     "data": {
      "image/png": "[encoded data removed]",
      "text/plain": [
       "<Figure size 288x432 with 1 Axes>"
      ]
     },
     "metadata": {
      "needs_background": "light"
     },
     "output_type": "display_data"
    }
   ],
   "source": [
    "fig = plt.figure(figsize=(4,6))\n",
    "ax = fig.add_subplot(1,1,1)\n",
    "\n",
    "data = [home_players['total_points'].values, away_players['total_points'].values]\n",
    "\n",
    "bplot = plt.boxplot(data, widths=0.6, patch_artist=True, showmeans=True, meanline=True, showfliers=False)\n",
    "\n",
    "for median in bplot['medians']:\n",
    "    median.set(color='k', linewidth=2,)\n",
    "    \n",
    "for mean in bplot['means']:\n",
    "    mean.set(color='k', linewidth=1.25,)\n",
    "    \n",
    "colors = ['lightblue', 'pink']\n",
    "for patch, color in zip(bplot['boxes'], colors):\n",
    "    patch.set_facecolor(color)\n",
    "\n",
    "plt.xticks([1,2], ['Home', 'Away'])\n",
    "plt.ylabel('Points')\n",
    "plt.grid(True, c=(.8,.8,.8), lw=1)\n",
    "plt.savefig('../../data/figures/home_away_points.svg', format='svg')\n",
    "plt.savefig('../../data/figures/home_away_points.png', format='png')"
   ]
  },
  {
   "cell_type": "code",
   "execution_count": 8,
   "metadata": {},
   "outputs": [],
   "source": [
    "home_stats = home_players['total_points'].describe()\n",
    "away_stats = away_players['total_points'].describe()\n",
    "\n",
    "stats = pd.DataFrame()\n",
    "stats['home'] = home_stats\n",
    "stats['away'] = away_stats\n",
    "stats.head(15)\n",
    "stats.to_html('../../data/html/home_away_points.html')"
   ]
  },
  {
   "cell_type": "markdown",
   "metadata": {},
   "source": [
    "#### Separate by Position"
   ]
  },
  {
   "cell_type": "code",
   "execution_count": 9,
   "metadata": {},
   "outputs": [
    {
     "data": {
      "image/png": "[encoded data removed]",
      "text/plain": [
       "<Figure size 864x864 with 4 Axes>"
      ]
     },
     "metadata": {
      "needs_background": "light"
     },
     "output_type": "display_data"
    }
   ],
   "source": [
    "fig,ax = plt.subplots(2,2, figsize=(12,12))\n",
    "\n",
    "n_points_or_less = np.zeros((4,3), dtype='float')\n",
    "more_than_n_points = np.zeros((4,3), dtype='float')\n",
    "\n",
    "n = 2\n",
    "\n",
    "positions = ['GKP', 'DEF', 'MID', 'FWD']\n",
    "\n",
    "for i in range(0,4):\n",
    "    [x,y] = np.unravel_index(i, (2,2))\n",
    "    \n",
    "    valid_players_position = valid_players.loc[valid_players['element_type']==i,:]\n",
    "    home_players_position = home_players.loc[home_players['element_type']==i,:]\n",
    "    away_players_position = away_players.loc[away_players['element_type']==i,:]\n",
    "                                             \n",
    "    (b_h, n_h) = histOutline(home_players_position['total_points'], bins=bins);\n",
    "    n_h = n_h / len(home_players_position)\n",
    "    ax[x,y].plot(b_h, n_h)\n",
    "    \n",
    "    (b_a, n_a) = histOutline(away_players_position['total_points'], bins=bins);\n",
    "    n_a = n_a/len(away_players_position)\n",
    "    ax[x,y].plot(b_a, n_a)\n",
    "    \n",
    "    ax[x,y].legend(['home', 'away'])\n",
    "    ax[x,y].set_xlabel('Points')\n",
    "    ax[x,y].set_title(positions[i])\n",
    "    \n",
    "    n_points_or_less[i,0] = sum(valid_players_position['total_points']<=n)/len(valid_players_position)\n",
    "    n_points_or_less[i,1] = sum(home_players_position['total_points']<=n)/len(home_players_position)\n",
    "    n_points_or_less[i,2] = sum(away_players_position['total_points']<=n)/len(away_players_position)\n",
    "    \n",
    "    more_than_n_points[i,0] = sum(valid_players_position['total_points']>n)/len(valid_players_position)\n",
    "    more_than_n_points[i,1] = sum(home_players_position['total_points']>n)/len(home_players_position)\n",
    "    more_than_n_points[i,2] = sum(away_players_position['total_points']>n)/len(away_players_position)\n",
    "    "
   ]
  },
  {
   "cell_type": "code",
   "execution_count": 10,
   "metadata": {},
   "outputs": [
    {
     "data": {
      "text/html": [
       "<div>\n",
       "<style scoped>\n",
       "    .dataframe tbody tr th:only-of-type {\n",
       "        vertical-align: middle;\n",
       "    }\n",
       "\n",
       "    .dataframe tbody tr th {\n",
       "        vertical-align: top;\n",
       "    }\n",
       "\n",
       "    .dataframe thead th {\n",
       "        text-align: right;\n",
       "    }\n",
       "</style>\n",
       "<table border=\"1\" class=\"dataframe\">\n",
       "  <thead>\n",
       "    <tr style=\"text-align: right;\">\n",
       "      <th></th>\n",
       "      <th>overall</th>\n",
       "      <th>home</th>\n",
       "      <th>away</th>\n",
       "    </tr>\n",
       "  </thead>\n",
       "  <tbody>\n",
       "    <tr>\n",
       "      <th>GKP</th>\n",
       "      <td>50.791557</td>\n",
       "      <td>49.735450</td>\n",
       "      <td>51.842105</td>\n",
       "    </tr>\n",
       "    <tr>\n",
       "      <th>DEF</th>\n",
       "      <td>65.238402</td>\n",
       "      <td>61.344538</td>\n",
       "      <td>69.107258</td>\n",
       "    </tr>\n",
       "    <tr>\n",
       "      <th>MID</th>\n",
       "      <td>56.351690</td>\n",
       "      <td>52.416824</td>\n",
       "      <td>60.262009</td>\n",
       "    </tr>\n",
       "    <tr>\n",
       "      <th>FWD</th>\n",
       "      <td>61.336254</td>\n",
       "      <td>59.012876</td>\n",
       "      <td>63.758389</td>\n",
       "    </tr>\n",
       "  </tbody>\n",
       "</table>\n",
       "</div>"
      ],
      "text/plain": [
       "       overall       home       away\n",
       "GKP  50.791557  49.735450  51.842105\n",
       "DEF  65.238402  61.344538  69.107258\n",
       "MID  56.351690  52.416824  60.262009\n",
       "FWD  61.336254  59.012876  63.758389"
      ]
     },
     "execution_count": 10,
     "metadata": {},
     "output_type": "execute_result"
    }
   ],
   "source": [
    "n_points_or_less_df = pd.DataFrame(100*n_points_or_less, columns=['overall', 'home', 'away'], index=positions)\n",
    "n_points_or_less_df.head()"
   ]
  },
  {
   "cell_type": "code",
   "execution_count": 11,
   "metadata": {},
   "outputs": [
    {
     "data": {
      "text/html": [
       "<div>\n",
       "<style scoped>\n",
       "    .dataframe tbody tr th:only-of-type {\n",
       "        vertical-align: middle;\n",
       "    }\n",
       "\n",
       "    .dataframe tbody tr th {\n",
       "        vertical-align: top;\n",
       "    }\n",
       "\n",
       "    .dataframe thead th {\n",
       "        text-align: right;\n",
       "    }\n",
       "</style>\n",
       "<table border=\"1\" class=\"dataframe\">\n",
       "  <thead>\n",
       "    <tr style=\"text-align: right;\">\n",
       "      <th></th>\n",
       "      <th>overall</th>\n",
       "      <th>home</th>\n",
       "      <th>away</th>\n",
       "    </tr>\n",
       "  </thead>\n",
       "  <tbody>\n",
       "    <tr>\n",
       "      <th>GKP</th>\n",
       "      <td>49.208443</td>\n",
       "      <td>50.264550</td>\n",
       "      <td>48.157895</td>\n",
       "    </tr>\n",
       "    <tr>\n",
       "      <th>DEF</th>\n",
       "      <td>34.761598</td>\n",
       "      <td>38.655462</td>\n",
       "      <td>30.892742</td>\n",
       "    </tr>\n",
       "    <tr>\n",
       "      <th>MID</th>\n",
       "      <td>43.648310</td>\n",
       "      <td>47.583176</td>\n",
       "      <td>39.737991</td>\n",
       "    </tr>\n",
       "    <tr>\n",
       "      <th>FWD</th>\n",
       "      <td>38.663746</td>\n",
       "      <td>40.987124</td>\n",
       "      <td>36.241611</td>\n",
       "    </tr>\n",
       "  </tbody>\n",
       "</table>\n",
       "</div>"
      ],
      "text/plain": [
       "       overall       home       away\n",
       "GKP  49.208443  50.264550  48.157895\n",
       "DEF  34.761598  38.655462  30.892742\n",
       "MID  43.648310  47.583176  39.737991\n",
       "FWD  38.663746  40.987124  36.241611"
      ]
     },
     "execution_count": 11,
     "metadata": {},
     "output_type": "execute_result"
    }
   ],
   "source": [
    "more_than_n_points_df = pd.DataFrame(100*more_than_n_points, columns=['overall', 'home', 'away'], index=positions)\n",
    "more_than_n_points_df.head()"
   ]
  },
  {
   "cell_type": "code",
   "execution_count": null,
   "metadata": {},
   "outputs": [],
   "source": []
  }
 ],
 "metadata": {
  "kernelspec": {
   "display_name": "Python 3",
   "language": "python",
   "name": "python3"
  },
  "language_info": {
   "codemirror_mode": {
    "name": "ipython",
    "version": 3
   },
   "file_extension": ".py",
   "mimetype": "text/x-python",
   "name": "python",
   "nbconvert_exporter": "python",
   "pygments_lexer": "ipython3",
   "version": "3.7.3"
  }
 },
 "nbformat": 4,
 "nbformat_minor": 2
}
