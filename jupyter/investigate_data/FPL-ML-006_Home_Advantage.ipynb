{
 "cells": [
  {
   "cell_type": "markdown",
   "metadata": {
    "toc": true
   },
   "source": [
    "<h1>Table of Contents<span class=\"tocSkip\"></span></h1>\n",
    "<div class=\"toc\"><ul class=\"toc-item\"><li><span><a href=\"#FPL-ML-006:-The-Home-Adantage\" data-toc-modified-id=\"FPL-ML-006:-The-Home-Adantage-1\"><span class=\"toc-item-num\">1&nbsp;&nbsp;</span>FPL-ML-006: The Home Adantage</a></span><ul class=\"toc-item\"><li><span><a href=\"#Import-Packages\" data-toc-modified-id=\"Import-Packages-1.1\"><span class=\"toc-item-num\">1.1&nbsp;&nbsp;</span>Import Packages</a></span></li><li><span><a href=\"#Read-in-the-data\" data-toc-modified-id=\"Read-in-the-data-1.2\"><span class=\"toc-item-num\">1.2&nbsp;&nbsp;</span>Read in the data</a></span></li><li><span><a href=\"#Filter-players\" data-toc-modified-id=\"Filter-players-1.3\"><span class=\"toc-item-num\">1.3&nbsp;&nbsp;</span>Filter players</a></span></li><li><span><a href=\"#Setup-paired-dataframe\" data-toc-modified-id=\"Setup-paired-dataframe-1.4\"><span class=\"toc-item-num\">1.4&nbsp;&nbsp;</span>Setup paired dataframe</a></span></li><li><span><a href=\"#Home-vs.-Away-points\" data-toc-modified-id=\"Home-vs.-Away-points-1.5\"><span class=\"toc-item-num\">1.5&nbsp;&nbsp;</span>Home vs. Away points</a></span><ul class=\"toc-item\"><li><span><a href=\"#All-players\" data-toc-modified-id=\"All-players-1.5.1\"><span class=\"toc-item-num\">1.5.1&nbsp;&nbsp;</span>All players</a></span></li><li><span><a href=\"#Split-by-Position\" data-toc-modified-id=\"Split-by-Position-1.5.2\"><span class=\"toc-item-num\">1.5.2&nbsp;&nbsp;</span>Split by Position</a></span><ul class=\"toc-item\"><li><span><a href=\"#Goalkeepers\" data-toc-modified-id=\"Goalkeepers-1.5.2.1\"><span class=\"toc-item-num\">1.5.2.1&nbsp;&nbsp;</span>Goalkeepers</a></span></li><li><span><a href=\"#Defenders\" data-toc-modified-id=\"Defenders-1.5.2.2\"><span class=\"toc-item-num\">1.5.2.2&nbsp;&nbsp;</span>Defenders</a></span></li><li><span><a href=\"#Midfielders\" data-toc-modified-id=\"Midfielders-1.5.2.3\"><span class=\"toc-item-num\">1.5.2.3&nbsp;&nbsp;</span>Midfielders</a></span></li><li><span><a href=\"#Forwards\" data-toc-modified-id=\"Forwards-1.5.2.4\"><span class=\"toc-item-num\">1.5.2.4&nbsp;&nbsp;</span>Forwards</a></span></li></ul></li></ul></li></ul></li></ul></div>"
   ]
  },
  {
   "cell_type": "markdown",
   "metadata": {},
   "source": [
    "# FPL-ML-006: The Home Adantage\n",
    "\n",
    "This will invesetigate whether the home advantage is reflected in FPL points, and it will check if this is reflected across all the different positions.\n",
    "\n",
    "## Import Packages"
   ]
  },
  {
   "cell_type": "code",
   "execution_count": 1,
   "metadata": {
    "ExecuteTime": {
     "end_time": "2019-09-06T13:29:21.997925Z",
     "start_time": "2019-09-06T13:29:13.893862Z"
    }
   },
   "outputs": [],
   "source": [
    "import pandas as pd\n",
    "import numpy as np\n",
    "import matplotlib.pyplot as plt\n",
    "import scipy.stats"
   ]
  },
  {
   "cell_type": "markdown",
   "metadata": {},
   "source": [
    "## Read in the data"
   ]
  },
  {
   "cell_type": "code",
   "execution_count": 2,
   "metadata": {
    "ExecuteTime": {
     "end_time": "2019-09-06T13:29:22.979550Z",
     "start_time": "2019-09-06T13:29:22.007048Z"
    }
   },
   "outputs": [
    {
     "data": {
      "text/html": [
       "<div>\n",
       "<style scoped>\n",
       "    .dataframe tbody tr th:only-of-type {\n",
       "        vertical-align: middle;\n",
       "    }\n",
       "\n",
       "    .dataframe tbody tr th {\n",
       "        vertical-align: top;\n",
       "    }\n",
       "\n",
       "    .dataframe thead th {\n",
       "        text-align: right;\n",
       "    }\n",
       "</style>\n",
       "<table border=\"1\" class=\"dataframe\">\n",
       "  <thead>\n",
       "    <tr style=\"text-align: right;\">\n",
       "      <th></th>\n",
       "      <th>kickoff_time</th>\n",
       "      <th>team_h_score</th>\n",
       "      <th>team_a_score</th>\n",
       "      <th>was_home</th>\n",
       "      <th>round</th>\n",
       "      <th>total_points</th>\n",
       "      <th>value</th>\n",
       "      <th>transfers_balance</th>\n",
       "      <th>selected</th>\n",
       "      <th>transfers_in</th>\n",
       "      <th>...</th>\n",
       "      <th>tackled</th>\n",
       "      <th>offside</th>\n",
       "      <th>target_missed</th>\n",
       "      <th>fouls</th>\n",
       "      <th>dribbles</th>\n",
       "      <th>id</th>\n",
       "      <th>fixture</th>\n",
       "      <th>opponent_team</th>\n",
       "      <th>team</th>\n",
       "      <th>position</th>\n",
       "    </tr>\n",
       "  </thead>\n",
       "  <tbody>\n",
       "    <tr>\n",
       "      <th>0</th>\n",
       "      <td>2018-08-12 15:00:00+00:00</td>\n",
       "      <td>0</td>\n",
       "      <td>2</td>\n",
       "      <td>True</td>\n",
       "      <td>1</td>\n",
       "      <td>3</td>\n",
       "      <td>50</td>\n",
       "      <td>0</td>\n",
       "      <td>70767</td>\n",
       "      <td>0</td>\n",
       "      <td>...</td>\n",
       "      <td>0</td>\n",
       "      <td>0</td>\n",
       "      <td>0</td>\n",
       "      <td>0</td>\n",
       "      <td>0</td>\n",
       "      <td>0</td>\n",
       "      <td>0</td>\n",
       "      <td>12</td>\n",
       "      <td>0</td>\n",
       "      <td>0</td>\n",
       "    </tr>\n",
       "    <tr>\n",
       "      <th>1</th>\n",
       "      <td>2018-08-18 16:30:00+00:00</td>\n",
       "      <td>3</td>\n",
       "      <td>2</td>\n",
       "      <td>False</td>\n",
       "      <td>2</td>\n",
       "      <td>3</td>\n",
       "      <td>50</td>\n",
       "      <td>188</td>\n",
       "      <td>90038</td>\n",
       "      <td>6059</td>\n",
       "      <td>...</td>\n",
       "      <td>0</td>\n",
       "      <td>0</td>\n",
       "      <td>0</td>\n",
       "      <td>0</td>\n",
       "      <td>0</td>\n",
       "      <td>0</td>\n",
       "      <td>13</td>\n",
       "      <td>5</td>\n",
       "      <td>0</td>\n",
       "      <td>0</td>\n",
       "    </tr>\n",
       "    <tr>\n",
       "      <th>2</th>\n",
       "      <td>2018-08-25 14:00:00+00:00</td>\n",
       "      <td>3</td>\n",
       "      <td>1</td>\n",
       "      <td>True</td>\n",
       "      <td>3</td>\n",
       "      <td>3</td>\n",
       "      <td>50</td>\n",
       "      <td>8540</td>\n",
       "      <td>107301</td>\n",
       "      <td>19550</td>\n",
       "      <td>...</td>\n",
       "      <td>0</td>\n",
       "      <td>0</td>\n",
       "      <td>0</td>\n",
       "      <td>0</td>\n",
       "      <td>0</td>\n",
       "      <td>0</td>\n",
       "      <td>20</td>\n",
       "      <td>18</td>\n",
       "      <td>0</td>\n",
       "      <td>0</td>\n",
       "    </tr>\n",
       "    <tr>\n",
       "      <th>3</th>\n",
       "      <td>2018-09-02 12:30:00+00:00</td>\n",
       "      <td>2</td>\n",
       "      <td>3</td>\n",
       "      <td>False</td>\n",
       "      <td>4</td>\n",
       "      <td>1</td>\n",
       "      <td>50</td>\n",
       "      <td>9582</td>\n",
       "      <td>123566</td>\n",
       "      <td>19332</td>\n",
       "      <td>...</td>\n",
       "      <td>0</td>\n",
       "      <td>0</td>\n",
       "      <td>0</td>\n",
       "      <td>0</td>\n",
       "      <td>0</td>\n",
       "      <td>0</td>\n",
       "      <td>32</td>\n",
       "      <td>4</td>\n",
       "      <td>0</td>\n",
       "      <td>0</td>\n",
       "    </tr>\n",
       "    <tr>\n",
       "      <th>4</th>\n",
       "      <td>2018-09-15 14:00:00+00:00</td>\n",
       "      <td>1</td>\n",
       "      <td>2</td>\n",
       "      <td>False</td>\n",
       "      <td>5</td>\n",
       "      <td>2</td>\n",
       "      <td>50</td>\n",
       "      <td>-3297</td>\n",
       "      <td>123310</td>\n",
       "      <td>8837</td>\n",
       "      <td>...</td>\n",
       "      <td>0</td>\n",
       "      <td>0</td>\n",
       "      <td>0</td>\n",
       "      <td>0</td>\n",
       "      <td>0</td>\n",
       "      <td>0</td>\n",
       "      <td>45</td>\n",
       "      <td>14</td>\n",
       "      <td>0</td>\n",
       "      <td>0</td>\n",
       "    </tr>\n",
       "  </tbody>\n",
       "</table>\n",
       "<p>5 rows × 54 columns</p>\n",
       "</div>"
      ],
      "text/plain": [
       "                kickoff_time  team_h_score  team_a_score  was_home  round  \\\n",
       "0  2018-08-12 15:00:00+00:00             0             2      True      1   \n",
       "1  2018-08-18 16:30:00+00:00             3             2     False      2   \n",
       "2  2018-08-25 14:00:00+00:00             3             1      True      3   \n",
       "3  2018-09-02 12:30:00+00:00             2             3     False      4   \n",
       "4  2018-09-15 14:00:00+00:00             1             2     False      5   \n",
       "\n",
       "   total_points  value  transfers_balance  selected  transfers_in  ...  \\\n",
       "0             3     50                  0     70767             0  ...   \n",
       "1             3     50                188     90038          6059  ...   \n",
       "2             3     50               8540    107301         19550  ...   \n",
       "3             1     50               9582    123566         19332  ...   \n",
       "4             2     50              -3297    123310          8837  ...   \n",
       "\n",
       "   tackled  offside  target_missed  fouls  dribbles  id  fixture  \\\n",
       "0        0        0              0      0         0   0        0   \n",
       "1        0        0              0      0         0   0       13   \n",
       "2        0        0              0      0         0   0       20   \n",
       "3        0        0              0      0         0   0       32   \n",
       "4        0        0              0      0         0   0       45   \n",
       "\n",
       "   opponent_team  team  position  \n",
       "0             12     0         0  \n",
       "1              5     0         0  \n",
       "2             18     0         0  \n",
       "3              4     0         0  \n",
       "4             14     0         0  \n",
       "\n",
       "[5 rows x 54 columns]"
      ]
     },
     "execution_count": 2,
     "metadata": {},
     "output_type": "execute_result"
    }
   ],
   "source": [
    "player_performance = pd.read_csv('../../data/csv/player_performance_01.csv')\n",
    "player_performance.head()"
   ]
  },
  {
   "cell_type": "markdown",
   "metadata": {},
   "source": [
    "## Filter players"
   ]
  },
  {
   "cell_type": "code",
   "execution_count": 3,
   "metadata": {
    "ExecuteTime": {
     "end_time": "2019-09-06T13:29:23.050145Z",
     "start_time": "2019-09-06T13:29:22.991357Z"
    }
   },
   "outputs": [],
   "source": [
    "minimum_mins = 90\n",
    "vp = player_performance.loc[player_performance['minutes']>=minimum_mins,:]"
   ]
  },
  {
   "cell_type": "markdown",
   "metadata": {},
   "source": [
    "We will only consider players who have played more than {{minimum_mins}} minutes.\n",
    "\n",
    "Next, we will only consider players who played in both home and away matches against the same team.\n",
    "\n",
    "## Setup paired dataframe"
   ]
  },
  {
   "cell_type": "code",
   "execution_count": 4,
   "metadata": {
    "ExecuteTime": {
     "end_time": "2019-09-06T13:29:31.806432Z",
     "start_time": "2019-09-06T13:29:23.101607Z"
    }
   },
   "outputs": [
    {
     "data": {
      "text/html": [
       "<div>\n",
       "<style scoped>\n",
       "    .dataframe tbody tr th:only-of-type {\n",
       "        vertical-align: middle;\n",
       "    }\n",
       "\n",
       "    .dataframe tbody tr th {\n",
       "        vertical-align: top;\n",
       "    }\n",
       "\n",
       "    .dataframe thead th {\n",
       "        text-align: right;\n",
       "    }\n",
       "</style>\n",
       "<table border=\"1\" class=\"dataframe\">\n",
       "  <thead>\n",
       "    <tr style=\"text-align: right;\">\n",
       "      <th></th>\n",
       "      <th>home</th>\n",
       "      <th>away</th>\n",
       "      <th>id</th>\n",
       "      <th>position</th>\n",
       "    </tr>\n",
       "  </thead>\n",
       "  <tbody>\n",
       "    <tr>\n",
       "      <th>0</th>\n",
       "      <td>3</td>\n",
       "      <td>2</td>\n",
       "      <td>1</td>\n",
       "      <td>0</td>\n",
       "    </tr>\n",
       "    <tr>\n",
       "      <th>1</th>\n",
       "      <td>2</td>\n",
       "      <td>3</td>\n",
       "      <td>1</td>\n",
       "      <td>0</td>\n",
       "    </tr>\n",
       "    <tr>\n",
       "      <th>2</th>\n",
       "      <td>2</td>\n",
       "      <td>1</td>\n",
       "      <td>1</td>\n",
       "      <td>0</td>\n",
       "    </tr>\n",
       "    <tr>\n",
       "      <th>3</th>\n",
       "      <td>3</td>\n",
       "      <td>3</td>\n",
       "      <td>1</td>\n",
       "      <td>0</td>\n",
       "    </tr>\n",
       "    <tr>\n",
       "      <th>4</th>\n",
       "      <td>7</td>\n",
       "      <td>3</td>\n",
       "      <td>1</td>\n",
       "      <td>0</td>\n",
       "    </tr>\n",
       "  </tbody>\n",
       "</table>\n",
       "</div>"
      ],
      "text/plain": [
       "   home  away  id  position\n",
       "0     3     2   1         0\n",
       "1     2     3   1         0\n",
       "2     2     1   1         0\n",
       "3     3     3   1         0\n",
       "4     7     3   1         0"
      ]
     },
     "execution_count": 4,
     "metadata": {},
     "output_type": "execute_result"
    }
   ],
   "source": [
    "# get all unqiue player ids\n",
    "valid_ids = np.unique(vp['id'])\n",
    "\n",
    "# empty array to store points\n",
    "points_store = np.zeros((len(valid_ids) * 20, 4), dtype='int')\n",
    "\n",
    "# row count\n",
    "count = -1\n",
    "\n",
    "# boolean arrays for different players\n",
    "player_bool = pd.DataFrame()\n",
    "for i in valid_ids:\n",
    "    player_bool[i] = vp['id']==i\n",
    "    \n",
    "# boolean arrays for different teams\n",
    "team_bool = pd.DataFrame()\n",
    "for i in range(20):\n",
    "    team_bool[i] = vp['opponent_team']==i\n",
    "    \n",
    "pos_ind = vp.columns.get_loc('position')\n",
    "tp_ind = vp.columns.get_loc('total_points')\n",
    "wh_ind = vp.columns.get_loc('was_home')\n",
    "id_ind = vp.columns.get_loc('id')\n",
    "    \n",
    "# loop through players and teams\n",
    "for i in valid_ids:\n",
    "    for j in range(20):\n",
    "        b = np.where(np.logical_and(player_bool[i], team_bool[j]))[0]\n",
    "        if len(b)==2:\n",
    "            count = count + 1\n",
    "            points_store[count,2] = vp.iloc[b[0], id_ind]\n",
    "            points_store[count,3] = vp.iloc[b[0], pos_ind]\n",
    "            if vp.iloc[b[0], wh_ind]:\n",
    "                points_store[count,0] = vp.iloc[b[0],tp_ind]\n",
    "                points_store[count,1] = vp.iloc[b[1],tp_ind]\n",
    "            else:\n",
    "                points_store[count,0] = vp.iloc[b[1],tp_ind]\n",
    "                points_store[count,1] = vp.iloc[b[0],tp_ind]\n",
    "\n",
    "points_store = points_store[1:count,:]\n",
    "points_store_df = pd.DataFrame(points_store, columns=['home', 'away', 'id', 'position'])\n",
    "points_store_df.head()"
   ]
  },
  {
   "cell_type": "markdown",
   "metadata": {
    "ExecuteTime": {
     "end_time": "2019-09-04T15:20:59.763411Z",
     "start_time": "2019-09-04T15:20:59.727017Z"
    }
   },
   "source": [
    "## Home vs. Away points"
   ]
  },
  {
   "cell_type": "code",
   "execution_count": 5,
   "metadata": {
    "ExecuteTime": {
     "end_time": "2019-09-06T13:29:31.840325Z",
     "start_time": "2019-09-06T13:29:31.813099Z"
    }
   },
   "outputs": [],
   "source": [
    "def histOutline(dataIn, *args, **kwargs):\n",
    "    (histIn, binsIn) = np.histogram(dataIn, *args, **kwargs)\n",
    "\n",
    "    stepSize = binsIn[1] - binsIn[0]\n",
    "\n",
    "    bins = np.zeros(len(binsIn)*2 + 2, dtype=np.float)\n",
    "    data = np.zeros(len(binsIn)*2 + 2, dtype=np.float)\n",
    "    for bb in range(len(binsIn)):\n",
    "        bins[2*bb + 1] = binsIn[bb]\n",
    "        bins[2*bb + 2] = binsIn[bb] + stepSize\n",
    "        if bb < len(histIn):\n",
    "            data[2*bb + 1] = histIn[bb]\n",
    "            data[2*bb + 2] = histIn[bb]\n",
    "\n",
    "    bins[0] = bins[1]\n",
    "    bins[-1] = bins[-2]\n",
    "    data[0] = 0\n",
    "    data[-1] = 0\n",
    "\n",
    "    return (bins, data)"
   ]
  },
  {
   "cell_type": "markdown",
   "metadata": {},
   "source": [
    "### All players"
   ]
  },
  {
   "cell_type": "code",
   "execution_count": 46,
   "metadata": {
    "ExecuteTime": {
     "end_time": "2019-09-06T14:39:27.668452Z",
     "start_time": "2019-09-06T14:39:26.758195Z"
    }
   },
   "outputs": [
    {
     "data": {
      "text/plain": [
       "Text(0.5, 0.98, 'Home and Away Points')"
      ]
     },
     "execution_count": 46,
     "metadata": {},
     "output_type": "execute_result"
    },
    {
     "data": {
      "image/png": "[encoded data removed]",
      "text/plain": [
       "<Figure size 576x360 with 1 Axes>"
      ]
     },
     "metadata": {
      "needs_background": "light"
     },
     "output_type": "display_data"
    }
   ],
   "source": [
    "plt.figure(figsize=(8,5))\n",
    "bins = np.array(range(-2,25))\n",
    "hpoints_x, hpoints_y = histOutline(points_store[:,0], bins=bins)\n",
    "apoints_x, apoints_y = histOutline(points_store[:,1], bins=bins)\n",
    "plt.plot(hpoints_x, hpoints_y);\n",
    "plt.plot(apoints_x, apoints_y);\n",
    "plt.legend(['home', 'away']);\n",
    "plt.xlabel('Points');\n",
    "plt.ylabel('Count');\n",
    "plt.suptitle('Home and Away Points', fontsize=14, fontweight='bold');\n",
    "\n",
    "plt.savefig('../../figures/home_away_points.svg', forma)"
   ]
  },
  {
   "cell_type": "code",
   "execution_count": 7,
   "metadata": {
    "ExecuteTime": {
     "end_time": "2019-09-06T13:29:32.954898Z",
     "start_time": "2019-09-06T13:29:32.936849Z"
    }
   },
   "outputs": [
    {
     "name": "stdout",
     "output_type": "stream",
     "text": [
      "(0.8219552636146545, 0.0)\n"
     ]
    }
   ],
   "source": [
    "points_normal_test = scipy.stats.shapiro(points_store[:,0:2])\n",
    "print(points_normal_test)\n",
    "\n",
    "points_test = scipy.stats.wilcoxon(points_store[:,0], points_store[:,1])"
   ]
  },
  {
   "cell_type": "markdown",
   "metadata": {},
   "source": [
    "The Wilcoxon signed-rank test is used to test for differences between two paired non-normal datasets. A p-value of {{points_test[1]}} is found between home and away points from a player in the reverse fixtures, meaning this results is significantly different.\n",
    "\n",
    "Now we need to check if this difference comes from a particular position, or is consistent across all positions."
   ]
  },
  {
   "cell_type": "markdown",
   "metadata": {},
   "source": [
    "### Split by Position\n",
    "\n",
    "#### Goalkeepers"
   ]
  },
  {
   "cell_type": "code",
   "execution_count": 8,
   "metadata": {
    "ExecuteTime": {
     "end_time": "2019-09-06T13:29:33.859648Z",
     "start_time": "2019-09-06T13:29:32.998074Z"
    }
   },
   "outputs": [
    {
     "data": {
      "image/png": "[encoded data removed]",
      "text/plain": [
       "<Figure size 576x360 with 1 Axes>"
      ]
     },
     "metadata": {
      "needs_background": "light"
     },
     "output_type": "display_data"
    }
   ],
   "source": [
    "gkp_ind = points_store[:, 3] == 0\n",
    "plt.figure(figsize=(8, 5))\n",
    "bins = np.array(range(-2, 25))\n",
    "gkp_hpoints_x, gkp_hpoints_y = histOutline(points_store[gkp_ind, 0], bins=bins)\n",
    "gkp_apoints_x, gkp_apoints_y = histOutline(points_store[gkp_ind, 1], bins=bins)\n",
    "plt.plot(gkp_hpoints_x, gkp_hpoints_y)\n",
    "plt.plot(gkp_apoints_x, gkp_apoints_y)\n",
    "plt.legend(['home', 'away']);\n",
    "plt.xlabel('Points');\n",
    "plt.ylabel('Count');\n",
    "plt.title('Goalkeepers');"
   ]
  },
  {
   "cell_type": "code",
   "execution_count": 9,
   "metadata": {
    "ExecuteTime": {
     "end_time": "2019-09-06T13:29:33.889675Z",
     "start_time": "2019-09-06T13:29:33.865664Z"
    }
   },
   "outputs": [
    {
     "name": "stdout",
     "output_type": "stream",
     "text": [
      "(0.8608756065368652, 6.038342236119221e-22)\n",
      "0.5894235565837486\n"
     ]
    }
   ],
   "source": [
    "gkp_points_normal_test = scipy.stats.shapiro(points_store[gkp_ind,0:2])\n",
    "print(gkp_points_normal_test)\n",
    "\n",
    "gkp_points_test = scipy.stats.wilcoxon(points_store[gkp_ind, 0],\n",
    "                                       points_store[gkp_ind, 1])\n",
    "print(gkp_points_test[1])"
   ]
  },
  {
   "cell_type": "markdown",
   "metadata": {},
   "source": [
    "#### Defenders"
   ]
  },
  {
   "cell_type": "code",
   "execution_count": 10,
   "metadata": {
    "ExecuteTime": {
     "end_time": "2019-09-06T13:29:34.793170Z",
     "start_time": "2019-09-06T13:29:33.902778Z"
    }
   },
   "outputs": [
    {
     "data": {
      "image/png": "[encoded data removed]",
      "text/plain": [
       "<Figure size 576x360 with 1 Axes>"
      ]
     },
     "metadata": {
      "needs_background": "light"
     },
     "output_type": "display_data"
    }
   ],
   "source": [
    "def_ind = points_store[:, 3] == 1\n",
    "plt.figure(figsize=(8, 5))\n",
    "bins = np.array(range(-2, 25))\n",
    "def_hpoints_x, def_hpoints_y = histOutline(points_store[def_ind, 0], bins=bins)\n",
    "def_apoints_x, def_apoints_y = histOutline(points_store[def_ind, 1], bins=bins)\n",
    "plt.plot(def_hpoints_x, def_hpoints_y)\n",
    "plt.plot(def_apoints_x, def_apoints_y)\n",
    "plt.legend(['home', 'away']);\n",
    "plt.xlabel('Points');\n",
    "plt.ylabel('Count');\n",
    "plt.title('Defenders');"
   ]
  },
  {
   "cell_type": "code",
   "execution_count": 11,
   "metadata": {
    "ExecuteTime": {
     "end_time": "2019-09-06T13:29:34.827106Z",
     "start_time": "2019-09-06T13:29:34.804714Z"
    }
   },
   "outputs": [
    {
     "name": "stdout",
     "output_type": "stream",
     "text": [
      "4.3331178202790505e-05\n"
     ]
    }
   ],
   "source": [
    "def_points_test = scipy.stats.wilcoxon(points_store[def_ind,0], points_store[def_ind,1]);\n",
    "print(def_points_test[1])"
   ]
  },
  {
   "cell_type": "markdown",
   "metadata": {},
   "source": [
    "#### Midfielders"
   ]
  },
  {
   "cell_type": "code",
   "execution_count": 12,
   "metadata": {
    "ExecuteTime": {
     "end_time": "2019-09-06T13:29:35.757501Z",
     "start_time": "2019-09-06T13:29:34.835526Z"
    }
   },
   "outputs": [
    {
     "data": {
      "image/png": "[encoded data removed]",
      "text/plain": [
       "<Figure size 576x360 with 1 Axes>"
      ]
     },
     "metadata": {
      "needs_background": "light"
     },
     "output_type": "display_data"
    }
   ],
   "source": [
    "mid_ind = points_store[:, 3] == 2\n",
    "plt.figure(figsize=(8, 5))\n",
    "bins = np.array(range(-2, 25))\n",
    "mid_hpoints_x, mid_hpoints_y = histOutline(points_store[mid_ind, 0], bins=bins)\n",
    "mid_apoints_x, mid_apoints_y = histOutline(points_store[mid_ind, 1], bins=bins)\n",
    "plt.plot(mid_hpoints_x, mid_hpoints_y)\n",
    "plt.plot(mid_apoints_x, mid_apoints_y)\n",
    "plt.legend(['home', 'away']);\n",
    "plt.xlabel('Points');\n",
    "plt.ylabel('Count');\n",
    "plt.title('Midfielders');"
   ]
  },
  {
   "cell_type": "code",
   "execution_count": 13,
   "metadata": {
    "ExecuteTime": {
     "end_time": "2019-09-06T13:29:35.784266Z",
     "start_time": "2019-09-06T13:29:35.764028Z"
    }
   },
   "outputs": [
    {
     "name": "stdout",
     "output_type": "stream",
     "text": [
      "0.03077211227250524\n"
     ]
    }
   ],
   "source": [
    "mid_points_test = scipy.stats.wilcoxon(points_store[mid_ind, 0],\n",
    "                                       points_store[mid_ind, 1])\n",
    "print(mid_points_test[1])"
   ]
  },
  {
   "cell_type": "markdown",
   "metadata": {},
   "source": [
    "#### Forwards"
   ]
  },
  {
   "cell_type": "code",
   "execution_count": 42,
   "metadata": {
    "ExecuteTime": {
     "end_time": "2019-09-06T14:38:04.268907Z",
     "start_time": "2019-09-06T14:38:03.310762Z"
    }
   },
   "outputs": [
    {
     "data": {
      "image/png": "[encoded data removed]",
      "text/plain": [
       "<Figure size 576x360 with 1 Axes>"
      ]
     },
     "metadata": {
      "needs_background": "light"
     },
     "output_type": "display_data"
    }
   ],
   "source": [
    "fwd_ind = points_store[:, 3] == 3\n",
    "plt.figure(figsize=(8, 5))\n",
    "bins = np.array(range(-2, 25))\n",
    "fwd_hpoints_x, fwd_hpoints_y = histOutline(points_store[fwd_ind, 0], bins=bins)\n",
    "fwd_apoints_x, fwd_apoints_y = histOutline(points_store[fwd_ind, 1], bins=bins)\n",
    "plt.plot(fwd_hpoints_x, fwd_hpoints_y)\n",
    "plt.plot(fwd_apoints_x, fwd_apoints_y)\n",
    "plt.legend(['home', 'away']);\n",
    "plt.xlabel('Points');\n",
    "plt.ylabel('Count');\n",
    "plt.title('Forwards');\n",
    "\n",
    "plt.savefig('../../figures/home_away_points.svg', format='svg')"
   ]
  },
  {
   "cell_type": "code",
   "execution_count": 15,
   "metadata": {
    "ExecuteTime": {
     "end_time": "2019-09-06T13:29:36.695478Z",
     "start_time": "2019-09-06T13:29:36.674308Z"
    }
   },
   "outputs": [
    {
     "name": "stdout",
     "output_type": "stream",
     "text": [
      "0.4229862257944381\n"
     ]
    }
   ],
   "source": [
    "fwd_points_test = scipy.stats.wilcoxon(points_store[fwd_ind, 0],\n",
    "                                       points_store[fwd_ind, 1])\n",
    "print(fwd_points_test[1])"
   ]
  },
  {
   "cell_type": "code",
   "execution_count": 44,
   "metadata": {
    "ExecuteTime": {
     "end_time": "2019-09-06T14:38:28.246548Z",
     "start_time": "2019-09-06T14:38:25.269131Z"
    }
   },
   "outputs": [
    {
     "data": {
      "image/png": "[encoded data removed]",
      "text/plain": [
       "<Figure size 720x576 with 4 Axes>"
      ]
     },
     "metadata": {
      "needs_background": "light"
     },
     "output_type": "display_data"
    }
   ],
   "source": [
    "fig, ax = plt.subplots(2,2, figsize=(10,8))\n",
    "# GKP\n",
    "ax[0,0].plot(gkp_hpoints_x, gkp_hpoints_y);\n",
    "ax[0,0].plot(gkp_apoints_x, gkp_apoints_y);\n",
    "ax[0,0].set_ylabel('Count');\n",
    "ax[0,0].set_title('GKP')\n",
    "# DEF\n",
    "ax[0,1].plot(def_hpoints_x, def_hpoints_y);\n",
    "ax[0,1].plot(def_apoints_x, def_apoints_y);\n",
    "ax[0,1].set_title('DEF');\n",
    "# MID\n",
    "ax[1,0].plot(mid_hpoints_x, mid_hpoints_y);\n",
    "ax[1,0].plot(mid_apoints_x, mid_apoints_y);\n",
    "ax[1,0].set_ylabel('Count');\n",
    "ax[1,0].set_xlabel('Points')\n",
    "ax[1,0].set_title('MID');\n",
    "# FWD\n",
    "ax[1,1].plot(fwd_hpoints_x, fwd_hpoints_y);\n",
    "ax[1,1].plot(fwd_apoints_x, fwd_apoints_y);\n",
    "ax[1,1].set_xlabel('Points')\n",
    "ax[1,1].set_title('FWD');\n",
    "ax[1,1].legend(['Home', 'Away']);\n",
    "\n",
    "plt.suptitle('Home and Away Points by Position', fontsize=14, fontweight='bold')\n",
    "plt.savefig('../../figures/home_away_points_position.svg', format='svg')"
   ]
  },
  {
   "cell_type": "code",
   "execution_count": 17,
   "metadata": {
    "ExecuteTime": {
     "end_time": "2019-09-06T13:29:39.673724Z",
     "start_time": "2019-09-06T13:29:39.095477Z"
    }
   },
   "outputs": [
    {
     "data": {
      "image/png": "[encoded data removed]",
      "text/plain": [
       "<Figure size 432x288 with 1 Axes>"
      ]
     },
     "metadata": {
      "needs_background": "light"
     },
     "output_type": "display_data"
    }
   ],
   "source": [
    "plt.boxplot([points_store[:,0], points_store[:,1]], showmeans=True);"
   ]
  },
  {
   "cell_type": "code",
   "execution_count": 37,
   "metadata": {
    "ExecuteTime": {
     "end_time": "2019-09-06T14:33:26.992051Z",
     "start_time": "2019-09-06T14:33:24.285295Z"
    }
   },
   "outputs": [
    {
     "data": {
      "image/png": "[encoded data removed]",
      "text/plain": [
       "<Figure size 720x576 with 4 Axes>"
      ]
     },
     "metadata": {
      "needs_background": "light"
     },
     "output_type": "display_data"
    }
   ],
   "source": [
    "diff = points_store[:,0]-points_store[:,1]\n",
    "diff_bins = np.array(range(-20,20))\n",
    "fig, ax = plt.subplots(2,2, figsize=(10,8))\n",
    "fig.suptitle(\"Points Difference (Home-Away)\", fontsize=14, fontweight='bold');\n",
    "ylim = 0.35\n",
    "# GKP\n",
    "gkp_diff_x, gkp_diff_y = histOutline(diff[gkp_ind], diff_bins)\n",
    "ax[0,0].plot(gkp_diff_x, gkp_diff_y/sum(gkp_ind));\n",
    "ax[0,0].set_ylim(0,ylim);\n",
    "ax[0,0].set_title('GKP');\n",
    "# DEF\n",
    "def_diff_x, def_diff_y = histOutline(diff[def_ind], diff_bins)\n",
    "ax[0,1].plot(def_diff_x, def_diff_y/sum(def_ind));\n",
    "ax[0,1].set_ylim(0,ylim);\n",
    "ax[0,1].set_title('DEF');\n",
    "# MID\n",
    "mid_diff_x, mid_diff_y = histOutline(diff[mid_ind], diff_bins)\n",
    "ax[1,0].plot(mid_diff_x, mid_diff_y/sum(mid_ind));\n",
    "ax[1,0].set_ylim(0,ylim);\n",
    "ax[1,0].set_title('MID');\n",
    "# FWD\n",
    "fwd_diff_x, fwd_diff_y = histOutline(diff[fwd_ind], diff_bins)\n",
    "ax[1,1].plot(fwd_diff_x, fwd_diff_y/sum(fwd_ind));\n",
    "ax[1,1].set_ylim(0,ylim);\n",
    "ax[1,1].set_title('FWD');\n"
   ]
  },
  {
   "cell_type": "code",
   "execution_count": 24,
   "metadata": {
    "ExecuteTime": {
     "end_time": "2019-09-06T13:33:23.024677Z",
     "start_time": "2019-09-06T13:33:22.124899Z"
    }
   },
   "outputs": [
    {
     "data": {
      "image/png": "[encoded data removed]",
      "text/plain": [
       "<Figure size 720x576 with 1 Axes>"
      ]
     },
     "metadata": {
      "needs_background": "light"
     },
     "output_type": "display_data"
    }
   ],
   "source": [
    "plt.figure(figsize=(10,8));\n",
    "plt.plot(gkp_diff_x, gkp_diff_y/sum(gkp_ind));\n",
    "plt.plot(def_diff_x, def_diff_y/sum(def_ind)); \n",
    "plt.plot(mid_diff_x, mid_diff_y/sum(mid_ind));\n",
    "plt.plot(fwd_diff_x, fwd_diff_y/sum(fwd_ind));"
   ]
  },
  {
   "cell_type": "code",
   "execution_count": null,
   "metadata": {},
   "outputs": [],
   "source": []
  }
 ],
 "metadata": {
  "kernelspec": {
   "display_name": "Python 3",
   "language": "python",
   "name": "python3"
  },
  "language_info": {
   "codemirror_mode": {
    "name": "ipython",
    "version": 3
   },
   "file_extension": ".py",
   "mimetype": "text/x-python",
   "name": "python",
   "nbconvert_exporter": "python",
   "pygments_lexer": "ipython3",
   "version": "3.7.3"
  },
  "toc": {
   "base_numbering": 1,
   "nav_menu": {},
   "number_sections": true,
   "sideBar": true,
   "skip_h1_title": false,
   "title_cell": "Table of Contents",
   "title_sidebar": "Contents",
   "toc_cell": true,
   "toc_position": {},
   "toc_section_display": true,
   "toc_window_display": true
  }
 },
 "nbformat": 4,
 "nbformat_minor": 2
}
