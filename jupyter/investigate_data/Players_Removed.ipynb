{
 "cells": [
  {
   "cell_type": "code",
   "execution_count": 47,
   "metadata": {},
   "outputs": [
    {
     "name": "stdout",
     "output_type": "stream",
     "text": [
      "8775.555555555555\n"
     ]
    }
   ],
   "source": [
    "first_half_squad_size = 25\n",
    "second_half_squad_size = 31\n",
    "subs_used = 2.5\n",
    "players_remaining = 21790\n",
    "\n",
    "first_half_players_removed = 19*20*((first_half_squad_size-11-subs_used))\n",
    "second_half_players_removed = 19*20*((second_half_squad_size-11-subs_used))\n",
    "total_players_removed = first_half_players_removed+second_half_players_removed\n",
    "\n",
    "players_remaining = players_remaining-total_players_removed\n",
    "\n",
    "players_remaining = players_remaining*(11/(11+subs_used))\n",
    "\n",
    "print(players_remaining)"
   ]
  },
  {
   "cell_type": "code",
   "execution_count": null,
   "metadata": {},
   "outputs": [],
   "source": []
  }
 ],
 "metadata": {
  "kernelspec": {
   "display_name": "Python 3",
   "language": "python",
   "name": "python3"
  },
  "language_info": {
   "codemirror_mode": {
    "name": "ipython",
    "version": 3
   },
   "file_extension": ".py",
   "mimetype": "text/x-python",
   "name": "python",
   "nbconvert_exporter": "python",
   "pygments_lexer": "ipython3",
   "version": "3.7.3"
  }
 },
 "nbformat": 4,
 "nbformat_minor": 2
}
