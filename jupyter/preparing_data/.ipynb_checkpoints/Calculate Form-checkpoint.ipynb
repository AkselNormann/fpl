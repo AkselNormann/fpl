{
 "cells": [
  {
   "cell_type": "markdown",
   "metadata": {
    "toc": true
   },
   "source": [
    "<h1>Table of Contents<span class=\"tocSkip\"></span></h1>\n",
    "<div class=\"toc\"><ul class=\"toc-item\"><li><span><a href=\"#Read-in-Data\" data-toc-modified-id=\"Read-in-Data-1\"><span class=\"toc-item-num\">1&nbsp;&nbsp;</span>Read in Data</a></span></li><li><span><a href=\"#Pick-columns-to-calculate-form\" data-toc-modified-id=\"Pick-columns-to-calculate-form-2\"><span class=\"toc-item-num\">2&nbsp;&nbsp;</span>Pick columns to calculate form</a></span></li><li><span><a href=\"#Calculate-response-function\" data-toc-modified-id=\"Calculate-response-function-3\"><span class=\"toc-item-num\">3&nbsp;&nbsp;</span>Calculate response function</a></span></li><li><span><a href=\"#Loop-through-data-table\" data-toc-modified-id=\"Loop-through-data-table-4\"><span class=\"toc-item-num\">4&nbsp;&nbsp;</span>Loop through data table</a></span></li></ul></div>"
   ]
  },
  {
   "cell_type": "markdown",
   "metadata": {},
   "source": [
    "# Add Form\n",
    "\n",
    "## Read in Data"
   ]
  },
  {
   "cell_type": "code",
   "execution_count": 2,
   "metadata": {
    "ExecuteTime": {
     "end_time": "2019-09-12T20:06:40.289666Z",
     "start_time": "2019-09-12T20:06:38.966772Z"
    }
   },
   "outputs": [
    {
     "data": {
      "text/html": [
       "<div>\n",
       "<style scoped>\n",
       "    .dataframe tbody tr th:only-of-type {\n",
       "        vertical-align: middle;\n",
       "    }\n",
       "\n",
       "    .dataframe tbody tr th {\n",
       "        vertical-align: top;\n",
       "    }\n",
       "\n",
       "    .dataframe thead th {\n",
       "        text-align: right;\n",
       "    }\n",
       "</style>\n",
       "<table border=\"1\" class=\"dataframe\">\n",
       "  <thead>\n",
       "    <tr style=\"text-align: right;\">\n",
       "      <th></th>\n",
       "      <th>kickoff_time</th>\n",
       "      <th>team_h_score</th>\n",
       "      <th>team_a_score</th>\n",
       "      <th>was_home</th>\n",
       "      <th>round</th>\n",
       "      <th>total_points</th>\n",
       "      <th>value</th>\n",
       "      <th>transfers_balance</th>\n",
       "      <th>selected</th>\n",
       "      <th>transfers_in</th>\n",
       "      <th>...</th>\n",
       "      <th>tackled</th>\n",
       "      <th>offside</th>\n",
       "      <th>target_missed</th>\n",
       "      <th>fouls</th>\n",
       "      <th>dribbles</th>\n",
       "      <th>id</th>\n",
       "      <th>fixture</th>\n",
       "      <th>opponent_team</th>\n",
       "      <th>team</th>\n",
       "      <th>position</th>\n",
       "    </tr>\n",
       "  </thead>\n",
       "  <tbody>\n",
       "    <tr>\n",
       "      <td>0</td>\n",
       "      <td>2018-08-12 15:00:00+00:00</td>\n",
       "      <td>0</td>\n",
       "      <td>2</td>\n",
       "      <td>True</td>\n",
       "      <td>1</td>\n",
       "      <td>3</td>\n",
       "      <td>50</td>\n",
       "      <td>0</td>\n",
       "      <td>70767</td>\n",
       "      <td>0</td>\n",
       "      <td>...</td>\n",
       "      <td>0</td>\n",
       "      <td>0</td>\n",
       "      <td>0</td>\n",
       "      <td>0</td>\n",
       "      <td>0</td>\n",
       "      <td>0</td>\n",
       "      <td>0</td>\n",
       "      <td>12</td>\n",
       "      <td>0</td>\n",
       "      <td>0</td>\n",
       "    </tr>\n",
       "    <tr>\n",
       "      <td>1</td>\n",
       "      <td>2018-08-18 16:30:00+00:00</td>\n",
       "      <td>3</td>\n",
       "      <td>2</td>\n",
       "      <td>False</td>\n",
       "      <td>2</td>\n",
       "      <td>3</td>\n",
       "      <td>50</td>\n",
       "      <td>188</td>\n",
       "      <td>90038</td>\n",
       "      <td>6059</td>\n",
       "      <td>...</td>\n",
       "      <td>0</td>\n",
       "      <td>0</td>\n",
       "      <td>0</td>\n",
       "      <td>0</td>\n",
       "      <td>0</td>\n",
       "      <td>0</td>\n",
       "      <td>13</td>\n",
       "      <td>5</td>\n",
       "      <td>0</td>\n",
       "      <td>0</td>\n",
       "    </tr>\n",
       "    <tr>\n",
       "      <td>2</td>\n",
       "      <td>2018-08-25 14:00:00+00:00</td>\n",
       "      <td>3</td>\n",
       "      <td>1</td>\n",
       "      <td>True</td>\n",
       "      <td>3</td>\n",
       "      <td>3</td>\n",
       "      <td>50</td>\n",
       "      <td>8540</td>\n",
       "      <td>107301</td>\n",
       "      <td>19550</td>\n",
       "      <td>...</td>\n",
       "      <td>0</td>\n",
       "      <td>0</td>\n",
       "      <td>0</td>\n",
       "      <td>0</td>\n",
       "      <td>0</td>\n",
       "      <td>0</td>\n",
       "      <td>20</td>\n",
       "      <td>18</td>\n",
       "      <td>0</td>\n",
       "      <td>0</td>\n",
       "    </tr>\n",
       "    <tr>\n",
       "      <td>3</td>\n",
       "      <td>2018-09-02 12:30:00+00:00</td>\n",
       "      <td>2</td>\n",
       "      <td>3</td>\n",
       "      <td>False</td>\n",
       "      <td>4</td>\n",
       "      <td>1</td>\n",
       "      <td>50</td>\n",
       "      <td>9582</td>\n",
       "      <td>123566</td>\n",
       "      <td>19332</td>\n",
       "      <td>...</td>\n",
       "      <td>0</td>\n",
       "      <td>0</td>\n",
       "      <td>0</td>\n",
       "      <td>0</td>\n",
       "      <td>0</td>\n",
       "      <td>0</td>\n",
       "      <td>32</td>\n",
       "      <td>4</td>\n",
       "      <td>0</td>\n",
       "      <td>0</td>\n",
       "    </tr>\n",
       "    <tr>\n",
       "      <td>4</td>\n",
       "      <td>2018-09-15 14:00:00+00:00</td>\n",
       "      <td>1</td>\n",
       "      <td>2</td>\n",
       "      <td>False</td>\n",
       "      <td>5</td>\n",
       "      <td>2</td>\n",
       "      <td>50</td>\n",
       "      <td>-3297</td>\n",
       "      <td>123310</td>\n",
       "      <td>8837</td>\n",
       "      <td>...</td>\n",
       "      <td>0</td>\n",
       "      <td>0</td>\n",
       "      <td>0</td>\n",
       "      <td>0</td>\n",
       "      <td>0</td>\n",
       "      <td>0</td>\n",
       "      <td>45</td>\n",
       "      <td>14</td>\n",
       "      <td>0</td>\n",
       "      <td>0</td>\n",
       "    </tr>\n",
       "  </tbody>\n",
       "</table>\n",
       "<p>5 rows × 54 columns</p>\n",
       "</div>"
      ],
      "text/plain": [
       "                kickoff_time  team_h_score  team_a_score  was_home  round  \\\n",
       "0  2018-08-12 15:00:00+00:00             0             2      True      1   \n",
       "1  2018-08-18 16:30:00+00:00             3             2     False      2   \n",
       "2  2018-08-25 14:00:00+00:00             3             1      True      3   \n",
       "3  2018-09-02 12:30:00+00:00             2             3     False      4   \n",
       "4  2018-09-15 14:00:00+00:00             1             2     False      5   \n",
       "\n",
       "   total_points  value  transfers_balance  selected  transfers_in  ...  \\\n",
       "0             3     50                  0     70767             0  ...   \n",
       "1             3     50                188     90038          6059  ...   \n",
       "2             3     50               8540    107301         19550  ...   \n",
       "3             1     50               9582    123566         19332  ...   \n",
       "4             2     50              -3297    123310          8837  ...   \n",
       "\n",
       "   tackled  offside  target_missed  fouls  dribbles  id  fixture  \\\n",
       "0        0        0              0      0         0   0        0   \n",
       "1        0        0              0      0         0   0       13   \n",
       "2        0        0              0      0         0   0       20   \n",
       "3        0        0              0      0         0   0       32   \n",
       "4        0        0              0      0         0   0       45   \n",
       "\n",
       "   opponent_team  team  position  \n",
       "0             12     0         0  \n",
       "1              5     0         0  \n",
       "2             18     0         0  \n",
       "3              4     0         0  \n",
       "4             14     0         0  \n",
       "\n",
       "[5 rows x 54 columns]"
      ]
     },
     "execution_count": 2,
     "metadata": {},
     "output_type": "execute_result"
    }
   ],
   "source": [
    "import pandas as pd\n",
    "import numpy as np\n",
    "import matplotlib.pyplot as plt\n",
    "\n",
    "pp = pd.read_csv('../../data/csv/player_performance_01.csv')\n",
    "pp.head()"
   ]
  },
  {
   "cell_type": "markdown",
   "metadata": {},
   "source": [
    "## Pick columns to calculate form"
   ]
  },
  {
   "cell_type": "code",
   "execution_count": 3,
   "metadata": {
    "ExecuteTime": {
     "end_time": "2019-09-12T18:53:45.933952Z",
     "start_time": "2019-09-12T18:53:45.929029Z"
    }
   },
   "outputs": [
    {
     "name": "stdout",
     "output_type": "stream",
     "text": [
      "['kickoff_time', 'team_h_score', 'team_a_score', 'was_home', 'round', 'total_points', 'value', 'transfers_balance', 'selected', 'transfers_in', 'transfers_out', 'loaned_in', 'loaned_out', 'minutes', 'goals_scored', 'assists', 'clean_sheets', 'goals_conceded', 'own_goals', 'penalties_saved', 'penalties_missed', 'yellow_cards', 'red_cards', 'saves', 'bonus', 'bps', 'influence', 'creativity', 'threat', 'ict_index', 'ea_index', 'open_play_crosses', 'big_chances_created', 'clearances_blocks_interceptions', 'recoveries', 'key_passes', 'tackles', 'winning_goals', 'attempted_passes', 'completed_passes', 'penalties_conceded', 'big_chances_missed', 'errors_leading_to_goal', 'errors_leading_to_goal_attempt', 'tackled', 'offside', 'target_missed', 'fouls', 'dribbles', 'id', 'fixture', 'opponent_team', 'team', 'position']\n"
     ]
    }
   ],
   "source": [
    "print(list(pp.columns))"
   ]
  },
  {
   "cell_type": "code",
   "execution_count": 52,
   "metadata": {
    "ExecuteTime": {
     "end_time": "2019-09-12T21:20:16.501035Z",
     "start_time": "2019-09-12T21:20:16.492408Z"
    }
   },
   "outputs": [],
   "source": [
    "# these columns will have form calculated\n",
    "form_on_columns = [\n",
    "    \"total_points\", \"minutes\", \"goals_scored\", \"assists\", \"clean_sheets\",\n",
    "    \"goals_conceded\", \"own_goals\", \"penalties_saved\", \"penalties_missed\",\n",
    "    \"yellow_cards\", \"red_cards\", \"saves\", \"bonus\", \"bps\", \"influence\",\n",
    "    \"creativity\", \"threat\", \"ict_index\", \"ea_index\", \"open_play_crosses\",\n",
    "    \"big_chances_created\", \"clearances_blocks_interceptions\", \"recoveries\",\n",
    "    \"key_passes\", \"tackles\", \"winning_goals\", \"attempted_passes\",\n",
    "    \"completed_passes\", \"penalties_conceded\", \"big_chances_missed\",\n",
    "    \"errors_leading_to_goals\", \"tackled\", \"offside\", \"target_missed\", \"fouls\",\n",
    "    \"dribbles\"\n",
    "]"
   ]
  },
  {
   "cell_type": "markdown",
   "metadata": {},
   "source": [
    "## Calculate response function"
   ]
  },
  {
   "cell_type": "code",
   "execution_count": 61,
   "metadata": {
    "ExecuteTime": {
     "end_time": "2019-09-12T21:42:29.489974Z",
     "start_time": "2019-09-12T21:42:29.370740Z"
    }
   },
   "outputs": [
    {
     "data": {
      "image/png": "[encoded data removed]",
      "text/plain": [
       "<Figure size 432x288 with 1 Axes>"
      ]
     },
     "metadata": {
      "needs_background": "light"
     },
     "output_type": "display_data"
    }
   ],
   "source": [
    "# normpdf function\n",
    "import math\n",
    "def normpdf(x, mu, sigma):\n",
    "    return (1/np.sqrt(2*math.pi*(sigma**2)))*np.exp(-((x-mu)**2)/(2*(sigma**2)))\n",
    "\n",
    "# define form response\n",
    "nGames = 3 # number of games to consider\n",
    "sigma = 1 # fall off from most recent game. inf sigma is just the average\n",
    "\n",
    "# games array\n",
    "games = np.array(range(1,nGames+1))\n",
    "games_fill = np.linspace(1,nGames,41)\n",
    "\n",
    "# response array\n",
    "response = normpdf(games, 1, sigma)\n",
    "response_fill = normpdf(games_fill, 1, sigma)\n",
    "\n",
    "# normalise array\n",
    "norm_response = response/np.sum(response)\n",
    "norm_response_fill = response_fill/np.sum(response)\n",
    "\n",
    "# plot response\n",
    "plt.plot(games_fill, norm_response_fill);\n",
    "plt.xticks(games);\n",
    "plt.scatter(games, norm_response);\n",
    "plt.ylim(0,1);\n",
    "plt.xlabel('GMWA ');\n",
    "plt.ylabel('Relative Weighting');"
   ]
  },
  {
   "cell_type": "markdown",
   "metadata": {},
   "source": [
    "## Loop through data table"
   ]
  },
  {
   "cell_type": "code",
   "execution_count": null,
   "metadata": {},
   "outputs": [],
   "source": []
  }
 ],
 "metadata": {
  "kernelspec": {
   "display_name": "Python 3",
   "language": "python",
   "name": "python3"
  },
  "language_info": {
   "codemirror_mode": {
    "name": "ipython",
    "version": 3
   },
   "file_extension": ".py",
   "mimetype": "text/x-python",
   "name": "python",
   "nbconvert_exporter": "python",
   "pygments_lexer": "ipython3",
   "version": "3.7.4"
  },
  "toc": {
   "base_numbering": 1,
   "nav_menu": {},
   "number_sections": true,
   "sideBar": true,
   "skip_h1_title": true,
   "title_cell": "Table of Contents",
   "title_sidebar": "Contents",
   "toc_cell": true,
   "toc_position": {},
   "toc_section_display": true,
   "toc_window_display": true
  }
 },
 "nbformat": 4,
 "nbformat_minor": 2
}
