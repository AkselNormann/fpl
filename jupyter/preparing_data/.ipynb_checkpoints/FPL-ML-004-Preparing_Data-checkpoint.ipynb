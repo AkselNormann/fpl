{
 "cells": [
  {
   "cell_type": "markdown",
   "metadata": {
    "toc": true
   },
   "source": [
    "<h1>Table of Contents<span class=\"tocSkip\"></span></h1>\n",
    "<div class=\"toc\"><ul class=\"toc-item\"><li><span><a href=\"#FPL-ML-004:-Preparing-Data\" data-toc-modified-id=\"FPL-ML-004:-Preparing-Data-1\"><span class=\"toc-item-num\">1&nbsp;&nbsp;</span>FPL-ML-004: Preparing Data</a></span><ul class=\"toc-item\"><li><span><a href=\"#Import-Packages\" data-toc-modified-id=\"Import-Packages-1.1\"><span class=\"toc-item-num\">1.1&nbsp;&nbsp;</span>Import Packages</a></span></li><li><span><a href=\"#Teams\" data-toc-modified-id=\"Teams-1.2\"><span class=\"toc-item-num\">1.2&nbsp;&nbsp;</span>Teams</a></span><ul class=\"toc-item\"><li><span><a href=\"#Read-in-dataset\" data-toc-modified-id=\"Read-in-dataset-1.2.1\"><span class=\"toc-item-num\">1.2.1&nbsp;&nbsp;</span>Read in dataset</a></span></li><li><span><a href=\"#Save-raw-table-to-html-for-blog\" data-toc-modified-id=\"Save-raw-table-to-html-for-blog-1.2.2\"><span class=\"toc-item-num\">1.2.2&nbsp;&nbsp;</span>Save raw table to html for blog</a></span></li><li><span><a href=\"#Look-at-column-names\" data-toc-modified-id=\"Look-at-column-names-1.2.3\"><span class=\"toc-item-num\">1.2.3&nbsp;&nbsp;</span>Look at column names</a></span></li><li><span><a href=\"#Remove-excess-columns\" data-toc-modified-id=\"Remove-excess-columns-1.2.4\"><span class=\"toc-item-num\">1.2.4&nbsp;&nbsp;</span>Remove excess columns</a></span></li><li><span><a href=\"#Start-team-id-index-from-0\" data-toc-modified-id=\"Start-team-id-index-from-0-1.2.5\"><span class=\"toc-item-num\">1.2.5&nbsp;&nbsp;</span>Start team id index from 0</a></span></li><li><span><a href=\"#Check-if-row-index-and-id-are-equal\" data-toc-modified-id=\"Check-if-row-index-and-id-are-equal-1.2.6\"><span class=\"toc-item-num\">1.2.6&nbsp;&nbsp;</span>Check if row index and id are equal</a></span></li><li><span><a href=\"#Save-new-table-to-html-for-blog\" data-toc-modified-id=\"Save-new-table-to-html-for-blog-1.2.7\"><span class=\"toc-item-num\">1.2.7&nbsp;&nbsp;</span>Save new table to html for blog</a></span></li><li><span><a href=\"#Save-table-to-csv-for-future-work\" data-toc-modified-id=\"Save-table-to-csv-for-future-work-1.2.8\"><span class=\"toc-item-num\">1.2.8&nbsp;&nbsp;</span>Save table to csv for future work</a></span></li></ul></li><li><span><a href=\"#Players\" data-toc-modified-id=\"Players-1.3\"><span class=\"toc-item-num\">1.3&nbsp;&nbsp;</span>Players</a></span><ul class=\"toc-item\"><li><span><a href=\"#Read-in-data\" data-toc-modified-id=\"Read-in-data-1.3.1\"><span class=\"toc-item-num\">1.3.1&nbsp;&nbsp;</span>Read in data</a></span></li><li><span><a href=\"#Save-raw-table-for-blog\" data-toc-modified-id=\"Save-raw-table-for-blog-1.3.2\"><span class=\"toc-item-num\">1.3.2&nbsp;&nbsp;</span>Save raw table for blog</a></span></li><li><span><a href=\"#Look-at-column-names\" data-toc-modified-id=\"Look-at-column-names-1.3.3\"><span class=\"toc-item-num\">1.3.3&nbsp;&nbsp;</span>Look at column names</a></span></li><li><span><a href=\"#Remove-excess-columns\" data-toc-modified-id=\"Remove-excess-columns-1.3.4\"><span class=\"toc-item-num\">1.3.4&nbsp;&nbsp;</span>Remove excess columns</a></span></li><li><span><a href=\"#Give-fields-approprait-names\" data-toc-modified-id=\"Give-fields-approprait-names-1.3.5\"><span class=\"toc-item-num\">1.3.5&nbsp;&nbsp;</span>Give fields approprait names</a></span></li><li><span><a href=\"#Restart-index-from-0\" data-toc-modified-id=\"Restart-index-from-0-1.3.6\"><span class=\"toc-item-num\">1.3.6&nbsp;&nbsp;</span>Restart index from 0</a></span></li><li><span><a href=\"#Check-id-and-row-index-are-equal\" data-toc-modified-id=\"Check-id-and-row-index-are-equal-1.3.7\"><span class=\"toc-item-num\">1.3.7&nbsp;&nbsp;</span>Check id and row index are equal</a></span></li><li><span><a href=\"#Save-table-to-html-for-blog\" data-toc-modified-id=\"Save-table-to-html-for-blog-1.3.8\"><span class=\"toc-item-num\">1.3.8&nbsp;&nbsp;</span>Save table to html for blog</a></span></li><li><span><a href=\"#Save-table-to-csv-for-future-work\" data-toc-modified-id=\"Save-table-to-csv-for-future-work-1.3.9\"><span class=\"toc-item-num\">1.3.9&nbsp;&nbsp;</span>Save table to csv for future work</a></span></li></ul></li><li><span><a href=\"#Fixtures\" data-toc-modified-id=\"Fixtures-1.4\"><span class=\"toc-item-num\">1.4&nbsp;&nbsp;</span>Fixtures</a></span><ul class=\"toc-item\"><li><span><a href=\"#Read-in-data\" data-toc-modified-id=\"Read-in-data-1.4.1\"><span class=\"toc-item-num\">1.4.1&nbsp;&nbsp;</span>Read in data</a></span></li><li><span><a href=\"#Save-raw-table-for-blog\" data-toc-modified-id=\"Save-raw-table-for-blog-1.4.2\"><span class=\"toc-item-num\">1.4.2&nbsp;&nbsp;</span>Save raw table for blog</a></span></li><li><span><a href=\"#Look-at-column-names\" data-toc-modified-id=\"Look-at-column-names-1.4.3\"><span class=\"toc-item-num\">1.4.3&nbsp;&nbsp;</span>Look at column names</a></span></li><li><span><a href=\"#Remove-excess-columns\" data-toc-modified-id=\"Remove-excess-columns-1.4.4\"><span class=\"toc-item-num\">1.4.4&nbsp;&nbsp;</span>Remove excess columns</a></span></li><li><span><a href=\"#Start-index-from-0\" data-toc-modified-id=\"Start-index-from-0-1.4.5\"><span class=\"toc-item-num\">1.4.5&nbsp;&nbsp;</span>Start index from 0</a></span></li><li><span><a href=\"#Check-that-id-and-row-index-match\" data-toc-modified-id=\"Check-that-id-and-row-index-match-1.4.6\"><span class=\"toc-item-num\">1.4.6&nbsp;&nbsp;</span>Check that id and row index match</a></span></li><li><span><a href=\"#Save-table-as-html-for-blog\" data-toc-modified-id=\"Save-table-as-html-for-blog-1.4.7\"><span class=\"toc-item-num\">1.4.7&nbsp;&nbsp;</span>Save table as html for blog</a></span></li><li><span><a href=\"#Save-table-to-csv-for-future-work\" data-toc-modified-id=\"Save-table-to-csv-for-future-work-1.4.8\"><span class=\"toc-item-num\">1.4.8&nbsp;&nbsp;</span>Save table to csv for future work</a></span></li></ul></li><li><span><a href=\"#Player-Performance\" data-toc-modified-id=\"Player-Performance-1.5\"><span class=\"toc-item-num\">1.5&nbsp;&nbsp;</span>Player Performance</a></span><ul class=\"toc-item\"><li><span><a href=\"#Read-in-the-data\" data-toc-modified-id=\"Read-in-the-data-1.5.1\"><span class=\"toc-item-num\">1.5.1&nbsp;&nbsp;</span>Read in the data</a></span></li><li><span><a href=\"#Look-at-columns\" data-toc-modified-id=\"Look-at-columns-1.5.2\"><span class=\"toc-item-num\">1.5.2&nbsp;&nbsp;</span>Look at columns</a></span></li><li><span><a href=\"#Remove-excess-columns\" data-toc-modified-id=\"Remove-excess-columns-1.5.3\"><span class=\"toc-item-num\">1.5.3&nbsp;&nbsp;</span>Remove excess columns</a></span></li></ul></li></ul></li></ul></div>"
   ]
  },
  {
   "cell_type": "markdown",
   "metadata": {},
   "source": [
    "# FPL-ML-004: Preparing Data\n",
    "\n",
    "## Import Packages"
   ]
  },
  {
   "cell_type": "code",
   "execution_count": 1,
   "metadata": {
    "ExecuteTime": {
     "end_time": "2019-09-03T18:37:20.444492Z",
     "start_time": "2019-09-03T18:37:20.165112Z"
    }
   },
   "outputs": [],
   "source": [
    "import json\n",
    "import pandas as pd\n",
    "import numpy as np\n",
    "import collections\n",
    "\n",
    "#pd.set_option('display.max_columns', None)"
   ]
  },
  {
   "cell_type": "markdown",
   "metadata": {},
   "source": [
    "## Teams\n",
    "\n",
    "### Read in dataset"
   ]
  },
  {
   "cell_type": "code",
   "execution_count": 2,
   "metadata": {
    "ExecuteTime": {
     "end_time": "2019-09-03T18:37:20.516299Z",
     "start_time": "2019-09-03T18:37:20.446773Z"
    }
   },
   "outputs": [
    {
     "data": {
      "text/html": [
       "<div>\n",
       "<style scoped>\n",
       "    .dataframe tbody tr th:only-of-type {\n",
       "        vertical-align: middle;\n",
       "    }\n",
       "\n",
       "    .dataframe tbody tr th {\n",
       "        vertical-align: top;\n",
       "    }\n",
       "\n",
       "    .dataframe thead th {\n",
       "        text-align: right;\n",
       "    }\n",
       "</style>\n",
       "<table border=\"1\" class=\"dataframe\">\n",
       "  <thead>\n",
       "    <tr style=\"text-align: right;\">\n",
       "      <th></th>\n",
       "      <th>code</th>\n",
       "      <th>current_event_fixture</th>\n",
       "      <th>draw</th>\n",
       "      <th>form</th>\n",
       "      <th>id</th>\n",
       "      <th>link_url</th>\n",
       "      <th>loss</th>\n",
       "      <th>name</th>\n",
       "      <th>next_event_fixture</th>\n",
       "      <th>played</th>\n",
       "      <th>...</th>\n",
       "      <th>strength</th>\n",
       "      <th>strength_attack_away</th>\n",
       "      <th>strength_attack_home</th>\n",
       "      <th>strength_defence_away</th>\n",
       "      <th>strength_defence_home</th>\n",
       "      <th>strength_overall_away</th>\n",
       "      <th>strength_overall_home</th>\n",
       "      <th>team_division</th>\n",
       "      <th>unavailable</th>\n",
       "      <th>win</th>\n",
       "    </tr>\n",
       "  </thead>\n",
       "  <tbody>\n",
       "    <tr>\n",
       "      <th>0</th>\n",
       "      <td>3</td>\n",
       "      <td>[{'is_home': False, 'month': 5, 'event_day': 1...</td>\n",
       "      <td>0</td>\n",
       "      <td>None</td>\n",
       "      <td>1</td>\n",
       "      <td></td>\n",
       "      <td>0</td>\n",
       "      <td>Arsenal</td>\n",
       "      <td>[]</td>\n",
       "      <td>0</td>\n",
       "      <td>...</td>\n",
       "      <td>4</td>\n",
       "      <td>1270</td>\n",
       "      <td>1240</td>\n",
       "      <td>1340</td>\n",
       "      <td>1310</td>\n",
       "      <td>1320</td>\n",
       "      <td>1260</td>\n",
       "      <td>1</td>\n",
       "      <td>False</td>\n",
       "      <td>0</td>\n",
       "    </tr>\n",
       "    <tr>\n",
       "      <th>1</th>\n",
       "      <td>91</td>\n",
       "      <td>[{'is_home': False, 'month': 5, 'event_day': 1...</td>\n",
       "      <td>0</td>\n",
       "      <td>None</td>\n",
       "      <td>2</td>\n",
       "      <td></td>\n",
       "      <td>0</td>\n",
       "      <td>Bournemouth</td>\n",
       "      <td>[]</td>\n",
       "      <td>0</td>\n",
       "      <td>...</td>\n",
       "      <td>3</td>\n",
       "      <td>1100</td>\n",
       "      <td>1040</td>\n",
       "      <td>1130</td>\n",
       "      <td>1120</td>\n",
       "      <td>1130</td>\n",
       "      <td>1030</td>\n",
       "      <td>1</td>\n",
       "      <td>False</td>\n",
       "      <td>0</td>\n",
       "    </tr>\n",
       "    <tr>\n",
       "      <th>2</th>\n",
       "      <td>36</td>\n",
       "      <td>[{'is_home': True, 'month': 5, 'event_day': 1,...</td>\n",
       "      <td>0</td>\n",
       "      <td>None</td>\n",
       "      <td>3</td>\n",
       "      <td></td>\n",
       "      <td>0</td>\n",
       "      <td>Brighton</td>\n",
       "      <td>[]</td>\n",
       "      <td>0</td>\n",
       "      <td>...</td>\n",
       "      <td>2</td>\n",
       "      <td>1140</td>\n",
       "      <td>1040</td>\n",
       "      <td>1070</td>\n",
       "      <td>1010</td>\n",
       "      <td>1050</td>\n",
       "      <td>1030</td>\n",
       "      <td>1</td>\n",
       "      <td>False</td>\n",
       "      <td>0</td>\n",
       "    </tr>\n",
       "    <tr>\n",
       "      <th>3</th>\n",
       "      <td>90</td>\n",
       "      <td>[{'is_home': True, 'month': 5, 'event_day': 1,...</td>\n",
       "      <td>0</td>\n",
       "      <td>None</td>\n",
       "      <td>4</td>\n",
       "      <td></td>\n",
       "      <td>0</td>\n",
       "      <td>Burnley</td>\n",
       "      <td>[]</td>\n",
       "      <td>0</td>\n",
       "      <td>...</td>\n",
       "      <td>3</td>\n",
       "      <td>1030</td>\n",
       "      <td>990</td>\n",
       "      <td>1040</td>\n",
       "      <td>1000</td>\n",
       "      <td>1100</td>\n",
       "      <td>1070</td>\n",
       "      <td>1</td>\n",
       "      <td>False</td>\n",
       "      <td>0</td>\n",
       "    </tr>\n",
       "    <tr>\n",
       "      <th>4</th>\n",
       "      <td>97</td>\n",
       "      <td>[{'is_home': False, 'month': 5, 'event_day': 1...</td>\n",
       "      <td>0</td>\n",
       "      <td>None</td>\n",
       "      <td>5</td>\n",
       "      <td></td>\n",
       "      <td>0</td>\n",
       "      <td>Cardiff</td>\n",
       "      <td>[]</td>\n",
       "      <td>0</td>\n",
       "      <td>...</td>\n",
       "      <td>2</td>\n",
       "      <td>1060</td>\n",
       "      <td>1030</td>\n",
       "      <td>1090</td>\n",
       "      <td>1020</td>\n",
       "      <td>1080</td>\n",
       "      <td>1030</td>\n",
       "      <td>1</td>\n",
       "      <td>False</td>\n",
       "      <td>0</td>\n",
       "    </tr>\n",
       "  </tbody>\n",
       "</table>\n",
       "<p>5 rows × 23 columns</p>\n",
       "</div>"
      ],
      "text/plain": [
       "   code                              current_event_fixture  draw  form  id  \\\n",
       "0     3  [{'is_home': False, 'month': 5, 'event_day': 1...     0  None   1   \n",
       "1    91  [{'is_home': False, 'month': 5, 'event_day': 1...     0  None   2   \n",
       "2    36  [{'is_home': True, 'month': 5, 'event_day': 1,...     0  None   3   \n",
       "3    90  [{'is_home': True, 'month': 5, 'event_day': 1,...     0  None   4   \n",
       "4    97  [{'is_home': False, 'month': 5, 'event_day': 1...     0  None   5   \n",
       "\n",
       "  link_url  loss         name next_event_fixture  played  ...  strength  \\\n",
       "0              0      Arsenal                 []       0  ...         4   \n",
       "1              0  Bournemouth                 []       0  ...         3   \n",
       "2              0     Brighton                 []       0  ...         2   \n",
       "3              0      Burnley                 []       0  ...         3   \n",
       "4              0      Cardiff                 []       0  ...         2   \n",
       "\n",
       "   strength_attack_away strength_attack_home  strength_defence_away  \\\n",
       "0                  1270                 1240                   1340   \n",
       "1                  1100                 1040                   1130   \n",
       "2                  1140                 1040                   1070   \n",
       "3                  1030                  990                   1040   \n",
       "4                  1060                 1030                   1090   \n",
       "\n",
       "   strength_defence_home  strength_overall_away  strength_overall_home  \\\n",
       "0                   1310                   1320                   1260   \n",
       "1                   1120                   1130                   1030   \n",
       "2                   1010                   1050                   1030   \n",
       "3                   1000                   1100                   1070   \n",
       "4                   1020                   1080                   1030   \n",
       "\n",
       "   team_division  unavailable  win  \n",
       "0              1        False    0  \n",
       "1              1        False    0  \n",
       "2              1        False    0  \n",
       "3              1        False    0  \n",
       "4              1        False    0  \n",
       "\n",
       "[5 rows x 23 columns]"
      ]
     },
     "execution_count": 2,
     "metadata": {},
     "output_type": "execute_result"
    }
   ],
   "source": [
    "with open('../../data/json/teams/teams.json', 'r') as f:\n",
    "    teams = pd.DataFrame(json.load(f))\n",
    "    \n",
    "teams.head()"
   ]
  },
  {
   "cell_type": "markdown",
   "metadata": {},
   "source": [
    "### Save raw table to html for blog"
   ]
  },
  {
   "cell_type": "code",
   "execution_count": 3,
   "metadata": {
    "ExecuteTime": {
     "end_time": "2019-09-03T18:37:20.615261Z",
     "start_time": "2019-09-03T18:37:20.603867Z"
    }
   },
   "outputs": [],
   "source": [
    "ncols = 4\n",
    "teams.iloc[list(range(ncols))+[len(teams)-1]].transpose().to_html('../../data/html/teams_raw.html', bold_rows=False)"
   ]
  },
  {
   "cell_type": "markdown",
   "metadata": {},
   "source": [
    "### Look at column names"
   ]
  },
  {
   "cell_type": "code",
   "execution_count": 4,
   "metadata": {
    "ExecuteTime": {
     "end_time": "2019-09-03T18:37:20.766087Z",
     "start_time": "2019-09-03T18:37:20.761439Z"
    }
   },
   "outputs": [
    {
     "name": "stdout",
     "output_type": "stream",
     "text": [
      "Index(['code', 'current_event_fixture', 'draw', 'form', 'id', 'link_url',\n",
      "       'loss', 'name', 'next_event_fixture', 'played', 'points', 'position',\n",
      "       'short_name', 'strength', 'strength_attack_away',\n",
      "       'strength_attack_home', 'strength_defence_away',\n",
      "       'strength_defence_home', 'strength_overall_away',\n",
      "       'strength_overall_home', 'team_division', 'unavailable', 'win'],\n",
      "      dtype='object')\n"
     ]
    }
   ],
   "source": [
    "print(teams.columns)"
   ]
  },
  {
   "cell_type": "markdown",
   "metadata": {},
   "source": [
    "### Remove excess columns"
   ]
  },
  {
   "cell_type": "code",
   "execution_count": 5,
   "metadata": {
    "ExecuteTime": {
     "end_time": "2019-09-03T18:37:20.941870Z",
     "start_time": "2019-09-03T18:37:20.928878Z"
    }
   },
   "outputs": [
    {
     "data": {
      "text/html": [
       "<div>\n",
       "<style scoped>\n",
       "    .dataframe tbody tr th:only-of-type {\n",
       "        vertical-align: middle;\n",
       "    }\n",
       "\n",
       "    .dataframe tbody tr th {\n",
       "        vertical-align: top;\n",
       "    }\n",
       "\n",
       "    .dataframe thead th {\n",
       "        text-align: right;\n",
       "    }\n",
       "</style>\n",
       "<table border=\"1\" class=\"dataframe\">\n",
       "  <thead>\n",
       "    <tr style=\"text-align: right;\">\n",
       "      <th></th>\n",
       "      <th>id</th>\n",
       "      <th>name</th>\n",
       "      <th>short_name</th>\n",
       "      <th>strength</th>\n",
       "      <th>strength_defence_home</th>\n",
       "      <th>strength_attack_home</th>\n",
       "      <th>strength_overall_home</th>\n",
       "      <th>strength_defence_away</th>\n",
       "      <th>strength_attack_away</th>\n",
       "      <th>strength_overall_away</th>\n",
       "    </tr>\n",
       "  </thead>\n",
       "  <tbody>\n",
       "    <tr>\n",
       "      <th>0</th>\n",
       "      <td>1</td>\n",
       "      <td>Arsenal</td>\n",
       "      <td>ARS</td>\n",
       "      <td>4</td>\n",
       "      <td>1310</td>\n",
       "      <td>1240</td>\n",
       "      <td>1260</td>\n",
       "      <td>1340</td>\n",
       "      <td>1270</td>\n",
       "      <td>1320</td>\n",
       "    </tr>\n",
       "    <tr>\n",
       "      <th>1</th>\n",
       "      <td>2</td>\n",
       "      <td>Bournemouth</td>\n",
       "      <td>BOU</td>\n",
       "      <td>3</td>\n",
       "      <td>1120</td>\n",
       "      <td>1040</td>\n",
       "      <td>1030</td>\n",
       "      <td>1130</td>\n",
       "      <td>1100</td>\n",
       "      <td>1130</td>\n",
       "    </tr>\n",
       "    <tr>\n",
       "      <th>2</th>\n",
       "      <td>3</td>\n",
       "      <td>Brighton</td>\n",
       "      <td>BHA</td>\n",
       "      <td>2</td>\n",
       "      <td>1010</td>\n",
       "      <td>1040</td>\n",
       "      <td>1030</td>\n",
       "      <td>1070</td>\n",
       "      <td>1140</td>\n",
       "      <td>1050</td>\n",
       "    </tr>\n",
       "    <tr>\n",
       "      <th>3</th>\n",
       "      <td>4</td>\n",
       "      <td>Burnley</td>\n",
       "      <td>BUR</td>\n",
       "      <td>3</td>\n",
       "      <td>1000</td>\n",
       "      <td>990</td>\n",
       "      <td>1070</td>\n",
       "      <td>1040</td>\n",
       "      <td>1030</td>\n",
       "      <td>1100</td>\n",
       "    </tr>\n",
       "    <tr>\n",
       "      <th>4</th>\n",
       "      <td>5</td>\n",
       "      <td>Cardiff</td>\n",
       "      <td>CAR</td>\n",
       "      <td>2</td>\n",
       "      <td>1020</td>\n",
       "      <td>1030</td>\n",
       "      <td>1030</td>\n",
       "      <td>1090</td>\n",
       "      <td>1060</td>\n",
       "      <td>1080</td>\n",
       "    </tr>\n",
       "  </tbody>\n",
       "</table>\n",
       "</div>"
      ],
      "text/plain": [
       "   id         name short_name  strength  strength_defence_home  \\\n",
       "0   1      Arsenal        ARS         4                   1310   \n",
       "1   2  Bournemouth        BOU         3                   1120   \n",
       "2   3     Brighton        BHA         2                   1010   \n",
       "3   4      Burnley        BUR         3                   1000   \n",
       "4   5      Cardiff        CAR         2                   1020   \n",
       "\n",
       "   strength_attack_home  strength_overall_home  strength_defence_away  \\\n",
       "0                  1240                   1260                   1340   \n",
       "1                  1040                   1030                   1130   \n",
       "2                  1040                   1030                   1070   \n",
       "3                   990                   1070                   1040   \n",
       "4                  1030                   1030                   1090   \n",
       "\n",
       "   strength_attack_away  strength_overall_away  \n",
       "0                  1270                   1320  \n",
       "1                  1100                   1130  \n",
       "2                  1140                   1050  \n",
       "3                  1030                   1100  \n",
       "4                  1060                   1080  "
      ]
     },
     "execution_count": 5,
     "metadata": {},
     "output_type": "execute_result"
    }
   ],
   "source": [
    "keep_these_columns = ['id', 'name', 'short_name', 'strength',\n",
    "                      'strength_defence_home', 'strength_attack_home', 'strength_overall_home',\n",
    "                      'strength_defence_away', 'strength_attack_away', 'strength_overall_away']\n",
    "\n",
    "teams_cleaned = teams.copy()\n",
    "teams_cleaned = teams_cleaned[keep_these_columns]\n",
    "teams_cleaned.head()"
   ]
  },
  {
   "cell_type": "markdown",
   "metadata": {},
   "source": [
    "### Start team id index from 0"
   ]
  },
  {
   "cell_type": "code",
   "execution_count": 6,
   "metadata": {
    "ExecuteTime": {
     "end_time": "2019-09-03T18:37:21.122684Z",
     "start_time": "2019-09-03T18:37:21.084095Z"
    }
   },
   "outputs": [
    {
     "data": {
      "text/html": [
       "<div>\n",
       "<style scoped>\n",
       "    .dataframe tbody tr th:only-of-type {\n",
       "        vertical-align: middle;\n",
       "    }\n",
       "\n",
       "    .dataframe tbody tr th {\n",
       "        vertical-align: top;\n",
       "    }\n",
       "\n",
       "    .dataframe thead th {\n",
       "        text-align: right;\n",
       "    }\n",
       "</style>\n",
       "<table border=\"1\" class=\"dataframe\">\n",
       "  <thead>\n",
       "    <tr style=\"text-align: right;\">\n",
       "      <th></th>\n",
       "      <th>id</th>\n",
       "      <th>name</th>\n",
       "      <th>short_name</th>\n",
       "      <th>strength</th>\n",
       "      <th>strength_defence_home</th>\n",
       "      <th>strength_attack_home</th>\n",
       "      <th>strength_overall_home</th>\n",
       "      <th>strength_defence_away</th>\n",
       "      <th>strength_attack_away</th>\n",
       "      <th>strength_overall_away</th>\n",
       "    </tr>\n",
       "  </thead>\n",
       "  <tbody>\n",
       "    <tr>\n",
       "      <th>0</th>\n",
       "      <td>0</td>\n",
       "      <td>Arsenal</td>\n",
       "      <td>ARS</td>\n",
       "      <td>4</td>\n",
       "      <td>1310</td>\n",
       "      <td>1240</td>\n",
       "      <td>1260</td>\n",
       "      <td>1340</td>\n",
       "      <td>1270</td>\n",
       "      <td>1320</td>\n",
       "    </tr>\n",
       "    <tr>\n",
       "      <th>1</th>\n",
       "      <td>1</td>\n",
       "      <td>Bournemouth</td>\n",
       "      <td>BOU</td>\n",
       "      <td>3</td>\n",
       "      <td>1120</td>\n",
       "      <td>1040</td>\n",
       "      <td>1030</td>\n",
       "      <td>1130</td>\n",
       "      <td>1100</td>\n",
       "      <td>1130</td>\n",
       "    </tr>\n",
       "    <tr>\n",
       "      <th>2</th>\n",
       "      <td>2</td>\n",
       "      <td>Brighton</td>\n",
       "      <td>BHA</td>\n",
       "      <td>2</td>\n",
       "      <td>1010</td>\n",
       "      <td>1040</td>\n",
       "      <td>1030</td>\n",
       "      <td>1070</td>\n",
       "      <td>1140</td>\n",
       "      <td>1050</td>\n",
       "    </tr>\n",
       "    <tr>\n",
       "      <th>3</th>\n",
       "      <td>3</td>\n",
       "      <td>Burnley</td>\n",
       "      <td>BUR</td>\n",
       "      <td>3</td>\n",
       "      <td>1000</td>\n",
       "      <td>990</td>\n",
       "      <td>1070</td>\n",
       "      <td>1040</td>\n",
       "      <td>1030</td>\n",
       "      <td>1100</td>\n",
       "    </tr>\n",
       "    <tr>\n",
       "      <th>4</th>\n",
       "      <td>4</td>\n",
       "      <td>Cardiff</td>\n",
       "      <td>CAR</td>\n",
       "      <td>2</td>\n",
       "      <td>1020</td>\n",
       "      <td>1030</td>\n",
       "      <td>1030</td>\n",
       "      <td>1090</td>\n",
       "      <td>1060</td>\n",
       "      <td>1080</td>\n",
       "    </tr>\n",
       "  </tbody>\n",
       "</table>\n",
       "</div>"
      ],
      "text/plain": [
       "   id         name short_name  strength  strength_defence_home  \\\n",
       "0   0      Arsenal        ARS         4                   1310   \n",
       "1   1  Bournemouth        BOU         3                   1120   \n",
       "2   2     Brighton        BHA         2                   1010   \n",
       "3   3      Burnley        BUR         3                   1000   \n",
       "4   4      Cardiff        CAR         2                   1020   \n",
       "\n",
       "   strength_attack_home  strength_overall_home  strength_defence_away  \\\n",
       "0                  1240                   1260                   1340   \n",
       "1                  1040                   1030                   1130   \n",
       "2                  1040                   1030                   1070   \n",
       "3                   990                   1070                   1040   \n",
       "4                  1030                   1030                   1090   \n",
       "\n",
       "   strength_attack_away  strength_overall_away  \n",
       "0                  1270                   1320  \n",
       "1                  1100                   1130  \n",
       "2                  1140                   1050  \n",
       "3                  1030                   1100  \n",
       "4                  1060                   1080  "
      ]
     },
     "execution_count": 6,
     "metadata": {},
     "output_type": "execute_result"
    }
   ],
   "source": [
    "teams_cleaned['id'] = teams_cleaned['id']-1\n",
    "teams_cleaned.head()"
   ]
  },
  {
   "cell_type": "markdown",
   "metadata": {},
   "source": [
    "### Check if row index and id are equal\n",
    "\n",
    "If the row index and id are equal, then in future we can go directly to the correct fixture by using the row index rather than searching for the right id."
   ]
  },
  {
   "cell_type": "code",
   "execution_count": 7,
   "metadata": {
    "ExecuteTime": {
     "end_time": "2019-09-03T18:37:21.268556Z",
     "start_time": "2019-09-03T18:37:21.264514Z"
    }
   },
   "outputs": [
    {
     "data": {
      "text/plain": [
       "True"
      ]
     },
     "execution_count": 7,
     "metadata": {},
     "output_type": "execute_result"
    }
   ],
   "source": [
    "teams_cleaned['id'].equals(pd.Series(teams_cleaned.index))"
   ]
  },
  {
   "cell_type": "markdown",
   "metadata": {},
   "source": [
    "### Save new table to html for blog"
   ]
  },
  {
   "cell_type": "code",
   "execution_count": 8,
   "metadata": {
    "ExecuteTime": {
     "end_time": "2019-09-03T18:37:21.452364Z",
     "start_time": "2019-09-03T18:37:21.444475Z"
    }
   },
   "outputs": [],
   "source": [
    "teams_cleaned.iloc[list(range(ncols))+[len(teams_cleaned)-1]].transpose().to_html('../../data/html/teams_clean.html', bold_rows=False)"
   ]
  },
  {
   "cell_type": "markdown",
   "metadata": {},
   "source": [
    "### Save table to csv for future work"
   ]
  },
  {
   "cell_type": "code",
   "execution_count": 9,
   "metadata": {
    "ExecuteTime": {
     "end_time": "2019-09-03T18:37:21.612197Z",
     "start_time": "2019-09-03T18:37:21.606972Z"
    }
   },
   "outputs": [],
   "source": [
    "teams_cleaned.to_csv(r'../../data/csv/teams.csv', index=False, index_label=False)"
   ]
  },
  {
   "cell_type": "markdown",
   "metadata": {},
   "source": [
    "## Players\n",
    "\n",
    "### Read in data"
   ]
  },
  {
   "cell_type": "code",
   "execution_count": 10,
   "metadata": {
    "ExecuteTime": {
     "end_time": "2019-09-03T18:37:21.812030Z",
     "start_time": "2019-09-03T18:37:21.769500Z"
    }
   },
   "outputs": [
    {
     "data": {
      "text/html": [
       "<div>\n",
       "<style scoped>\n",
       "    .dataframe tbody tr th:only-of-type {\n",
       "        vertical-align: middle;\n",
       "    }\n",
       "\n",
       "    .dataframe tbody tr th {\n",
       "        vertical-align: top;\n",
       "    }\n",
       "\n",
       "    .dataframe thead th {\n",
       "        text-align: right;\n",
       "    }\n",
       "</style>\n",
       "<table border=\"1\" class=\"dataframe\">\n",
       "  <thead>\n",
       "    <tr style=\"text-align: right;\">\n",
       "      <th></th>\n",
       "      <th>assists</th>\n",
       "      <th>bonus</th>\n",
       "      <th>bps</th>\n",
       "      <th>chance_of_playing_next_round</th>\n",
       "      <th>chance_of_playing_this_round</th>\n",
       "      <th>clean_sheets</th>\n",
       "      <th>code</th>\n",
       "      <th>cost_change_event</th>\n",
       "      <th>cost_change_event_fall</th>\n",
       "      <th>cost_change_start</th>\n",
       "      <th>...</th>\n",
       "      <th>threat</th>\n",
       "      <th>total_points</th>\n",
       "      <th>transfers_in</th>\n",
       "      <th>transfers_in_event</th>\n",
       "      <th>transfers_out</th>\n",
       "      <th>transfers_out_event</th>\n",
       "      <th>value_form</th>\n",
       "      <th>value_season</th>\n",
       "      <th>web_name</th>\n",
       "      <th>yellow_cards</th>\n",
       "    </tr>\n",
       "  </thead>\n",
       "  <tbody>\n",
       "    <tr>\n",
       "      <th>0</th>\n",
       "      <td>0</td>\n",
       "      <td>3</td>\n",
       "      <td>130</td>\n",
       "      <td>100.0</td>\n",
       "      <td>100.0</td>\n",
       "      <td>1</td>\n",
       "      <td>11334</td>\n",
       "      <td>0</td>\n",
       "      <td>0</td>\n",
       "      <td>-3</td>\n",
       "      <td>...</td>\n",
       "      <td>0.0</td>\n",
       "      <td>24</td>\n",
       "      <td>83497</td>\n",
       "      <td>0</td>\n",
       "      <td>136211</td>\n",
       "      <td>0</td>\n",
       "      <td>0.0</td>\n",
       "      <td>5.1</td>\n",
       "      <td>Cech</td>\n",
       "      <td>0</td>\n",
       "    </tr>\n",
       "    <tr>\n",
       "      <th>1</th>\n",
       "      <td>0</td>\n",
       "      <td>5</td>\n",
       "      <td>568</td>\n",
       "      <td>NaN</td>\n",
       "      <td>NaN</td>\n",
       "      <td>6</td>\n",
       "      <td>80201</td>\n",
       "      <td>0</td>\n",
       "      <td>0</td>\n",
       "      <td>-1</td>\n",
       "      <td>...</td>\n",
       "      <td>0.0</td>\n",
       "      <td>106</td>\n",
       "      <td>339095</td>\n",
       "      <td>0</td>\n",
       "      <td>250834</td>\n",
       "      <td>0</td>\n",
       "      <td>0.5</td>\n",
       "      <td>21.6</td>\n",
       "      <td>Leno</td>\n",
       "      <td>0</td>\n",
       "    </tr>\n",
       "    <tr>\n",
       "      <th>2</th>\n",
       "      <td>0</td>\n",
       "      <td>8</td>\n",
       "      <td>319</td>\n",
       "      <td>100.0</td>\n",
       "      <td>100.0</td>\n",
       "      <td>3</td>\n",
       "      <td>51507</td>\n",
       "      <td>0</td>\n",
       "      <td>0</td>\n",
       "      <td>-1</td>\n",
       "      <td>...</td>\n",
       "      <td>105.0</td>\n",
       "      <td>62</td>\n",
       "      <td>128478</td>\n",
       "      <td>0</td>\n",
       "      <td>92187</td>\n",
       "      <td>0</td>\n",
       "      <td>0.1</td>\n",
       "      <td>11.5</td>\n",
       "      <td>Koscielny</td>\n",
       "      <td>1</td>\n",
       "    </tr>\n",
       "    <tr>\n",
       "      <th>3</th>\n",
       "      <td>5</td>\n",
       "      <td>5</td>\n",
       "      <td>304</td>\n",
       "      <td>0.0</td>\n",
       "      <td>0.0</td>\n",
       "      <td>4</td>\n",
       "      <td>98745</td>\n",
       "      <td>0</td>\n",
       "      <td>0</td>\n",
       "      <td>-2</td>\n",
       "      <td>...</td>\n",
       "      <td>280.0</td>\n",
       "      <td>60</td>\n",
       "      <td>567084</td>\n",
       "      <td>0</td>\n",
       "      <td>1143684</td>\n",
       "      <td>0</td>\n",
       "      <td>0.0</td>\n",
       "      <td>11.3</td>\n",
       "      <td>Bellerín</td>\n",
       "      <td>3</td>\n",
       "    </tr>\n",
       "    <tr>\n",
       "      <th>4</th>\n",
       "      <td>4</td>\n",
       "      <td>7</td>\n",
       "      <td>392</td>\n",
       "      <td>100.0</td>\n",
       "      <td>100.0</td>\n",
       "      <td>5</td>\n",
       "      <td>38411</td>\n",
       "      <td>0</td>\n",
       "      <td>0</td>\n",
       "      <td>-1</td>\n",
       "      <td>...</td>\n",
       "      <td>224.0</td>\n",
       "      <td>77</td>\n",
       "      <td>298216</td>\n",
       "      <td>0</td>\n",
       "      <td>290921</td>\n",
       "      <td>0</td>\n",
       "      <td>0.3</td>\n",
       "      <td>14.3</td>\n",
       "      <td>Monreal</td>\n",
       "      <td>5</td>\n",
       "    </tr>\n",
       "  </tbody>\n",
       "</table>\n",
       "<p>5 rows × 58 columns</p>\n",
       "</div>"
      ],
      "text/plain": [
       "   assists  bonus  bps  chance_of_playing_next_round  \\\n",
       "0        0      3  130                         100.0   \n",
       "1        0      5  568                           NaN   \n",
       "2        0      8  319                         100.0   \n",
       "3        5      5  304                           0.0   \n",
       "4        4      7  392                         100.0   \n",
       "\n",
       "   chance_of_playing_this_round  clean_sheets   code  cost_change_event  \\\n",
       "0                         100.0             1  11334                  0   \n",
       "1                           NaN             6  80201                  0   \n",
       "2                         100.0             3  51507                  0   \n",
       "3                           0.0             4  98745                  0   \n",
       "4                         100.0             5  38411                  0   \n",
       "\n",
       "   cost_change_event_fall  cost_change_start  ...  threat total_points  \\\n",
       "0                       0                 -3  ...     0.0           24   \n",
       "1                       0                 -1  ...     0.0          106   \n",
       "2                       0                 -1  ...   105.0           62   \n",
       "3                       0                 -2  ...   280.0           60   \n",
       "4                       0                 -1  ...   224.0           77   \n",
       "\n",
       "   transfers_in  transfers_in_event  transfers_out transfers_out_event  \\\n",
       "0         83497                   0         136211                   0   \n",
       "1        339095                   0         250834                   0   \n",
       "2        128478                   0          92187                   0   \n",
       "3        567084                   0        1143684                   0   \n",
       "4        298216                   0         290921                   0   \n",
       "\n",
       "  value_form  value_season   web_name yellow_cards  \n",
       "0        0.0           5.1       Cech            0  \n",
       "1        0.5          21.6       Leno            0  \n",
       "2        0.1          11.5  Koscielny            1  \n",
       "3        0.0          11.3   Bellerín            3  \n",
       "4        0.3          14.3    Monreal            5  \n",
       "\n",
       "[5 rows x 58 columns]"
      ]
     },
     "execution_count": 10,
     "metadata": {},
     "output_type": "execute_result"
    }
   ],
   "source": [
    "with open('../../data/json/elements/elements.json') as f:\n",
    "    players = pd.DataFrame(json.load(f))\n",
    "\n",
    "players.head()"
   ]
  },
  {
   "cell_type": "markdown",
   "metadata": {},
   "source": [
    "### Save raw table for blog"
   ]
  },
  {
   "cell_type": "code",
   "execution_count": 11,
   "metadata": {
    "ExecuteTime": {
     "end_time": "2019-09-03T18:37:21.960818Z",
     "start_time": "2019-09-03T18:37:21.950129Z"
    }
   },
   "outputs": [],
   "source": [
    "ncols = 4\n",
    "players.iloc[list(range(ncols))+[len(players)-1]].transpose().to_html('../../data/html/players_raw.html', bold_rows=False)"
   ]
  },
  {
   "cell_type": "markdown",
   "metadata": {},
   "source": [
    "### Look at column names"
   ]
  },
  {
   "cell_type": "code",
   "execution_count": 12,
   "metadata": {
    "ExecuteTime": {
     "end_time": "2019-09-03T18:37:22.136719Z",
     "start_time": "2019-09-03T18:37:22.133009Z"
    }
   },
   "outputs": [
    {
     "name": "stdout",
     "output_type": "stream",
     "text": [
      "Index(['assists', 'bonus', 'bps', 'chance_of_playing_next_round',\n",
      "       'chance_of_playing_this_round', 'clean_sheets', 'code',\n",
      "       'cost_change_event', 'cost_change_event_fall', 'cost_change_start',\n",
      "       'cost_change_start_fall', 'creativity', 'dreamteam_count', 'ea_index',\n",
      "       'element_type', 'ep_next', 'ep_this', 'event_points', 'first_name',\n",
      "       'form', 'goals_conceded', 'goals_scored', 'ict_index', 'id',\n",
      "       'in_dreamteam', 'influence', 'loaned_in', 'loaned_out', 'loans_in',\n",
      "       'loans_out', 'minutes', 'news', 'news_added', 'now_cost', 'own_goals',\n",
      "       'penalties_missed', 'penalties_saved', 'photo', 'points_per_game',\n",
      "       'red_cards', 'saves', 'second_name', 'selected_by_percent', 'special',\n",
      "       'squad_number', 'status', 'team', 'team_code', 'threat', 'total_points',\n",
      "       'transfers_in', 'transfers_in_event', 'transfers_out',\n",
      "       'transfers_out_event', 'value_form', 'value_season', 'web_name',\n",
      "       'yellow_cards'],\n",
      "      dtype='object')\n"
     ]
    }
   ],
   "source": [
    "print(players.columns)"
   ]
  },
  {
   "cell_type": "markdown",
   "metadata": {},
   "source": [
    "### Remove excess columns"
   ]
  },
  {
   "cell_type": "code",
   "execution_count": 13,
   "metadata": {
    "ExecuteTime": {
     "end_time": "2019-09-03T18:37:22.296486Z",
     "start_time": "2019-09-03T18:37:22.286331Z"
    }
   },
   "outputs": [
    {
     "data": {
      "text/html": [
       "<div>\n",
       "<style scoped>\n",
       "    .dataframe tbody tr th:only-of-type {\n",
       "        vertical-align: middle;\n",
       "    }\n",
       "\n",
       "    .dataframe tbody tr th {\n",
       "        vertical-align: top;\n",
       "    }\n",
       "\n",
       "    .dataframe thead th {\n",
       "        text-align: right;\n",
       "    }\n",
       "</style>\n",
       "<table border=\"1\" class=\"dataframe\">\n",
       "  <thead>\n",
       "    <tr style=\"text-align: right;\">\n",
       "      <th></th>\n",
       "      <th>id</th>\n",
       "      <th>first_name</th>\n",
       "      <th>second_name</th>\n",
       "      <th>web_name</th>\n",
       "      <th>element_type</th>\n",
       "    </tr>\n",
       "  </thead>\n",
       "  <tbody>\n",
       "    <tr>\n",
       "      <th>0</th>\n",
       "      <td>1</td>\n",
       "      <td>Petr</td>\n",
       "      <td>Cech</td>\n",
       "      <td>Cech</td>\n",
       "      <td>1</td>\n",
       "    </tr>\n",
       "    <tr>\n",
       "      <th>1</th>\n",
       "      <td>2</td>\n",
       "      <td>Bernd</td>\n",
       "      <td>Leno</td>\n",
       "      <td>Leno</td>\n",
       "      <td>1</td>\n",
       "    </tr>\n",
       "    <tr>\n",
       "      <th>2</th>\n",
       "      <td>3</td>\n",
       "      <td>Laurent</td>\n",
       "      <td>Koscielny</td>\n",
       "      <td>Koscielny</td>\n",
       "      <td>2</td>\n",
       "    </tr>\n",
       "    <tr>\n",
       "      <th>3</th>\n",
       "      <td>4</td>\n",
       "      <td>Héctor</td>\n",
       "      <td>Bellerín</td>\n",
       "      <td>Bellerín</td>\n",
       "      <td>2</td>\n",
       "    </tr>\n",
       "    <tr>\n",
       "      <th>4</th>\n",
       "      <td>5</td>\n",
       "      <td>Nacho</td>\n",
       "      <td>Monreal</td>\n",
       "      <td>Monreal</td>\n",
       "      <td>2</td>\n",
       "    </tr>\n",
       "  </tbody>\n",
       "</table>\n",
       "</div>"
      ],
      "text/plain": [
       "   id first_name second_name   web_name  element_type\n",
       "0   1       Petr        Cech       Cech             1\n",
       "1   2      Bernd        Leno       Leno             1\n",
       "2   3    Laurent   Koscielny  Koscielny             2\n",
       "3   4     Héctor    Bellerín   Bellerín             2\n",
       "4   5      Nacho     Monreal    Monreal             2"
      ]
     },
     "execution_count": 13,
     "metadata": {},
     "output_type": "execute_result"
    }
   ],
   "source": [
    "keep_these_columns = ['id', 'first_name', 'second_name', 'web_name', 'element_type']\n",
    "\n",
    "players_cleaned = players.copy()\n",
    "players_cleaned = players_cleaned[keep_these_columns]\n",
    "players_cleaned.head()"
   ]
  },
  {
   "cell_type": "markdown",
   "metadata": {},
   "source": [
    "### Give fields approprait names"
   ]
  },
  {
   "cell_type": "code",
   "execution_count": 14,
   "metadata": {
    "ExecuteTime": {
     "end_time": "2019-09-03T18:37:22.473281Z",
     "start_time": "2019-09-03T18:37:22.460493Z"
    }
   },
   "outputs": [
    {
     "data": {
      "text/html": [
       "<div>\n",
       "<style scoped>\n",
       "    .dataframe tbody tr th:only-of-type {\n",
       "        vertical-align: middle;\n",
       "    }\n",
       "\n",
       "    .dataframe tbody tr th {\n",
       "        vertical-align: top;\n",
       "    }\n",
       "\n",
       "    .dataframe thead th {\n",
       "        text-align: right;\n",
       "    }\n",
       "</style>\n",
       "<table border=\"1\" class=\"dataframe\">\n",
       "  <thead>\n",
       "    <tr style=\"text-align: right;\">\n",
       "      <th></th>\n",
       "      <th>id</th>\n",
       "      <th>first_name</th>\n",
       "      <th>second_name</th>\n",
       "      <th>display_name</th>\n",
       "      <th>position</th>\n",
       "    </tr>\n",
       "  </thead>\n",
       "  <tbody>\n",
       "    <tr>\n",
       "      <th>0</th>\n",
       "      <td>1</td>\n",
       "      <td>Petr</td>\n",
       "      <td>Cech</td>\n",
       "      <td>Cech</td>\n",
       "      <td>1</td>\n",
       "    </tr>\n",
       "    <tr>\n",
       "      <th>1</th>\n",
       "      <td>2</td>\n",
       "      <td>Bernd</td>\n",
       "      <td>Leno</td>\n",
       "      <td>Leno</td>\n",
       "      <td>1</td>\n",
       "    </tr>\n",
       "    <tr>\n",
       "      <th>2</th>\n",
       "      <td>3</td>\n",
       "      <td>Laurent</td>\n",
       "      <td>Koscielny</td>\n",
       "      <td>Koscielny</td>\n",
       "      <td>2</td>\n",
       "    </tr>\n",
       "    <tr>\n",
       "      <th>3</th>\n",
       "      <td>4</td>\n",
       "      <td>Héctor</td>\n",
       "      <td>Bellerín</td>\n",
       "      <td>Bellerín</td>\n",
       "      <td>2</td>\n",
       "    </tr>\n",
       "    <tr>\n",
       "      <th>4</th>\n",
       "      <td>5</td>\n",
       "      <td>Nacho</td>\n",
       "      <td>Monreal</td>\n",
       "      <td>Monreal</td>\n",
       "      <td>2</td>\n",
       "    </tr>\n",
       "  </tbody>\n",
       "</table>\n",
       "</div>"
      ],
      "text/plain": [
       "   id first_name second_name display_name  position\n",
       "0   1       Petr        Cech         Cech         1\n",
       "1   2      Bernd        Leno         Leno         1\n",
       "2   3    Laurent   Koscielny    Koscielny         2\n",
       "3   4     Héctor    Bellerín     Bellerín         2\n",
       "4   5      Nacho     Monreal      Monreal         2"
      ]
     },
     "execution_count": 14,
     "metadata": {},
     "output_type": "execute_result"
    }
   ],
   "source": [
    "players_cleaned = players_cleaned.rename(columns={'web_name': 'display_name', 'element_type': 'position'})\n",
    "players_cleaned.head()"
   ]
  },
  {
   "cell_type": "markdown",
   "metadata": {},
   "source": [
    "### Restart index from 0"
   ]
  },
  {
   "cell_type": "code",
   "execution_count": 15,
   "metadata": {
    "ExecuteTime": {
     "end_time": "2019-09-03T18:37:22.641132Z",
     "start_time": "2019-09-03T18:37:22.626885Z"
    }
   },
   "outputs": [
    {
     "data": {
      "text/html": [
       "<div>\n",
       "<style scoped>\n",
       "    .dataframe tbody tr th:only-of-type {\n",
       "        vertical-align: middle;\n",
       "    }\n",
       "\n",
       "    .dataframe tbody tr th {\n",
       "        vertical-align: top;\n",
       "    }\n",
       "\n",
       "    .dataframe thead th {\n",
       "        text-align: right;\n",
       "    }\n",
       "</style>\n",
       "<table border=\"1\" class=\"dataframe\">\n",
       "  <thead>\n",
       "    <tr style=\"text-align: right;\">\n",
       "      <th></th>\n",
       "      <th>id</th>\n",
       "      <th>first_name</th>\n",
       "      <th>second_name</th>\n",
       "      <th>display_name</th>\n",
       "      <th>position</th>\n",
       "    </tr>\n",
       "  </thead>\n",
       "  <tbody>\n",
       "    <tr>\n",
       "      <th>0</th>\n",
       "      <td>0</td>\n",
       "      <td>Petr</td>\n",
       "      <td>Cech</td>\n",
       "      <td>Cech</td>\n",
       "      <td>1</td>\n",
       "    </tr>\n",
       "    <tr>\n",
       "      <th>1</th>\n",
       "      <td>1</td>\n",
       "      <td>Bernd</td>\n",
       "      <td>Leno</td>\n",
       "      <td>Leno</td>\n",
       "      <td>1</td>\n",
       "    </tr>\n",
       "    <tr>\n",
       "      <th>2</th>\n",
       "      <td>2</td>\n",
       "      <td>Laurent</td>\n",
       "      <td>Koscielny</td>\n",
       "      <td>Koscielny</td>\n",
       "      <td>2</td>\n",
       "    </tr>\n",
       "    <tr>\n",
       "      <th>3</th>\n",
       "      <td>3</td>\n",
       "      <td>Héctor</td>\n",
       "      <td>Bellerín</td>\n",
       "      <td>Bellerín</td>\n",
       "      <td>2</td>\n",
       "    </tr>\n",
       "    <tr>\n",
       "      <th>4</th>\n",
       "      <td>4</td>\n",
       "      <td>Nacho</td>\n",
       "      <td>Monreal</td>\n",
       "      <td>Monreal</td>\n",
       "      <td>2</td>\n",
       "    </tr>\n",
       "  </tbody>\n",
       "</table>\n",
       "</div>"
      ],
      "text/plain": [
       "   id first_name second_name display_name  position\n",
       "0   0       Petr        Cech         Cech         1\n",
       "1   1      Bernd        Leno         Leno         1\n",
       "2   2    Laurent   Koscielny    Koscielny         2\n",
       "3   3     Héctor    Bellerín     Bellerín         2\n",
       "4   4      Nacho     Monreal      Monreal         2"
      ]
     },
     "execution_count": 15,
     "metadata": {},
     "output_type": "execute_result"
    }
   ],
   "source": [
    "players_cleaned['id'] = players_cleaned['id']-1\n",
    "players_cleaned['position'] = players_cleaned['position']-1\n",
    "players_cleaned = players_cleaned.sort_values(by=['id'])\n",
    "players_cleaned.head()"
   ]
  },
  {
   "cell_type": "markdown",
   "metadata": {},
   "source": [
    "### Check id and row index are equal"
   ]
  },
  {
   "cell_type": "code",
   "execution_count": 16,
   "metadata": {
    "ExecuteTime": {
     "end_time": "2019-09-03T18:37:22.785997Z",
     "start_time": "2019-09-03T18:37:22.779768Z"
    }
   },
   "outputs": [
    {
     "data": {
      "text/plain": [
       "True"
      ]
     },
     "execution_count": 16,
     "metadata": {},
     "output_type": "execute_result"
    }
   ],
   "source": [
    "teams_cleaned['id'].equals(pd.Series(teams_cleaned.index))"
   ]
  },
  {
   "cell_type": "markdown",
   "metadata": {},
   "source": [
    "### Save table to html for blog"
   ]
  },
  {
   "cell_type": "code",
   "execution_count": 17,
   "metadata": {
    "ExecuteTime": {
     "end_time": "2019-09-03T18:37:22.957784Z",
     "start_time": "2019-09-03T18:37:22.951417Z"
    }
   },
   "outputs": [],
   "source": [
    "players_cleaned.iloc[list(range(ncols))+[len(players_cleaned)-1]].transpose().to_html('../../data/html/players_clean.html', bold_rows=False)"
   ]
  },
  {
   "cell_type": "markdown",
   "metadata": {},
   "source": [
    "### Save table to csv for future work"
   ]
  },
  {
   "cell_type": "code",
   "execution_count": 18,
   "metadata": {
    "ExecuteTime": {
     "end_time": "2019-09-03T18:37:23.129611Z",
     "start_time": "2019-09-03T18:37:23.121779Z"
    }
   },
   "outputs": [],
   "source": [
    "players_cleaned.to_csv(r'../../data/csv/players.csv', index=False, index_label=False)"
   ]
  },
  {
   "cell_type": "markdown",
   "metadata": {},
   "source": [
    "## Fixtures\n",
    "### Read in data"
   ]
  },
  {
   "cell_type": "code",
   "execution_count": 19,
   "metadata": {
    "ExecuteTime": {
     "end_time": "2019-09-03T18:37:23.354393Z",
     "start_time": "2019-09-03T18:37:23.292088Z"
    }
   },
   "outputs": [
    {
     "data": {
      "text/html": [
       "<div>\n",
       "<style scoped>\n",
       "    .dataframe tbody tr th:only-of-type {\n",
       "        vertical-align: middle;\n",
       "    }\n",
       "\n",
       "    .dataframe tbody tr th {\n",
       "        vertical-align: top;\n",
       "    }\n",
       "\n",
       "    .dataframe thead th {\n",
       "        text-align: right;\n",
       "    }\n",
       "</style>\n",
       "<table border=\"1\" class=\"dataframe\">\n",
       "  <thead>\n",
       "    <tr style=\"text-align: right;\">\n",
       "      <th></th>\n",
       "      <th>code</th>\n",
       "      <th>deadline_time</th>\n",
       "      <th>deadline_time_formatted</th>\n",
       "      <th>event</th>\n",
       "      <th>event_day</th>\n",
       "      <th>finished</th>\n",
       "      <th>finished_provisional</th>\n",
       "      <th>id</th>\n",
       "      <th>kickoff_time</th>\n",
       "      <th>kickoff_time_formatted</th>\n",
       "      <th>minutes</th>\n",
       "      <th>provisional_start_time</th>\n",
       "      <th>started</th>\n",
       "      <th>stats</th>\n",
       "      <th>team_a</th>\n",
       "      <th>team_a_difficulty</th>\n",
       "      <th>team_a_score</th>\n",
       "      <th>team_h</th>\n",
       "      <th>team_h_difficulty</th>\n",
       "      <th>team_h_score</th>\n",
       "    </tr>\n",
       "  </thead>\n",
       "  <tbody>\n",
       "    <tr>\n",
       "      <th>0</th>\n",
       "      <td>987597</td>\n",
       "      <td>2018-08-10T18:00:00Z</td>\n",
       "      <td>10 Aug 19:00</td>\n",
       "      <td>1</td>\n",
       "      <td>1</td>\n",
       "      <td>True</td>\n",
       "      <td>True</td>\n",
       "      <td>6</td>\n",
       "      <td>2018-08-10T19:00:00Z</td>\n",
       "      <td>10 Aug 20:00</td>\n",
       "      <td>90</td>\n",
       "      <td>False</td>\n",
       "      <td>True</td>\n",
       "      <td>[{'goals_scored': {'a': [{'value': 1, 'element...</td>\n",
       "      <td>11</td>\n",
       "      <td>4</td>\n",
       "      <td>1</td>\n",
       "      <td>14</td>\n",
       "      <td>3</td>\n",
       "      <td>2</td>\n",
       "    </tr>\n",
       "    <tr>\n",
       "      <th>1</th>\n",
       "      <td>987598</td>\n",
       "      <td>2018-08-10T18:00:00Z</td>\n",
       "      <td>10 Aug 19:00</td>\n",
       "      <td>1</td>\n",
       "      <td>2</td>\n",
       "      <td>True</td>\n",
       "      <td>True</td>\n",
       "      <td>7</td>\n",
       "      <td>2018-08-11T11:30:00Z</td>\n",
       "      <td>11 Aug 12:30</td>\n",
       "      <td>90</td>\n",
       "      <td>False</td>\n",
       "      <td>True</td>\n",
       "      <td>[{'goals_scored': {'a': [{'value': 1, 'element...</td>\n",
       "      <td>17</td>\n",
       "      <td>3</td>\n",
       "      <td>2</td>\n",
       "      <td>15</td>\n",
       "      <td>4</td>\n",
       "      <td>1</td>\n",
       "    </tr>\n",
       "    <tr>\n",
       "      <th>2</th>\n",
       "      <td>987592</td>\n",
       "      <td>2018-08-10T18:00:00Z</td>\n",
       "      <td>10 Aug 19:00</td>\n",
       "      <td>1</td>\n",
       "      <td>2</td>\n",
       "      <td>True</td>\n",
       "      <td>True</td>\n",
       "      <td>2</td>\n",
       "      <td>2018-08-11T14:00:00Z</td>\n",
       "      <td>11 Aug 15:00</td>\n",
       "      <td>90</td>\n",
       "      <td>False</td>\n",
       "      <td>True</td>\n",
       "      <td>[{'goals_scored': {'a': [], 'h': [{'value': 1,...</td>\n",
       "      <td>5</td>\n",
       "      <td>3</td>\n",
       "      <td>0</td>\n",
       "      <td>2</td>\n",
       "      <td>2</td>\n",
       "      <td>2</td>\n",
       "    </tr>\n",
       "    <tr>\n",
       "      <th>3</th>\n",
       "      <td>987594</td>\n",
       "      <td>2018-08-10T18:00:00Z</td>\n",
       "      <td>10 Aug 19:00</td>\n",
       "      <td>1</td>\n",
       "      <td>2</td>\n",
       "      <td>True</td>\n",
       "      <td>True</td>\n",
       "      <td>3</td>\n",
       "      <td>2018-08-11T14:00:00Z</td>\n",
       "      <td>11 Aug 15:00</td>\n",
       "      <td>90</td>\n",
       "      <td>False</td>\n",
       "      <td>True</td>\n",
       "      <td>[{'goals_scored': {'a': [{'value': 1, 'element...</td>\n",
       "      <td>7</td>\n",
       "      <td>2</td>\n",
       "      <td>2</td>\n",
       "      <td>9</td>\n",
       "      <td>2</td>\n",
       "      <td>0</td>\n",
       "    </tr>\n",
       "    <tr>\n",
       "      <th>4</th>\n",
       "      <td>987595</td>\n",
       "      <td>2018-08-10T18:00:00Z</td>\n",
       "      <td>10 Aug 19:00</td>\n",
       "      <td>1</td>\n",
       "      <td>2</td>\n",
       "      <td>True</td>\n",
       "      <td>True</td>\n",
       "      <td>4</td>\n",
       "      <td>2018-08-11T14:00:00Z</td>\n",
       "      <td>11 Aug 15:00</td>\n",
       "      <td>90</td>\n",
       "      <td>False</td>\n",
       "      <td>True</td>\n",
       "      <td>[{'goals_scored': {'a': [{'value': 1, 'element...</td>\n",
       "      <td>6</td>\n",
       "      <td>2</td>\n",
       "      <td>3</td>\n",
       "      <td>10</td>\n",
       "      <td>4</td>\n",
       "      <td>0</td>\n",
       "    </tr>\n",
       "  </tbody>\n",
       "</table>\n",
       "</div>"
      ],
      "text/plain": [
       "     code         deadline_time deadline_time_formatted  event  event_day  \\\n",
       "0  987597  2018-08-10T18:00:00Z            10 Aug 19:00      1          1   \n",
       "1  987598  2018-08-10T18:00:00Z            10 Aug 19:00      1          2   \n",
       "2  987592  2018-08-10T18:00:00Z            10 Aug 19:00      1          2   \n",
       "3  987594  2018-08-10T18:00:00Z            10 Aug 19:00      1          2   \n",
       "4  987595  2018-08-10T18:00:00Z            10 Aug 19:00      1          2   \n",
       "\n",
       "   finished  finished_provisional  id          kickoff_time  \\\n",
       "0      True                  True   6  2018-08-10T19:00:00Z   \n",
       "1      True                  True   7  2018-08-11T11:30:00Z   \n",
       "2      True                  True   2  2018-08-11T14:00:00Z   \n",
       "3      True                  True   3  2018-08-11T14:00:00Z   \n",
       "4      True                  True   4  2018-08-11T14:00:00Z   \n",
       "\n",
       "  kickoff_time_formatted  minutes  provisional_start_time  started  \\\n",
       "0           10 Aug 20:00       90                   False     True   \n",
       "1           11 Aug 12:30       90                   False     True   \n",
       "2           11 Aug 15:00       90                   False     True   \n",
       "3           11 Aug 15:00       90                   False     True   \n",
       "4           11 Aug 15:00       90                   False     True   \n",
       "\n",
       "                                               stats  team_a  \\\n",
       "0  [{'goals_scored': {'a': [{'value': 1, 'element...      11   \n",
       "1  [{'goals_scored': {'a': [{'value': 1, 'element...      17   \n",
       "2  [{'goals_scored': {'a': [], 'h': [{'value': 1,...       5   \n",
       "3  [{'goals_scored': {'a': [{'value': 1, 'element...       7   \n",
       "4  [{'goals_scored': {'a': [{'value': 1, 'element...       6   \n",
       "\n",
       "   team_a_difficulty  team_a_score  team_h  team_h_difficulty  team_h_score  \n",
       "0                  4             1      14                  3             2  \n",
       "1                  3             2      15                  4             1  \n",
       "2                  3             0       2                  2             2  \n",
       "3                  2             2       9                  2             0  \n",
       "4                  2             3      10                  4             0  "
      ]
     },
     "execution_count": 19,
     "metadata": {},
     "output_type": "execute_result"
    }
   ],
   "source": [
    "with open('../../data/json/fixtures/fixtures.json') as f:\n",
    "    fixtures = pd.DataFrame(json.load(f))\n",
    "\n",
    "fixtures.head()"
   ]
  },
  {
   "cell_type": "markdown",
   "metadata": {},
   "source": [
    "### Save raw table for blog"
   ]
  },
  {
   "cell_type": "code",
   "execution_count": 20,
   "metadata": {
    "ExecuteTime": {
     "end_time": "2019-09-03T18:37:23.474411Z",
     "start_time": "2019-09-03T18:37:23.457387Z"
    }
   },
   "outputs": [],
   "source": [
    "ncols = 4\n",
    "fixtures.iloc[list(range(ncols))+[len(fixtures)-1]].transpose().to_html('../../data/html/fixtures_raw.html', bold_rows=False)"
   ]
  },
  {
   "cell_type": "markdown",
   "metadata": {},
   "source": [
    "### Look at column names"
   ]
  },
  {
   "cell_type": "code",
   "execution_count": 21,
   "metadata": {
    "ExecuteTime": {
     "end_time": "2019-09-03T18:37:23.642125Z",
     "start_time": "2019-09-03T18:37:23.634217Z"
    }
   },
   "outputs": [
    {
     "name": "stdout",
     "output_type": "stream",
     "text": [
      "Index(['code', 'deadline_time', 'deadline_time_formatted', 'event',\n",
      "       'event_day', 'finished', 'finished_provisional', 'id', 'kickoff_time',\n",
      "       'kickoff_time_formatted', 'minutes', 'provisional_start_time',\n",
      "       'started', 'stats', 'team_a', 'team_a_difficulty', 'team_a_score',\n",
      "       'team_h', 'team_h_difficulty', 'team_h_score'],\n",
      "      dtype='object')\n"
     ]
    }
   ],
   "source": [
    "print(fixtures.columns)"
   ]
  },
  {
   "cell_type": "markdown",
   "metadata": {},
   "source": [
    "### Remove excess columns"
   ]
  },
  {
   "cell_type": "code",
   "execution_count": 22,
   "metadata": {
    "ExecuteTime": {
     "end_time": "2019-09-03T18:37:23.807893Z",
     "start_time": "2019-09-03T18:37:23.794478Z"
    }
   },
   "outputs": [
    {
     "data": {
      "text/html": [
       "<div>\n",
       "<style scoped>\n",
       "    .dataframe tbody tr th:only-of-type {\n",
       "        vertical-align: middle;\n",
       "    }\n",
       "\n",
       "    .dataframe tbody tr th {\n",
       "        vertical-align: top;\n",
       "    }\n",
       "\n",
       "    .dataframe thead th {\n",
       "        text-align: right;\n",
       "    }\n",
       "</style>\n",
       "<table border=\"1\" class=\"dataframe\">\n",
       "  <thead>\n",
       "    <tr style=\"text-align: right;\">\n",
       "      <th></th>\n",
       "      <th>id</th>\n",
       "      <th>kickoff_time</th>\n",
       "      <th>team_h</th>\n",
       "      <th>team_a</th>\n",
       "      <th>team_h_score</th>\n",
       "      <th>team_a_score</th>\n",
       "      <th>team_h_difficulty</th>\n",
       "      <th>team_a_difficulty</th>\n",
       "    </tr>\n",
       "  </thead>\n",
       "  <tbody>\n",
       "    <tr>\n",
       "      <th>0</th>\n",
       "      <td>6</td>\n",
       "      <td>2018-08-10T19:00:00Z</td>\n",
       "      <td>14</td>\n",
       "      <td>11</td>\n",
       "      <td>2</td>\n",
       "      <td>1</td>\n",
       "      <td>3</td>\n",
       "      <td>4</td>\n",
       "    </tr>\n",
       "    <tr>\n",
       "      <th>1</th>\n",
       "      <td>7</td>\n",
       "      <td>2018-08-11T11:30:00Z</td>\n",
       "      <td>15</td>\n",
       "      <td>17</td>\n",
       "      <td>1</td>\n",
       "      <td>2</td>\n",
       "      <td>4</td>\n",
       "      <td>3</td>\n",
       "    </tr>\n",
       "    <tr>\n",
       "      <th>2</th>\n",
       "      <td>2</td>\n",
       "      <td>2018-08-11T14:00:00Z</td>\n",
       "      <td>2</td>\n",
       "      <td>5</td>\n",
       "      <td>2</td>\n",
       "      <td>0</td>\n",
       "      <td>2</td>\n",
       "      <td>3</td>\n",
       "    </tr>\n",
       "    <tr>\n",
       "      <th>3</th>\n",
       "      <td>3</td>\n",
       "      <td>2018-08-11T14:00:00Z</td>\n",
       "      <td>9</td>\n",
       "      <td>7</td>\n",
       "      <td>0</td>\n",
       "      <td>2</td>\n",
       "      <td>2</td>\n",
       "      <td>2</td>\n",
       "    </tr>\n",
       "    <tr>\n",
       "      <th>4</th>\n",
       "      <td>4</td>\n",
       "      <td>2018-08-11T14:00:00Z</td>\n",
       "      <td>10</td>\n",
       "      <td>6</td>\n",
       "      <td>0</td>\n",
       "      <td>3</td>\n",
       "      <td>4</td>\n",
       "      <td>2</td>\n",
       "    </tr>\n",
       "  </tbody>\n",
       "</table>\n",
       "</div>"
      ],
      "text/plain": [
       "   id          kickoff_time  team_h  team_a  team_h_score  team_a_score  \\\n",
       "0   6  2018-08-10T19:00:00Z      14      11             2             1   \n",
       "1   7  2018-08-11T11:30:00Z      15      17             1             2   \n",
       "2   2  2018-08-11T14:00:00Z       2       5             2             0   \n",
       "3   3  2018-08-11T14:00:00Z       9       7             0             2   \n",
       "4   4  2018-08-11T14:00:00Z      10       6             0             3   \n",
       "\n",
       "   team_h_difficulty  team_a_difficulty  \n",
       "0                  3                  4  \n",
       "1                  4                  3  \n",
       "2                  2                  3  \n",
       "3                  2                  2  \n",
       "4                  4                  2  "
      ]
     },
     "execution_count": 22,
     "metadata": {},
     "output_type": "execute_result"
    }
   ],
   "source": [
    "keep_these_columns = ['id', 'kickoff_time', 'team_h', 'team_a', 'team_h_score', 'team_a_score', \n",
    "                      'team_h_difficulty', 'team_a_difficulty']\n",
    "\n",
    "fixtures_cleaned = fixtures.copy()\n",
    "fixtures_cleaned = fixtures_cleaned[keep_these_columns]\n",
    "fixtures_cleaned.head()"
   ]
  },
  {
   "cell_type": "markdown",
   "metadata": {},
   "source": [
    "### Start index from 0"
   ]
  },
  {
   "cell_type": "code",
   "execution_count": 23,
   "metadata": {
    "ExecuteTime": {
     "end_time": "2019-09-03T18:37:23.995739Z",
     "start_time": "2019-09-03T18:37:23.981164Z"
    }
   },
   "outputs": [
    {
     "data": {
      "text/html": [
       "<div>\n",
       "<style scoped>\n",
       "    .dataframe tbody tr th:only-of-type {\n",
       "        vertical-align: middle;\n",
       "    }\n",
       "\n",
       "    .dataframe tbody tr th {\n",
       "        vertical-align: top;\n",
       "    }\n",
       "\n",
       "    .dataframe thead th {\n",
       "        text-align: right;\n",
       "    }\n",
       "</style>\n",
       "<table border=\"1\" class=\"dataframe\">\n",
       "  <thead>\n",
       "    <tr style=\"text-align: right;\">\n",
       "      <th></th>\n",
       "      <th>id</th>\n",
       "      <th>kickoff_time</th>\n",
       "      <th>team_h</th>\n",
       "      <th>team_a</th>\n",
       "      <th>team_h_score</th>\n",
       "      <th>team_a_score</th>\n",
       "      <th>team_h_difficulty</th>\n",
       "      <th>team_a_difficulty</th>\n",
       "    </tr>\n",
       "  </thead>\n",
       "  <tbody>\n",
       "    <tr>\n",
       "      <th>0</th>\n",
       "      <td>0</td>\n",
       "      <td>2018-08-12T15:00:00Z</td>\n",
       "      <td>1</td>\n",
       "      <td>13</td>\n",
       "      <td>0</td>\n",
       "      <td>2</td>\n",
       "      <td>4</td>\n",
       "      <td>4</td>\n",
       "    </tr>\n",
       "    <tr>\n",
       "      <th>1</th>\n",
       "      <td>1</td>\n",
       "      <td>2018-08-11T14:00:00Z</td>\n",
       "      <td>2</td>\n",
       "      <td>5</td>\n",
       "      <td>2</td>\n",
       "      <td>0</td>\n",
       "      <td>2</td>\n",
       "      <td>3</td>\n",
       "    </tr>\n",
       "    <tr>\n",
       "      <th>2</th>\n",
       "      <td>2</td>\n",
       "      <td>2018-08-11T14:00:00Z</td>\n",
       "      <td>9</td>\n",
       "      <td>7</td>\n",
       "      <td>0</td>\n",
       "      <td>2</td>\n",
       "      <td>2</td>\n",
       "      <td>2</td>\n",
       "    </tr>\n",
       "    <tr>\n",
       "      <th>3</th>\n",
       "      <td>3</td>\n",
       "      <td>2018-08-11T14:00:00Z</td>\n",
       "      <td>10</td>\n",
       "      <td>6</td>\n",
       "      <td>0</td>\n",
       "      <td>3</td>\n",
       "      <td>4</td>\n",
       "      <td>2</td>\n",
       "    </tr>\n",
       "    <tr>\n",
       "      <th>4</th>\n",
       "      <td>4</td>\n",
       "      <td>2018-08-12T12:30:00Z</td>\n",
       "      <td>12</td>\n",
       "      <td>19</td>\n",
       "      <td>4</td>\n",
       "      <td>0</td>\n",
       "      <td>3</td>\n",
       "      <td>5</td>\n",
       "    </tr>\n",
       "  </tbody>\n",
       "</table>\n",
       "</div>"
      ],
      "text/plain": [
       "   id          kickoff_time  team_h  team_a  team_h_score  team_a_score  \\\n",
       "0   0  2018-08-12T15:00:00Z       1      13             0             2   \n",
       "1   1  2018-08-11T14:00:00Z       2       5             2             0   \n",
       "2   2  2018-08-11T14:00:00Z       9       7             0             2   \n",
       "3   3  2018-08-11T14:00:00Z      10       6             0             3   \n",
       "4   4  2018-08-12T12:30:00Z      12      19             4             0   \n",
       "\n",
       "   team_h_difficulty  team_a_difficulty  \n",
       "0                  4                  4  \n",
       "1                  2                  3  \n",
       "2                  2                  2  \n",
       "3                  4                  2  \n",
       "4                  3                  5  "
      ]
     },
     "execution_count": 23,
     "metadata": {},
     "output_type": "execute_result"
    }
   ],
   "source": [
    "fixtures_cleaned = fixtures_cleaned.sort_values(by=['id']).reset_index(drop=True)\n",
    "fixtures_cleaned['id'] = fixtures_cleaned['id']-1\n",
    "fixtures_cleaned['team_h'] = fixtures_cleaned['team_h']-1\n",
    "fixtures_cleaned['team_a'] = fixtures_cleaned['team_a']-1\n",
    "fixtures_cleaned.head()"
   ]
  },
  {
   "cell_type": "markdown",
   "metadata": {},
   "source": [
    "### Check that id and row index match"
   ]
  },
  {
   "cell_type": "code",
   "execution_count": 24,
   "metadata": {
    "ExecuteTime": {
     "end_time": "2019-09-03T18:37:24.179548Z",
     "start_time": "2019-09-03T18:37:24.172529Z"
    }
   },
   "outputs": [
    {
     "data": {
      "text/plain": [
       "True"
      ]
     },
     "execution_count": 24,
     "metadata": {},
     "output_type": "execute_result"
    }
   ],
   "source": [
    "fixtures_cleaned['id'].equals(pd.Series(fixtures_cleaned.index))"
   ]
  },
  {
   "cell_type": "markdown",
   "metadata": {},
   "source": [
    "### Save table as html for blog"
   ]
  },
  {
   "cell_type": "code",
   "execution_count": 25,
   "metadata": {
    "ExecuteTime": {
     "end_time": "2019-09-03T18:37:24.350361Z",
     "start_time": "2019-09-03T18:37:24.342486Z"
    }
   },
   "outputs": [],
   "source": [
    "fixtures_cleaned.iloc[list(range(ncols))+[len(fixtures_cleaned)-1]].transpose().to_html('../../data/html/fixtures_clean.html', bold_rows=False)"
   ]
  },
  {
   "cell_type": "markdown",
   "metadata": {},
   "source": [
    "### Save table to csv for future work"
   ]
  },
  {
   "cell_type": "code",
   "execution_count": 26,
   "metadata": {
    "ExecuteTime": {
     "end_time": "2019-09-03T18:37:24.538447Z",
     "start_time": "2019-09-03T18:37:24.529007Z"
    }
   },
   "outputs": [],
   "source": [
    "fixtures_cleaned.to_csv(r'../../data/csv/fixtures.csv', index=False, index_label=False)"
   ]
  },
  {
   "cell_type": "markdown",
   "metadata": {},
   "source": [
    "## Player Performance\n",
    "\n",
    "### Read in the data"
   ]
  },
  {
   "cell_type": "code",
   "execution_count": 27,
   "metadata": {
    "ExecuteTime": {
     "end_time": "2019-09-03T18:37:26.653684Z",
     "start_time": "2019-09-03T18:37:24.700414Z"
    }
   },
   "outputs": [
    {
     "data": {
      "text/html": [
       "<div>\n",
       "<style scoped>\n",
       "    .dataframe tbody tr th:only-of-type {\n",
       "        vertical-align: middle;\n",
       "    }\n",
       "\n",
       "    .dataframe tbody tr th {\n",
       "        vertical-align: top;\n",
       "    }\n",
       "\n",
       "    .dataframe thead th {\n",
       "        text-align: right;\n",
       "    }\n",
       "</style>\n",
       "<table border=\"1\" class=\"dataframe\">\n",
       "  <thead>\n",
       "    <tr style=\"text-align: right;\">\n",
       "      <th></th>\n",
       "      <th>id</th>\n",
       "      <th>kickoff_time</th>\n",
       "      <th>kickoff_time_formatted</th>\n",
       "      <th>team_h_score</th>\n",
       "      <th>team_a_score</th>\n",
       "      <th>was_home</th>\n",
       "      <th>round</th>\n",
       "      <th>total_points</th>\n",
       "      <th>value</th>\n",
       "      <th>transfers_balance</th>\n",
       "      <th>...</th>\n",
       "      <th>errors_leading_to_goal</th>\n",
       "      <th>errors_leading_to_goal_attempt</th>\n",
       "      <th>tackled</th>\n",
       "      <th>offside</th>\n",
       "      <th>target_missed</th>\n",
       "      <th>fouls</th>\n",
       "      <th>dribbles</th>\n",
       "      <th>element</th>\n",
       "      <th>fixture</th>\n",
       "      <th>opponent_team</th>\n",
       "    </tr>\n",
       "  </thead>\n",
       "  <tbody>\n",
       "    <tr>\n",
       "      <th>0</th>\n",
       "      <td>1</td>\n",
       "      <td>2018-08-12T15:00:00Z</td>\n",
       "      <td>12 Aug 16:00</td>\n",
       "      <td>0</td>\n",
       "      <td>2</td>\n",
       "      <td>True</td>\n",
       "      <td>1</td>\n",
       "      <td>3</td>\n",
       "      <td>50</td>\n",
       "      <td>0</td>\n",
       "      <td>...</td>\n",
       "      <td>0</td>\n",
       "      <td>0</td>\n",
       "      <td>0</td>\n",
       "      <td>0</td>\n",
       "      <td>0</td>\n",
       "      <td>0</td>\n",
       "      <td>0</td>\n",
       "      <td>1</td>\n",
       "      <td>1</td>\n",
       "      <td>13</td>\n",
       "    </tr>\n",
       "    <tr>\n",
       "      <th>1</th>\n",
       "      <td>526</td>\n",
       "      <td>2018-08-18T16:30:00Z</td>\n",
       "      <td>18 Aug 17:30</td>\n",
       "      <td>3</td>\n",
       "      <td>2</td>\n",
       "      <td>False</td>\n",
       "      <td>2</td>\n",
       "      <td>3</td>\n",
       "      <td>50</td>\n",
       "      <td>188</td>\n",
       "      <td>...</td>\n",
       "      <td>0</td>\n",
       "      <td>0</td>\n",
       "      <td>0</td>\n",
       "      <td>0</td>\n",
       "      <td>0</td>\n",
       "      <td>0</td>\n",
       "      <td>0</td>\n",
       "      <td>1</td>\n",
       "      <td>14</td>\n",
       "      <td>6</td>\n",
       "    </tr>\n",
       "    <tr>\n",
       "      <th>2</th>\n",
       "      <td>1053</td>\n",
       "      <td>2018-08-25T14:00:00Z</td>\n",
       "      <td>25 Aug 15:00</td>\n",
       "      <td>3</td>\n",
       "      <td>1</td>\n",
       "      <td>True</td>\n",
       "      <td>3</td>\n",
       "      <td>3</td>\n",
       "      <td>50</td>\n",
       "      <td>8540</td>\n",
       "      <td>...</td>\n",
       "      <td>0</td>\n",
       "      <td>0</td>\n",
       "      <td>0</td>\n",
       "      <td>0</td>\n",
       "      <td>0</td>\n",
       "      <td>0</td>\n",
       "      <td>0</td>\n",
       "      <td>1</td>\n",
       "      <td>21</td>\n",
       "      <td>19</td>\n",
       "    </tr>\n",
       "    <tr>\n",
       "      <th>3</th>\n",
       "      <td>1584</td>\n",
       "      <td>2018-09-02T12:30:00Z</td>\n",
       "      <td>02 Sep 13:30</td>\n",
       "      <td>2</td>\n",
       "      <td>3</td>\n",
       "      <td>False</td>\n",
       "      <td>4</td>\n",
       "      <td>1</td>\n",
       "      <td>50</td>\n",
       "      <td>9582</td>\n",
       "      <td>...</td>\n",
       "      <td>0</td>\n",
       "      <td>2</td>\n",
       "      <td>0</td>\n",
       "      <td>0</td>\n",
       "      <td>0</td>\n",
       "      <td>0</td>\n",
       "      <td>0</td>\n",
       "      <td>1</td>\n",
       "      <td>33</td>\n",
       "      <td>5</td>\n",
       "    </tr>\n",
       "    <tr>\n",
       "      <th>4</th>\n",
       "      <td>2121</td>\n",
       "      <td>2018-09-15T14:00:00Z</td>\n",
       "      <td>15 Sep 15:00</td>\n",
       "      <td>1</td>\n",
       "      <td>2</td>\n",
       "      <td>False</td>\n",
       "      <td>5</td>\n",
       "      <td>2</td>\n",
       "      <td>50</td>\n",
       "      <td>-3297</td>\n",
       "      <td>...</td>\n",
       "      <td>0</td>\n",
       "      <td>0</td>\n",
       "      <td>0</td>\n",
       "      <td>0</td>\n",
       "      <td>0</td>\n",
       "      <td>0</td>\n",
       "      <td>0</td>\n",
       "      <td>1</td>\n",
       "      <td>46</td>\n",
       "      <td>15</td>\n",
       "    </tr>\n",
       "  </tbody>\n",
       "</table>\n",
       "<p>5 rows × 54 columns</p>\n",
       "</div>"
      ],
      "text/plain": [
       "     id          kickoff_time kickoff_time_formatted  team_h_score  \\\n",
       "0     1  2018-08-12T15:00:00Z           12 Aug 16:00             0   \n",
       "1   526  2018-08-18T16:30:00Z           18 Aug 17:30             3   \n",
       "2  1053  2018-08-25T14:00:00Z           25 Aug 15:00             3   \n",
       "3  1584  2018-09-02T12:30:00Z           02 Sep 13:30             2   \n",
       "4  2121  2018-09-15T14:00:00Z           15 Sep 15:00             1   \n",
       "\n",
       "   team_a_score  was_home  round  total_points  value  transfers_balance  ...  \\\n",
       "0             2      True      1             3     50                  0  ...   \n",
       "1             2     False      2             3     50                188  ...   \n",
       "2             1      True      3             3     50               8540  ...   \n",
       "3             3     False      4             1     50               9582  ...   \n",
       "4             2     False      5             2     50              -3297  ...   \n",
       "\n",
       "   errors_leading_to_goal  errors_leading_to_goal_attempt  tackled  offside  \\\n",
       "0                       0                               0        0        0   \n",
       "1                       0                               0        0        0   \n",
       "2                       0                               0        0        0   \n",
       "3                       0                               2        0        0   \n",
       "4                       0                               0        0        0   \n",
       "\n",
       "   target_missed  fouls  dribbles  element  fixture  opponent_team  \n",
       "0              0      0         0        1        1             13  \n",
       "1              0      0         0        1       14              6  \n",
       "2              0      0         0        1       21             19  \n",
       "3              0      0         0        1       33              5  \n",
       "4              0      0         0        1       46             15  \n",
       "\n",
       "[5 rows x 54 columns]"
      ]
     },
     "execution_count": 27,
     "metadata": {},
     "output_type": "execute_result"
    }
   ],
   "source": [
    "nPlayers = 624\n",
    "count = 0\n",
    "gcn = False\n",
    "data_dict = collections.OrderedDict()\n",
    "\n",
    "for i in range(1,nPlayers+1):\n",
    "    \n",
    "    # Open json file\n",
    "    with open('../../data/json/element-summary/' + str(i) + '.json') as f:\n",
    "        es = json.load(f)\n",
    "        \n",
    "    # Number of fixtures for this player\n",
    "    nFixtures = len(es[\"history\"])\n",
    "    \n",
    "    # Get column names. only do this once\n",
    "    if gcn:\n",
    "        cn = es[\"history\"][0].keys()\n",
    "        gcn = False\n",
    "        \n",
    "    # Loop through this players fixtures\n",
    "    for m in range(0, nFixtures):\n",
    "        a = es[\"history\"][m]\n",
    "        data_dict[count] = a\n",
    "        count = count+1\n",
    "        \n",
    "player_performance = pd.DataFrame.from_dict(data_dict, orient=\"index\")\n",
    "\n",
    "player_performance.head()"
   ]
  },
  {
   "cell_type": "code",
   "execution_count": 28,
   "metadata": {
    "ExecuteTime": {
     "end_time": "2019-09-03T18:37:26.661982Z",
     "start_time": "2019-09-03T18:37:26.657240Z"
    }
   },
   "outputs": [
    {
     "name": "stdout",
     "output_type": "stream",
     "text": [
      "(21790, 54)\n"
     ]
    }
   ],
   "source": [
    "print(player_performance.shape)"
   ]
  },
  {
   "cell_type": "markdown",
   "metadata": {},
   "source": [
    "### Look at columns"
   ]
  },
  {
   "cell_type": "code",
   "execution_count": 29,
   "metadata": {
    "ExecuteTime": {
     "end_time": "2019-09-03T18:37:26.673489Z",
     "start_time": "2019-09-03T18:37:26.665561Z"
    }
   },
   "outputs": [
    {
     "name": "stdout",
     "output_type": "stream",
     "text": [
      "Index(['id', 'kickoff_time', 'kickoff_time_formatted', 'team_h_score',\n",
      "       'team_a_score', 'was_home', 'round', 'total_points', 'value',\n",
      "       'transfers_balance', 'selected', 'transfers_in', 'transfers_out',\n",
      "       'loaned_in', 'loaned_out', 'minutes', 'goals_scored', 'assists',\n",
      "       'clean_sheets', 'goals_conceded', 'own_goals', 'penalties_saved',\n",
      "       'penalties_missed', 'yellow_cards', 'red_cards', 'saves', 'bonus',\n",
      "       'bps', 'influence', 'creativity', 'threat', 'ict_index', 'ea_index',\n",
      "       'open_play_crosses', 'big_chances_created',\n",
      "       'clearances_blocks_interceptions', 'recoveries', 'key_passes',\n",
      "       'tackles', 'winning_goals', 'attempted_passes', 'completed_passes',\n",
      "       'penalties_conceded', 'big_chances_missed', 'errors_leading_to_goal',\n",
      "       'errors_leading_to_goal_attempt', 'tackled', 'offside', 'target_missed',\n",
      "       'fouls', 'dribbles', 'element', 'fixture', 'opponent_team'],\n",
      "      dtype='object')\n"
     ]
    }
   ],
   "source": [
    "print(player_performance.columns)"
   ]
  },
  {
   "cell_type": "markdown",
   "metadata": {},
   "source": [
    "### Remove excess columns"
   ]
  },
  {
   "cell_type": "code",
   "execution_count": null,
   "metadata": {},
   "outputs": [],
   "source": [
    "player_performance_cleaned = player_performance.copy()\n",
    "player_performance_cleaned = player_performance_cleaned.drop(['id'])\n",
    "player_performance_cleaned = player_performance_cleaned.rename({'element': 'id'})"
   ]
  }
 ],
 "metadata": {
  "celltoolbar": "Raw Cell Format",
  "kernelspec": {
   "display_name": "Python 3",
   "language": "python",
   "name": "python3"
  },
  "language_info": {
   "codemirror_mode": {
    "name": "ipython",
    "version": 3
   },
   "file_extension": ".py",
   "mimetype": "text/x-python",
   "name": "python",
   "nbconvert_exporter": "python",
   "pygments_lexer": "ipython3",
   "version": "3.7.3"
  },
  "toc": {
   "base_numbering": 1,
   "nav_menu": {},
   "number_sections": true,
   "sideBar": true,
   "skip_h1_title": false,
   "title_cell": "Table of Contents",
   "title_sidebar": "Contents",
   "toc_cell": true,
   "toc_position": {},
   "toc_section_display": true,
   "toc_window_display": false
  }
 },
 "nbformat": 4,
 "nbformat_minor": 2
}
