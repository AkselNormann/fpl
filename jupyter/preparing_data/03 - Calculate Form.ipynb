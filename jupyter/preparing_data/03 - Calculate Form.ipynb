{
 "cells": [
  {
   "cell_type": "markdown",
   "metadata": {
    "toc": true
   },
   "source": [
    "<h1>Table of Contents<span class=\"tocSkip\"></span></h1>\n",
    "<div class=\"toc\"><ul class=\"toc-item\"><li><span><a href=\"#Read-in-Data\" data-toc-modified-id=\"Read-in-Data-1\"><span class=\"toc-item-num\">1&nbsp;&nbsp;</span>Read in Data</a></span></li><li><span><a href=\"#Add-team-scored/conceeded-column\" data-toc-modified-id=\"Add-team-scored/conceeded-column-2\"><span class=\"toc-item-num\">2&nbsp;&nbsp;</span>Add team scored/conceeded column</a></span></li><li><span><a href=\"#Pick-columns-to-calculate-form\" data-toc-modified-id=\"Pick-columns-to-calculate-form-3\"><span class=\"toc-item-num\">3&nbsp;&nbsp;</span>Pick columns to calculate form</a></span></li><li><span><a href=\"#Calculate-response-function\" data-toc-modified-id=\"Calculate-response-function-4\"><span class=\"toc-item-num\">4&nbsp;&nbsp;</span>Calculate response function</a></span></li><li><span><a href=\"#Loop-through-data-table\" data-toc-modified-id=\"Loop-through-data-table-5\"><span class=\"toc-item-num\">5&nbsp;&nbsp;</span>Loop through data table</a></span></li></ul></div>"
   ]
  },
  {
   "cell_type": "markdown",
   "metadata": {},
   "source": [
    "# Add Form\n",
    "\n",
    "## Read in Data"
   ]
  },
  {
   "cell_type": "code",
   "execution_count": null,
   "metadata": {
    "ExecuteTime": {
     "end_time": "2019-09-25T18:26:27.953237Z",
     "start_time": "2019-09-25T18:26:27.374181Z"
    },
    "scrolled": true
   },
   "outputs": [],
   "source": [
    "import pandas as pd\n",
    "import numpy as np\n",
    "import matplotlib.pyplot as plt\n",
    "pd.set_option('display.max_columns', None)\n",
    "\n",
    "pp = pd.read_csv('../../data/csv/player_performance_01.csv')\n",
    "pp.head()"
   ]
  },
  {
   "cell_type": "markdown",
   "metadata": {},
   "source": [
    "## Add team scored/conceeded column"
   ]
  },
  {
   "cell_type": "code",
   "execution_count": null,
   "metadata": {
    "ExecuteTime": {
     "end_time": "2019-09-25T18:26:28.331780Z",
     "start_time": "2019-09-25T18:26:27.955142Z"
    }
   },
   "outputs": [],
   "source": [
    "team_scored = np.zeros(len(pp), dtype='int')\n",
    "team_conceded = np.zeros(len(pp), dtype='int')\n",
    "\n",
    "for i in pp.index:\n",
    "    if pp.loc[i,\"was_home\"]:\n",
    "        team_scored[i] = pp.loc[i,\"team_h_score\"]\n",
    "        team_conceded[i] = pp.loc[i,\"team_a_score\"]\n",
    "    else:\n",
    "        team_scored[i] = pp.loc[i,\"team_a_score\"]\n",
    "        team_conceded[i] = pp.loc[i,\"team_h_score\"]\n",
    "\n",
    "pp[\"team_scored\"] = pd.Series(team_scored)\n",
    "pp[\"team_conceded\"] = pd.Series(team_conceded)\n",
    "\n",
    "pp.head()"
   ]
  },
  {
   "cell_type": "markdown",
   "metadata": {},
   "source": [
    "## Pick columns to calculate form"
   ]
  },
  {
   "cell_type": "code",
   "execution_count": null,
   "metadata": {
    "ExecuteTime": {
     "end_time": "2019-09-25T18:26:28.336199Z",
     "start_time": "2019-09-25T18:26:28.333511Z"
    }
   },
   "outputs": [],
   "source": [
    "print(list(pp.columns))"
   ]
  },
  {
   "cell_type": "code",
   "execution_count": null,
   "metadata": {
    "ExecuteTime": {
     "end_time": "2019-09-25T18:26:28.342730Z",
     "start_time": "2019-09-25T18:26:28.337970Z"
    }
   },
   "outputs": [],
   "source": [
    "# these columns will have form calculated\n",
    "form_on_columns = [\n",
    "    \"total_points\", \"minutes\", \"goals_scored\", \"assists\", \"clean_sheets\",\n",
    "    \"goals_conceded\", \"own_goals\", \"penalties_saved\", \"penalties_missed\",\n",
    "    \"yellow_cards\", \"red_cards\", \"saves\", \"bonus\", \"bps\", \"influence\",\n",
    "    \"creativity\", \"threat\", \"ict_index\", \"ea_index\", \"open_play_crosses\",\n",
    "    \"big_chances_created\", \"clearances_blocks_interceptions\", \"recoveries\",\n",
    "    \"key_passes\", \"tackles\", \"winning_goals\", \"attempted_passes\",\n",
    "    \"completed_passes\", \"penalties_conceded\", \"big_chances_missed\",\n",
    "    \"errors_leading_to_goal\", \"errors_leading_to_goal_attempt\", \"tackled\", \"offside\", \"target_missed\", \"fouls\",\n",
    "    \"dribbles\", \"value\", \"team_scored\", \"team_conceded\", \"transfers_balance\"\n",
    "]\n",
    "\n",
    "len(form_on_columns)"
   ]
  },
  {
   "cell_type": "markdown",
   "metadata": {},
   "source": [
    "## Calculate response function"
   ]
  },
  {
   "cell_type": "code",
   "execution_count": null,
   "metadata": {
    "ExecuteTime": {
     "end_time": "2019-09-25T18:58:14.942849Z",
     "start_time": "2019-09-25T18:58:14.834155Z"
    }
   },
   "outputs": [],
   "source": [
    "# normpdf function\n",
    "import math\n",
    "def normpdf(x, mu, sigma):\n",
    "    return (1/np.sqrt(2*math.pi*(sigma**2)))*np.exp(-((x-mu)**2)/(2*(sigma**2)))\n",
    "\n",
    "# define form response\n",
    "nGames = 3 # number of games to consider\n",
    "sigma = 1 # fall off from most recent game. inf sigma is just the average\n",
    "\n",
    "# games array\n",
    "games = np.array(range(1,nGames+1))\n",
    "games_fill = np.linspace(1,nGames,41)\n",
    "\n",
    "# response array\n",
    "response = normpdf(games, 1, sigma)\n",
    "response_fill = normpdf(games_fill, 1, sigma)\n",
    "\n",
    "# normalise array\n",
    "norm_response = response/np.trapz(response, games)\n",
    "norm_response_fill = response_fill/np.trapz(reponse_fill, games_fill)\n",
    "\n",
    "# plot response\n",
    "plt.plot(games_fill, norm_response_fill);\n",
    "plt.xticks(games);\n",
    "plt.scatter(games, norm_response);\n",
    "plt.ylim(0,1);\n",
    "plt.xlabel('Number of Games Previous');\n",
    "plt.ylabel('Relative Weighting');\n",
    "\n",
    "\n",
    "def formResponseFunction(form, response):\n",
    "    # this will use the reponse curve to calculate the weighted average\n",
    "    # any nan values will be ignore from the calculation\n",
    "    norm = np.sum(~np.isnan(form)*response)\n",
    "    form0 = np.nan_to_num(form,0)\n",
    "    if np.sum(form0)==0:\n",
    "        return 0\n",
    "    else:\n",
    "        return np.sum(np.nan_to_num(form,0)*response/norm)"
   ]
  },
  {
   "cell_type": "markdown",
   "metadata": {},
   "source": [
    "## Loop through data table\n",
    "\n",
    "There are 36 columns in which form will be considered. The form will be considered on home and away games separately, and also an overall form. Additionally, form will be calculate using three different methods; mean, mode, weighted mean. This means there will be {{len(form_on_columns)*3}} new columns."
   ]
  },
  {
   "cell_type": "code",
   "execution_count": null,
   "metadata": {
    "ExecuteTime": {
     "end_time": "2019-09-25T18:26:46.764765Z",
     "start_time": "2019-09-25T18:26:28.471934Z"
    }
   },
   "outputs": [],
   "source": [
    "# Get player ids to consider\n",
    "playerIDs = np.unique(pp[\"id\"])\n",
    "\n",
    "# loop thorugh columns\n",
    "for j in form_on_columns:\n",
    "\n",
    "    # empty columns to store form data\n",
    "    tmp_form = np.zeros(len(pp), dtype='float')\n",
    "    tmp_home_form = np.zeros(len(pp), dtype='float')\n",
    "    tmp_away_form = np.zeros(len(pp), dtype='float')\n",
    "\n",
    "    for i in playerIDs:\n",
    "\n",
    "        # stores\n",
    "        form_store = [np.NAN] * nGames\n",
    "        form_home_store = [np.NAN] * nGames\n",
    "        form_away_store = [np.NAN] * nGames\n",
    "\n",
    "        # Find rows belonging to player i\n",
    "        player_df = pp.loc[pp[\"id\"] == i, :]\n",
    "\n",
    "        # Find player home/away games\n",
    "        wh = pp[\"was_home\"]\n",
    "\n",
    "        # row indexing\n",
    "        p_index = player_df.index\n",
    "\n",
    "        # loop thorugh all rows\n",
    "        for k in p_index:\n",
    "\n",
    "            # calculate form\n",
    "            tmp_form[k] = formResponseFunction(form_store, response)\n",
    "            tmp_home_form[k] = formResponseFunction(form_home_store, response)\n",
    "            tmp_away_form[k] = formResponseFunction(form_away_store, response)\n",
    "            \n",
    "            # shuffle stores\n",
    "            for l in range(nGames - 1, 0, -1):\n",
    "                form_store[l] = form_store[l - 1]\n",
    "                if wh[k]:\n",
    "                    form_home_store[l] = form_home_store[l - 1]\n",
    "                else:\n",
    "                    form_away_store[l] = form_away_store[l - 1]\n",
    "\n",
    "            # store new values at the start of the array\n",
    "            form_store[0] = player_df.loc[k, j]\n",
    "            if wh[k]:\n",
    "                form_home_store[0] = player_df.loc[k, j]\n",
    "            else:\n",
    "                form_away_store[0] = player_df.loc[k, j]\n",
    "                \n",
    "    # Create new columns\n",
    "    pp[j+\"_overall_form\"] = pd.Series(tmp_form)\n",
    "    pp[j+\"_home_form\"] = pd.Series(tmp_home_form)\n",
    "    pp[j+\"_away_form\"] = pd.Series(tmp_away_form)"
   ]
  },
  {
   "cell_type": "code",
   "execution_count": null,
   "metadata": {
    "ExecuteTime": {
     "end_time": "2019-09-25T18:26:46.766041Z",
     "start_time": "2019-09-25T18:26:27.756Z"
    },
    "scrolled": false
   },
   "outputs": [],
   "source": [
    "pp\n",
    "\n",
    "pp.to_csv(r'../../data/csv/player_performance_02.csv',\n",
    "          index=False,\n",
    "          index_label=False)"
   ]
  },
  {
   "cell_type": "code",
   "execution_count": null,
   "metadata": {
    "ExecuteTime": {
     "end_time": "2019-09-25T18:26:46.766787Z",
     "start_time": "2019-09-25T18:26:27.760Z"
    }
   },
   "outputs": [],
   "source": [
    "columns_to_remove = [\n",
    "    \"minutes\", \"goals_scored\", \"assists\", \"clean_sheets\", \"goals_conceded\",\n",
    "    \"own_goals\", \"penalties_saved\", \"penalties_missed\", \"yellow_cards\",\n",
    "    \"red_cards\", \"saves\", \"bonus\", \"bps\", \"influence\", \"creativity\", \"threat\",\n",
    "    \"ict_index\", \"ea_index\", \"open_play_crosses\", \"big_chances_created\",\n",
    "    \"clearances_blocks_interceptions\", \"recoveries\", \"key_passes\", \"tackles\",\n",
    "    \"winning_goals\", \"attempted_passes\", \"completed_passes\",\n",
    "    \"penalties_conceded\", \"big_chances_missed\", \"errors_leading_to_goal\",\n",
    "    \"errors_leading_to_goal_attempt\", \"tackled\", \"offside\", \"target_missed\",\n",
    "    \"fouls\", \"dribbles\", \"value\", \"team_a_score\", \"team_h_score\",\n",
    "    \"transfers_balance\", \"selected\", \"transfers_in\", \"transfers_out\", \"loaned_in\", \"loaned_out\", \"kickoff_time\"\n",
    "]\n",
    "\n",
    "pp02 = pp.copy()\n",
    "pp02 = pp02.drop(columns=columns_to_remove)"
   ]
  },
  {
   "cell_type": "code",
   "execution_count": null,
   "metadata": {
    "ExecuteTime": {
     "end_time": "2019-09-25T18:26:46.767428Z",
     "start_time": "2019-09-25T18:26:27.767Z"
    }
   },
   "outputs": [],
   "source": [
    "pp02.to_csv(r'../../data/csv/player_performance_03.csv',\n",
    "            index=False,\n",
    "            index_label=False)"
   ]
  },
  {
   "cell_type": "code",
   "execution_count": null,
   "metadata": {
    "ExecuteTime": {
     "end_time": "2019-09-25T18:26:46.768226Z",
     "start_time": "2019-09-25T18:26:27.771Z"
    }
   },
   "outputs": [],
   "source": [
    "pp02"
   ]
  },
  {
   "cell_type": "code",
   "execution_count": null,
   "metadata": {},
   "outputs": [],
   "source": []
  }
 ],
 "metadata": {
  "kernelspec": {
   "display_name": "Python 3",
   "language": "python",
   "name": "python3"
  },
  "language_info": {
   "codemirror_mode": {
    "name": "ipython",
    "version": 3
   },
   "file_extension": ".py",
   "mimetype": "text/x-python",
   "name": "python",
   "nbconvert_exporter": "python",
   "pygments_lexer": "ipython3",
   "version": "3.7.4"
  },
  "toc": {
   "base_numbering": 1,
   "nav_menu": {},
   "number_sections": true,
   "sideBar": true,
   "skip_h1_title": true,
   "title_cell": "Table of Contents",
   "title_sidebar": "Contents",
   "toc_cell": true,
   "toc_position": {},
   "toc_section_display": true,
   "toc_window_display": true
  }
 },
 "nbformat": 4,
 "nbformat_minor": 2
}
