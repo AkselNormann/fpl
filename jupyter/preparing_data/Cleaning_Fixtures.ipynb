{
 "cells": [
  {
   "cell_type": "markdown",
   "metadata": {},
   "source": [
    "# Cleaning Fixtures\n",
    "\n",
    "This will take the \"fixtures.json\" file and clean up for efficient use. The indices will be changed to begin at 0."
   ]
  },
  {
   "cell_type": "markdown",
   "metadata": {},
   "source": [
    "#### Import packages"
   ]
  },
  {
   "cell_type": "code",
   "execution_count": 1,
   "metadata": {},
   "outputs": [],
   "source": [
    "# Import packages\n",
    "import pandas as pd\n",
    "import numpy as np\n",
    "import json\n",
    "\n",
    "# Notebook settings\n",
    "pd.set_option('display.max_columns', None)"
   ]
  },
  {
   "cell_type": "markdown",
   "metadata": {},
   "source": [
    "#### Read json file and convert to DataFrame"
   ]
  },
  {
   "cell_type": "code",
   "execution_count": 2,
   "metadata": {},
   "outputs": [],
   "source": [
    "# Read fixtures json\n",
    "with open('../../data/json/fixtures/fixtures.json', 'r') as f:\n",
    "    fixtures_json = json.load(f)\n",
    "    \n",
    "# Convert json file to dateframe\n",
    "fixtures = pd.DataFrame(fixtures_json)"
   ]
  },
  {
   "cell_type": "markdown",
   "metadata": {},
   "source": [
    "#### Clean up DataFrame\n",
    "- Remove bloating columns\n",
    "- Convert kickoff time to datetime\n",
    "- Start indexing from 0"
   ]
  },
  {
   "cell_type": "code",
   "execution_count": 3,
   "metadata": {},
   "outputs": [
    {
     "data": {
      "text/html": [
       "<div>\n",
       "<style scoped>\n",
       "    .dataframe tbody tr th:only-of-type {\n",
       "        vertical-align: middle;\n",
       "    }\n",
       "\n",
       "    .dataframe tbody tr th {\n",
       "        vertical-align: top;\n",
       "    }\n",
       "\n",
       "    .dataframe thead th {\n",
       "        text-align: right;\n",
       "    }\n",
       "</style>\n",
       "<table border=\"1\" class=\"dataframe\">\n",
       "  <thead>\n",
       "    <tr style=\"text-align: right;\">\n",
       "      <th></th>\n",
       "      <th>id</th>\n",
       "      <th>kickoff_time</th>\n",
       "      <th>team_h</th>\n",
       "      <th>team_a</th>\n",
       "      <th>team_h_score</th>\n",
       "      <th>team_a_score</th>\n",
       "    </tr>\n",
       "  </thead>\n",
       "  <tbody>\n",
       "    <tr>\n",
       "      <th>0</th>\n",
       "      <td>0</td>\n",
       "      <td>2018-08-12 15:00:00+00:00</td>\n",
       "      <td>0</td>\n",
       "      <td>12</td>\n",
       "      <td>0</td>\n",
       "      <td>2</td>\n",
       "    </tr>\n",
       "    <tr>\n",
       "      <th>1</th>\n",
       "      <td>1</td>\n",
       "      <td>2018-08-11 14:00:00+00:00</td>\n",
       "      <td>1</td>\n",
       "      <td>4</td>\n",
       "      <td>2</td>\n",
       "      <td>0</td>\n",
       "    </tr>\n",
       "    <tr>\n",
       "      <th>2</th>\n",
       "      <td>2</td>\n",
       "      <td>2018-08-11 14:00:00+00:00</td>\n",
       "      <td>8</td>\n",
       "      <td>6</td>\n",
       "      <td>0</td>\n",
       "      <td>2</td>\n",
       "    </tr>\n",
       "    <tr>\n",
       "      <th>3</th>\n",
       "      <td>3</td>\n",
       "      <td>2018-08-11 14:00:00+00:00</td>\n",
       "      <td>9</td>\n",
       "      <td>5</td>\n",
       "      <td>0</td>\n",
       "      <td>3</td>\n",
       "    </tr>\n",
       "    <tr>\n",
       "      <th>4</th>\n",
       "      <td>4</td>\n",
       "      <td>2018-08-12 12:30:00+00:00</td>\n",
       "      <td>11</td>\n",
       "      <td>18</td>\n",
       "      <td>4</td>\n",
       "      <td>0</td>\n",
       "    </tr>\n",
       "  </tbody>\n",
       "</table>\n",
       "</div>"
      ],
      "text/plain": [
       "   id              kickoff_time  team_h  team_a  team_h_score  team_a_score\n",
       "0   0 2018-08-12 15:00:00+00:00       0      12             0             2\n",
       "1   1 2018-08-11 14:00:00+00:00       1       4             2             0\n",
       "2   2 2018-08-11 14:00:00+00:00       8       6             0             2\n",
       "3   3 2018-08-11 14:00:00+00:00       9       5             0             3\n",
       "4   4 2018-08-12 12:30:00+00:00      11      18             4             0"
      ]
     },
     "execution_count": 3,
     "metadata": {},
     "output_type": "execute_result"
    }
   ],
   "source": [
    "# Remove bloating columns\n",
    "keep_columns = ['id', 'kickoff_time', 'team_h', 'team_a', 'team_h_score', 'team_a_score']\n",
    "fixtures = fixtures[keep_columns]\n",
    "\n",
    "# Convert kickoff time string to a datetime\n",
    "fixtures['kickoff_time'] = pd.to_datetime(fixtures['kickoff_time'], utc=True)\n",
    "\n",
    "# Sort rows by fixture id and reset indexing\n",
    "fixtures = fixtures.sort_values(by=['id'])\n",
    "fixtures = fixtures.reset_index(drop=True)\n",
    "\n",
    "# Make sure team id begins counting from 0\n",
    "fixtures['team_h'] = fixtures['team_h']-1\n",
    "fixtures['team_a'] = fixtures['team_a']-1\n",
    "fixtures['id'] = fixtures['id']-1\n",
    "\n",
    "# View new DataFrame\n",
    "fixtures.head()"
   ]
  },
  {
   "cell_type": "markdown",
   "metadata": {},
   "source": [
    "#### Save as csv"
   ]
  },
  {
   "cell_type": "code",
   "execution_count": 4,
   "metadata": {},
   "outputs": [],
   "source": [
    "# Save csv\n",
    "fixtures.to_csv(r'../../data/csv/fixtures.csv', index_label=False, index=False)"
   ]
  }
 ],
 "metadata": {
  "kernelspec": {
   "display_name": "Python 3",
   "language": "python",
   "name": "python3"
  },
  "language_info": {
   "codemirror_mode": {
    "name": "ipython",
    "version": 3
   },
   "file_extension": ".py",
   "mimetype": "text/x-python",
   "name": "python",
   "nbconvert_exporter": "python",
   "pygments_lexer": "ipython3",
   "version": "3.7.3"
  }
 },
 "nbformat": 4,
 "nbformat_minor": 2
}
