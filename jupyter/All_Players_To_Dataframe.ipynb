{
 "cells": [
  {
   "cell_type": "code",
   "execution_count": null,
   "metadata": {},
   "outputs": [],
   "source": []
  },
  {
   "cell_type": "code",
   "execution_count": 3,
   "metadata": {},
   "outputs": [],
   "source": [
    "# Import Packages\n",
    "import pandas as pd\n",
    "import numpy as np\n",
    "import matplotlib.pyplot as plt\n",
    "import datetime\n",
    "import json"
   ]
  },
  {
   "cell_type": "code",
   "execution_count": 5,
   "metadata": {},
   "outputs": [],
   "source": [
    "# number of players\n",
    "nPlayers = 1\n",
    "\n",
    "# Loop through all players\n",
    "for i in range(1,nPlayers+1):\n",
    "    \n",
    "    # Open json file\n",
    "    with open('../data/json/element-summary/' + str(i) + '.json') as f:\n",
    "        es = json.load(f)\n",
    "        \n",
    "    # Number of fixtures for this player\n",
    "    "
   ]
  },
  {
   "cell_type": "code",
   "execution_count": 17,
   "metadata": {},
   "outputs": [
    {
     "name": "stdout",
     "output_type": "stream",
     "text": [
      "[1, '2018-08-12T15:00:00Z', '12 Aug 16:00', 0, 2, True, 1, 3, 50, 0, 70767, 0, 0, 0, 0, 90, 0, 0, 0, 2, 0, 0, 0, 0, 0, 6, 0, 24, '47.0', '0.0', '0.0', '4.7', 0, 0, 0, 2, 9, 0, 0, 0, 42, 31, 0, 0, 0, 0, 0, 0, 0, 0, 0, 1, 1, 13]\n"
     ]
    }
   ],
   "source": [
    "print(list(es['history'][0].values()))"
   ]
  },
  {
   "cell_type": "code",
   "execution_count": null,
   "metadata": {},
   "outputs": [],
   "source": []
  }
 ],
 "metadata": {
  "kernelspec": {
   "display_name": "Python 3",
   "language": "python",
   "name": "python3"
  },
  "language_info": {
   "codemirror_mode": {
    "name": "ipython",
    "version": 3
   },
   "file_extension": ".py",
   "mimetype": "text/x-python",
   "name": "python",
   "nbconvert_exporter": "python",
   "pygments_lexer": "ipython3",
   "version": "3.7.3"
  }
 },
 "nbformat": 4,
 "nbformat_minor": 2
}
