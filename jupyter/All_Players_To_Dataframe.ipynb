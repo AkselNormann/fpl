{
 "cells": [
  {
   "cell_type": "markdown",
   "metadata": {},
   "source": [
    "# All players data to a dataframe\n",
    "\n",
    "This script will extract stats from element-summary/history and append to a single table."
   ]
  },
  {
   "cell_type": "code",
   "execution_count": 21,
   "metadata": {},
   "outputs": [],
   "source": [
    "# Import Packages\n",
    "import pandas as pd\n",
    "import numpy as np\n",
    "import matplotlib.pyplot as plt\n",
    "import datetime\n",
    "import json\n",
    "import time\n",
    "\n",
    "pd.set_option('display.max_columns', 10)"
   ]
  },
  {
   "cell_type": "code",
   "execution_count": 22,
   "metadata": {},
   "outputs": [
    {
     "name": "stdout",
     "output_type": "stream",
     "text": [
      "--- 1.7080111503601074 seconds ---\n"
     ]
    }
   ],
   "source": [
    "# Start timer\n",
    "start_time = time.time()\n",
    "\n",
    "# number of players\n",
    "nPlayers = 624\n",
    "\n",
    "# initialise count\n",
    "count = 0;\n",
    "\n",
    "# get column names\n",
    "gcn = True\n",
    "\n",
    "data_dict = dict()\n",
    "\n",
    "# Loop through all players\n",
    "for i in range(1,nPlayers+1):\n",
    "    \n",
    "    # Open json file\n",
    "    with open('../data/json/element-summary/' + str(i) + '.json') as f:\n",
    "        es = json.load(f)\n",
    "        \n",
    "    # Number of fixtures for this player\n",
    "    nFixtures = len(es[\"history\"])\n",
    "    \n",
    "    # Get column names. only do this once\n",
    "    if gcn:\n",
    "        cn = es[\"history\"][0].keys()\n",
    "        gcn = False\n",
    "    \n",
    "    # Loop through this players fixtures\n",
    "    for m in range(0, nFixtures):\n",
    "        a = es[\"history\"][m].values()\n",
    "        data_dict[count] = a\n",
    "        count = count+1\n",
    "\n",
    "data = pd.DataFrame.from_dict(data_dict, \"index\", columns=cn)\n",
    "print(\"--- %s seconds ---\" % (time.time() - start_time))"
   ]
  },
  {
   "cell_type": "markdown",
   "metadata": {},
   "source": [
    "This method reads each fixture's statistics as dictionary values and appends them to a master dictionary. Converting each fixture to a dataframe and then appending to a larger dataframe is much slower, as a copy of the dataframe is stored in memory every time something is appended."
   ]
  },
  {
   "cell_type": "code",
   "execution_count": 23,
   "metadata": {},
   "outputs": [
    {
     "data": {
      "text/html": [
       "<div>\n",
       "<style scoped>\n",
       "    .dataframe tbody tr th:only-of-type {\n",
       "        vertical-align: middle;\n",
       "    }\n",
       "\n",
       "    .dataframe tbody tr th {\n",
       "        vertical-align: top;\n",
       "    }\n",
       "\n",
       "    .dataframe thead th {\n",
       "        text-align: right;\n",
       "    }\n",
       "</style>\n",
       "<table border=\"1\" class=\"dataframe\">\n",
       "  <thead>\n",
       "    <tr style=\"text-align: right;\">\n",
       "      <th></th>\n",
       "      <th>id</th>\n",
       "      <th>kickoff_time</th>\n",
       "      <th>kickoff_time_formatted</th>\n",
       "      <th>team_h_score</th>\n",
       "      <th>team_a_score</th>\n",
       "      <th>...</th>\n",
       "      <th>fouls</th>\n",
       "      <th>dribbles</th>\n",
       "      <th>element</th>\n",
       "      <th>fixture</th>\n",
       "      <th>opponent_team</th>\n",
       "    </tr>\n",
       "  </thead>\n",
       "  <tbody>\n",
       "    <tr>\n",
       "      <th>0</th>\n",
       "      <td>1</td>\n",
       "      <td>2018-08-12T15:00:00Z</td>\n",
       "      <td>12 Aug 16:00</td>\n",
       "      <td>0</td>\n",
       "      <td>2</td>\n",
       "      <td>...</td>\n",
       "      <td>0</td>\n",
       "      <td>0</td>\n",
       "      <td>1</td>\n",
       "      <td>1</td>\n",
       "      <td>13</td>\n",
       "    </tr>\n",
       "    <tr>\n",
       "      <th>1</th>\n",
       "      <td>526</td>\n",
       "      <td>2018-08-18T16:30:00Z</td>\n",
       "      <td>18 Aug 17:30</td>\n",
       "      <td>3</td>\n",
       "      <td>2</td>\n",
       "      <td>...</td>\n",
       "      <td>0</td>\n",
       "      <td>0</td>\n",
       "      <td>1</td>\n",
       "      <td>14</td>\n",
       "      <td>6</td>\n",
       "    </tr>\n",
       "    <tr>\n",
       "      <th>2</th>\n",
       "      <td>1053</td>\n",
       "      <td>2018-08-25T14:00:00Z</td>\n",
       "      <td>25 Aug 15:00</td>\n",
       "      <td>3</td>\n",
       "      <td>1</td>\n",
       "      <td>...</td>\n",
       "      <td>0</td>\n",
       "      <td>0</td>\n",
       "      <td>1</td>\n",
       "      <td>21</td>\n",
       "      <td>19</td>\n",
       "    </tr>\n",
       "    <tr>\n",
       "      <th>3</th>\n",
       "      <td>1584</td>\n",
       "      <td>2018-09-02T12:30:00Z</td>\n",
       "      <td>02 Sep 13:30</td>\n",
       "      <td>2</td>\n",
       "      <td>3</td>\n",
       "      <td>...</td>\n",
       "      <td>0</td>\n",
       "      <td>0</td>\n",
       "      <td>1</td>\n",
       "      <td>33</td>\n",
       "      <td>5</td>\n",
       "    </tr>\n",
       "    <tr>\n",
       "      <th>4</th>\n",
       "      <td>2121</td>\n",
       "      <td>2018-09-15T14:00:00Z</td>\n",
       "      <td>15 Sep 15:00</td>\n",
       "      <td>1</td>\n",
       "      <td>2</td>\n",
       "      <td>...</td>\n",
       "      <td>0</td>\n",
       "      <td>0</td>\n",
       "      <td>1</td>\n",
       "      <td>46</td>\n",
       "      <td>15</td>\n",
       "    </tr>\n",
       "  </tbody>\n",
       "</table>\n",
       "<p>5 rows × 54 columns</p>\n",
       "</div>"
      ],
      "text/plain": [
       "     id          kickoff_time kickoff_time_formatted  team_h_score  \\\n",
       "0     1  2018-08-12T15:00:00Z           12 Aug 16:00             0   \n",
       "1   526  2018-08-18T16:30:00Z           18 Aug 17:30             3   \n",
       "2  1053  2018-08-25T14:00:00Z           25 Aug 15:00             3   \n",
       "3  1584  2018-09-02T12:30:00Z           02 Sep 13:30             2   \n",
       "4  2121  2018-09-15T14:00:00Z           15 Sep 15:00             1   \n",
       "\n",
       "   team_a_score  ...  fouls  dribbles  element  fixture  opponent_team  \n",
       "0             2  ...      0         0        1        1             13  \n",
       "1             2  ...      0         0        1       14              6  \n",
       "2             1  ...      0         0        1       21             19  \n",
       "3             3  ...      0         0        1       33              5  \n",
       "4             2  ...      0         0        1       46             15  \n",
       "\n",
       "[5 rows x 54 columns]"
      ]
     },
     "execution_count": 23,
     "metadata": {},
     "output_type": "execute_result"
    }
   ],
   "source": [
    "data.head()"
   ]
  },
  {
   "cell_type": "code",
   "execution_count": 20,
   "metadata": {},
   "outputs": [],
   "source": [
    "# Save a csv\n",
    "data.to_csv(r'../data/csv/allplayers.csv')"
   ]
  },
  {
   "cell_type": "code",
   "execution_count": null,
   "metadata": {},
   "outputs": [],
   "source": []
  }
 ],
 "metadata": {
  "kernelspec": {
   "display_name": "Python 3",
   "language": "python",
   "name": "python3"
  },
  "language_info": {
   "codemirror_mode": {
    "name": "ipython",
    "version": 3
   },
   "file_extension": ".py",
   "mimetype": "text/x-python",
   "name": "python",
   "nbconvert_exporter": "python",
   "pygments_lexer": "ipython3",
   "version": "3.7.3"
  }
 },
 "nbformat": 4,
 "nbformat_minor": 2
}
